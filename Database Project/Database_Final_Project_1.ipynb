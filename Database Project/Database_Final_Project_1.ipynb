{
 "cells": [
  {
   "cell_type": "code",
   "execution_count": 23,
   "metadata": {
    "collapsed": false
   },
   "outputs": [
    {
     "name": "stdout",
     "output_type": "stream",
     "text": [
      "The sql extension is already loaded. To reload it, use:\n",
      "  %reload_ext sql\n"
     ]
    }
   ],
   "source": [
    "%load_ext sql"
   ]
  },
  {
   "cell_type": "code",
   "execution_count": 5,
   "metadata": {
    "collapsed": false
   },
   "outputs": [
    {
     "data": {
      "text/plain": [
       "u'Connected: None@database_1.db'"
      ]
     },
     "execution_count": 5,
     "metadata": {},
     "output_type": "execute_result"
    }
   ],
   "source": [
    "%sql sqlite:///database_1.db"
   ]
  },
  {
   "cell_type": "code",
   "execution_count": 3,
   "metadata": {
    "collapsed": false
   },
   "outputs": [
    {
     "name": "stdout",
     "output_type": "stream",
     "text": [
      "Done.\n"
     ]
    },
    {
     "data": {
      "text/plain": [
       "[]"
      ]
     },
     "execution_count": 3,
     "metadata": {},
     "output_type": "execute_result"
    }
   ],
   "source": [
    "%%sql\n",
    "CREATE TABLE STUDENT (\n",
    "    FirstName VARCHAR(50) NOT NULL, \n",
    "    LastName VARCHAR(50) NOT NULL,\n",
    "    Major VARCHAR(30),\n",
    "    StudentID INT NOT NULL UNIQUE, \n",
    "    PRIMARY KEY (StudentID)\n",
    ");"
   ]
  },
  {
   "cell_type": "code",
   "execution_count": 8,
   "metadata": {
    "collapsed": false
   },
   "outputs": [
    {
     "name": "stdout",
     "output_type": "stream",
     "text": [
      "Done.\n"
     ]
    },
    {
     "data": {
      "text/plain": [
       "[]"
      ]
     },
     "execution_count": 8,
     "metadata": {},
     "output_type": "execute_result"
    }
   ],
   "source": [
    "%%sql\n",
    "CREATE TABLE COURSE (\n",
    "    Department VARCHAR(30) NOT NULL, \n",
    "    CourseNumber INT NOT NULL, \n",
    "    CourseName VARCHAR(50) NOT NULL, \n",
    "    Term VARCHAR(15) NOT NULL,\n",
    "    Year INT NOT NULL,\n",
    "    CourseID INT NOT NULL UNIQUE,\n",
    "    PRIMARY KEY (CourseID)\n",
    ");"
   ]
  },
  {
   "cell_type": "code",
   "execution_count": 7,
   "metadata": {
    "collapsed": false
   },
   "outputs": [
    {
     "name": "stdout",
     "output_type": "stream",
     "text": [
      "Done.\n"
     ]
    },
    {
     "data": {
      "text/plain": [
       "[]"
      ]
     },
     "execution_count": 7,
     "metadata": {},
     "output_type": "execute_result"
    }
   ],
   "source": [
    "%%sql\n",
    "CREATE TABLE ENROLLMENT (\n",
    "    StudentID INT NOT NULL,\n",
    "    CourseID INT NOT NULL,\n",
    "    PRIMARY KEY(StudentID, CourseID)\n",
    ");"
   ]
  },
  {
   "cell_type": "code",
   "execution_count": 8,
   "metadata": {
    "collapsed": false
   },
   "outputs": [
    {
     "name": "stdout",
     "output_type": "stream",
     "text": [
      "Done.\n"
     ]
    },
    {
     "data": {
      "text/plain": [
       "[]"
      ]
     },
     "execution_count": 8,
     "metadata": {},
     "output_type": "execute_result"
    }
   ],
   "source": [
    "%%sql\n",
    "CREATE TABLE DISTRIBUTION (\n",
    "    DistributionID INT NOT NULL UNIQUE,\n",
    "    CourseID INT NOT NULL,\n",
    "    CategoryName VARCHAR(30) NOT NULL,\n",
    "    PERCENTAGE INT NOT NULL,\n",
    "    PRIMARY KEY(DistributionID)\n",
    ");"
   ]
  },
  {
   "cell_type": "code",
   "execution_count": 10,
   "metadata": {
    "collapsed": false
   },
   "outputs": [
    {
     "name": "stdout",
     "output_type": "stream",
     "text": [
      "Done.\n"
     ]
    },
    {
     "data": {
      "text/plain": [
       "[]"
      ]
     },
     "execution_count": 10,
     "metadata": {},
     "output_type": "execute_result"
    }
   ],
   "source": [
    "%%sql\n",
    "CREATE TABLE ASSIGNMENT (\n",
    "    AssignmentID INT NOT NULL UNIQUE,\n",
    "    DistributionID INT NOT NULL,\n",
    "    Instance INT NOT NULL, \n",
    "    PointsPossible INT DEFAULT 0 NOT NULL,\n",
    "    PRIMARY KEY(AssignmentID)\n",
    ");"
   ]
  },
  {
   "cell_type": "code",
   "execution_count": 11,
   "metadata": {
    "collapsed": false
   },
   "outputs": [
    {
     "name": "stdout",
     "output_type": "stream",
     "text": [
      "Done.\n"
     ]
    },
    {
     "data": {
      "text/plain": [
       "[]"
      ]
     },
     "execution_count": 11,
     "metadata": {},
     "output_type": "execute_result"
    }
   ],
   "source": [
    "%%sql\n",
    "CREATE TABLE SCORE (\n",
    "    StudentID INT NOT NULL,\n",
    "    AssignmentID INT NOT NULL,\n",
    "    Points INT DEFAULT 0 NOT NULL,\n",
    "    PRIMARY KEY(StudentID, AssignmentID)\n",
    ");"
   ]
  },
  {
   "cell_type": "code",
   "execution_count": 12,
   "metadata": {
    "collapsed": false
   },
   "outputs": [
    {
     "name": "stdout",
     "output_type": "stream",
     "text": [
      "1 rows affected.\n",
      "1 rows affected.\n",
      "1 rows affected.\n",
      "1 rows affected.\n",
      "1 rows affected.\n",
      "1 rows affected.\n"
     ]
    },
    {
     "data": {
      "text/plain": [
       "[]"
      ]
     },
     "execution_count": 12,
     "metadata": {},
     "output_type": "execute_result"
    }
   ],
   "source": [
    "%%sql\n",
    "INSERT INTO STUDENT VALUES('Richard', 'Hendricks', 'Computer Science', 1234);\n",
    "INSERT INTO STUDENT VALUES('Jared', 'Dunn', 'Management Science', 5678);\n",
    "INSERT INTO STUDENT VALUES('Erlich', 'Bachman', 'Aviato', 3456);\n",
    "INSERT INTO STUDENT VALUES('Jimmy', 'Quoyang', 'Marine Biology', 4590);\n",
    "INSERT INTO STUDENT VALUES('Dinesh', 'Gilfoyle', 'Computer Engineering', 5337);\n",
    "INSERT INTO STUDENT VALUES('John', 'Doe', 'English', 5555);"
   ]
  },
  {
   "cell_type": "code",
   "execution_count": 26,
   "metadata": {
    "collapsed": false
   },
   "outputs": [
    {
     "name": "stdout",
     "output_type": "stream",
     "text": [
      "Done.\n"
     ]
    },
    {
     "data": {
      "text/html": [
       "<table>\n",
       "    <tr>\n",
       "        <th>FirstName</th>\n",
       "        <th>LastName</th>\n",
       "        <th>Major</th>\n",
       "        <th>StudentID</th>\n",
       "    </tr>\n",
       "    <tr>\n",
       "        <td>Richard</td>\n",
       "        <td>Hendricks</td>\n",
       "        <td>Computer Science</td>\n",
       "        <td>1234</td>\n",
       "    </tr>\n",
       "    <tr>\n",
       "        <td>Jared</td>\n",
       "        <td>Dunn</td>\n",
       "        <td>Management Science</td>\n",
       "        <td>5678</td>\n",
       "    </tr>\n",
       "    <tr>\n",
       "        <td>Erlich</td>\n",
       "        <td>Bachman</td>\n",
       "        <td>Aviato</td>\n",
       "        <td>3456</td>\n",
       "    </tr>\n",
       "    <tr>\n",
       "        <td>Jimmy</td>\n",
       "        <td>Quoyang</td>\n",
       "        <td>Marine Biology</td>\n",
       "        <td>4590</td>\n",
       "    </tr>\n",
       "    <tr>\n",
       "        <td>Dinesh</td>\n",
       "        <td>Gilfoyle</td>\n",
       "        <td>Computer Engineering</td>\n",
       "        <td>5337</td>\n",
       "    </tr>\n",
       "    <tr>\n",
       "        <td>John</td>\n",
       "        <td>Doe</td>\n",
       "        <td>English</td>\n",
       "        <td>5555</td>\n",
       "    </tr>\n",
       "</table>"
      ],
      "text/plain": [
       "[(u'Richard', u'Hendricks', u'Computer Science', 1234),\n",
       " (u'Jared', u'Dunn', u'Management Science', 5678),\n",
       " (u'Erlich', u'Bachman', u'Aviato', 3456),\n",
       " (u'Jimmy', u'Quoyang', u'Marine Biology', 4590),\n",
       " (u'Dinesh', u'Gilfoyle', u'Computer Engineering', 5337),\n",
       " (u'John', u'Doe', u'English', 5555)]"
      ]
     },
     "execution_count": 26,
     "metadata": {},
     "output_type": "execute_result"
    }
   ],
   "source": [
    "%sql select * from STUDENT;"
   ]
  },
  {
   "cell_type": "code",
   "execution_count": null,
   "metadata": {
    "collapsed": true
   },
   "outputs": [],
   "source": []
  }
 ],
 "metadata": {
  "kernelspec": {
   "display_name": "Python 2",
   "language": "python",
   "name": "python2"
  },
  "language_info": {
   "codemirror_mode": {
    "name": "ipython",
    "version": 2
   },
   "file_extension": ".py",
   "mimetype": "text/x-python",
   "name": "python",
   "nbconvert_exporter": "python",
   "pygments_lexer": "ipython2",
   "version": "2.7.13"
  }
 },
 "nbformat": 4,
 "nbformat_minor": 2
}
