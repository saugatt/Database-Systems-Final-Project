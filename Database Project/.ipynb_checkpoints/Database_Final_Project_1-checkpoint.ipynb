{
 "cells": [
  {
   "cell_type": "code",
   "execution_count": 108,
   "metadata": {
    "collapsed": false
   },
   "outputs": [
    {
     "name": "stdout",
     "output_type": "stream",
     "text": [
      "The sql extension is already loaded. To reload it, use:\n",
      "  %reload_ext sql\n"
     ]
    }
   ],
   "source": [
    "%load_ext sql"
   ]
  },
  {
   "cell_type": "code",
   "execution_count": 3,
   "metadata": {
    "collapsed": false
   },
   "outputs": [
    {
     "data": {
      "text/plain": [
       "u'Connected: None@database_1.db'"
      ]
     },
     "execution_count": 3,
     "metadata": {},
     "output_type": "execute_result"
    }
   ],
   "source": [
    "%sql sqlite:///database_1.db"
   ]
  },
  {
   "cell_type": "code",
   "execution_count": 260,
   "metadata": {
    "collapsed": false
   },
   "outputs": [
    {
     "name": "stdout",
     "output_type": "stream",
     "text": [
      "Done.\n",
      "Done.\n"
     ]
    },
    {
     "data": {
      "text/plain": [
       "[]"
      ]
     },
     "execution_count": 260,
     "metadata": {},
     "output_type": "execute_result"
    }
   ],
   "source": [
    "%%sql\n",
    "\n",
    "drop table if exists STUDENT;\n",
    "\n",
    "CREATE TABLE STUDENT (\n",
    "    FirstName VARCHAR(50) NOT NULL, \n",
    "    LastName VARCHAR(50) NOT NULL,\n",
    "    Major VARCHAR(30),\n",
    "    StudentID INT NOT NULL UNIQUE, \n",
    "    PRIMARY KEY (StudentID)\n",
    ");"
   ]
  },
  {
   "cell_type": "code",
   "execution_count": 261,
   "metadata": {
    "collapsed": false
   },
   "outputs": [
    {
     "name": "stdout",
     "output_type": "stream",
     "text": [
      "Done.\n",
      "Done.\n"
     ]
    },
    {
     "data": {
      "text/plain": [
       "[]"
      ]
     },
     "execution_count": 261,
     "metadata": {},
     "output_type": "execute_result"
    }
   ],
   "source": [
    "%%sql\n",
    "drop table if exists COURSE;\n",
    "\n",
    "CREATE TABLE COURSE (\n",
    "    Department VARCHAR(30) NOT NULL, \n",
    "    CourseNumber INT NOT NULL, \n",
    "    CourseName VARCHAR(50) NOT NULL, \n",
    "    Term VARCHAR(15) NOT NULL,\n",
    "    Year INT NOT NULL,\n",
    "    CourseID INT NOT NULL UNIQUE,\n",
    "    PRIMARY KEY (CourseID)\n",
    ");"
   ]
  },
  {
   "cell_type": "code",
   "execution_count": 262,
   "metadata": {
    "collapsed": false
   },
   "outputs": [
    {
     "name": "stdout",
     "output_type": "stream",
     "text": [
      "Done.\n",
      "Done.\n"
     ]
    },
    {
     "data": {
      "text/plain": [
       "[]"
      ]
     },
     "execution_count": 262,
     "metadata": {},
     "output_type": "execute_result"
    }
   ],
   "source": [
    "%%sql\n",
    "\n",
    "drop table if exists ENROLLMENT;\n",
    "\n",
    "CREATE TABLE ENROLLMENT (\n",
    "    StudentID INT NOT NULL,\n",
    "    CourseID INT NOT NULL,\n",
    "    PRIMARY KEY(StudentID, CourseID)\n",
    ");"
   ]
  },
  {
   "cell_type": "code",
   "execution_count": 263,
   "metadata": {
    "collapsed": false
   },
   "outputs": [
    {
     "name": "stdout",
     "output_type": "stream",
     "text": [
      "Done.\n",
      "Done.\n"
     ]
    },
    {
     "data": {
      "text/plain": [
       "[]"
      ]
     },
     "execution_count": 263,
     "metadata": {},
     "output_type": "execute_result"
    }
   ],
   "source": [
    "%%sql\n",
    "\n",
    "drop table if exists DISTRIBUTION;\n",
    "\n",
    "CREATE TABLE DISTRIBUTION (\n",
    "    DistributionID INT NOT NULL UNIQUE,\n",
    "    CourseID INT NOT NULL,\n",
    "    CategoryName VARCHAR(30) NOT NULL,\n",
    "    PERCENTAGE INT NOT NULL,\n",
    "    PRIMARY KEY(DistributionID)\n",
    ");"
   ]
  },
  {
   "cell_type": "code",
   "execution_count": 264,
   "metadata": {
    "collapsed": false
   },
   "outputs": [
    {
     "name": "stdout",
     "output_type": "stream",
     "text": [
      "Done.\n",
      "Done.\n"
     ]
    },
    {
     "data": {
      "text/plain": [
       "[]"
      ]
     },
     "execution_count": 264,
     "metadata": {},
     "output_type": "execute_result"
    }
   ],
   "source": [
    "%%sql\n",
    "\n",
    "drop table if exists ASSIGNMENT;\n",
    "\n",
    "CREATE TABLE ASSIGNMENT (\n",
    "    AssignmentID INT NOT NULL UNIQUE,\n",
    "    DistributionID INT NOT NULL,\n",
    "    Instance INT NOT NULL, \n",
    "    PointsPossible INT DEFAULT 0 NOT NULL,\n",
    "    PRIMARY KEY(AssignmentID)\n",
    ");"
   ]
  },
  {
   "cell_type": "code",
   "execution_count": 265,
   "metadata": {
    "collapsed": false
   },
   "outputs": [
    {
     "name": "stdout",
     "output_type": "stream",
     "text": [
      "Done.\n",
      "Done.\n"
     ]
    },
    {
     "data": {
      "text/plain": [
       "[]"
      ]
     },
     "execution_count": 265,
     "metadata": {},
     "output_type": "execute_result"
    }
   ],
   "source": [
    "%%sql\n",
    "\n",
    "drop table if exists SCORE;\n",
    "\n",
    "CREATE TABLE SCORE (\n",
    "    StudentID INT NOT NULL,\n",
    "    AssignmentID INT NOT NULL,\n",
    "    Points INT DEFAULT 0 NOT NULL,\n",
    "    PRIMARY KEY(StudentID, AssignmentID)\n",
    ");"
   ]
  },
  {
   "cell_type": "code",
   "execution_count": 266,
   "metadata": {
    "collapsed": false
   },
   "outputs": [
    {
     "name": "stdout",
     "output_type": "stream",
     "text": [
      "1 rows affected.\n",
      "1 rows affected.\n",
      "1 rows affected.\n",
      "1 rows affected.\n",
      "1 rows affected.\n",
      "1 rows affected.\n"
     ]
    },
    {
     "data": {
      "text/plain": [
       "[]"
      ]
     },
     "execution_count": 266,
     "metadata": {},
     "output_type": "execute_result"
    }
   ],
   "source": [
    "%%sql\n",
    "\n",
    "INSERT INTO STUDENT VALUES('Richard', 'Hendricks', 'Computer Science', 1234);\n",
    "INSERT INTO STUDENT VALUES('Jared', 'Dunn', 'Management Science', 5678);\n",
    "INSERT INTO STUDENT VALUES('Erlich', 'Bachman', 'Aviato', 3456);\n",
    "INSERT INTO STUDENT VALUES('Jimmy', 'Quoyang', 'Marine Biology', 4590);\n",
    "INSERT INTO STUDENT VALUES('Dinesh', 'Gilfoyle', 'Computer Engineering', 5337);\n",
    "INSERT INTO STUDENT VALUES('John', 'Doe', 'English', 5555);"
   ]
  },
  {
   "cell_type": "code",
   "execution_count": 267,
   "metadata": {
    "collapsed": false
   },
   "outputs": [
    {
     "name": "stdout",
     "output_type": "stream",
     "text": [
      "Done.\n"
     ]
    },
    {
     "data": {
      "text/html": [
       "<table>\n",
       "    <tr>\n",
       "        <th>FirstName</th>\n",
       "        <th>LastName</th>\n",
       "        <th>Major</th>\n",
       "        <th>StudentID</th>\n",
       "    </tr>\n",
       "    <tr>\n",
       "        <td>Richard</td>\n",
       "        <td>Hendricks</td>\n",
       "        <td>Computer Science</td>\n",
       "        <td>1234</td>\n",
       "    </tr>\n",
       "    <tr>\n",
       "        <td>Jared</td>\n",
       "        <td>Dunn</td>\n",
       "        <td>Management Science</td>\n",
       "        <td>5678</td>\n",
       "    </tr>\n",
       "    <tr>\n",
       "        <td>Erlich</td>\n",
       "        <td>Bachman</td>\n",
       "        <td>Aviato</td>\n",
       "        <td>3456</td>\n",
       "    </tr>\n",
       "    <tr>\n",
       "        <td>Jimmy</td>\n",
       "        <td>Quoyang</td>\n",
       "        <td>Marine Biology</td>\n",
       "        <td>4590</td>\n",
       "    </tr>\n",
       "    <tr>\n",
       "        <td>Dinesh</td>\n",
       "        <td>Gilfoyle</td>\n",
       "        <td>Computer Engineering</td>\n",
       "        <td>5337</td>\n",
       "    </tr>\n",
       "    <tr>\n",
       "        <td>John</td>\n",
       "        <td>Doe</td>\n",
       "        <td>English</td>\n",
       "        <td>5555</td>\n",
       "    </tr>\n",
       "</table>"
      ],
      "text/plain": [
       "[(u'Richard', u'Hendricks', u'Computer Science', 1234),\n",
       " (u'Jared', u'Dunn', u'Management Science', 5678),\n",
       " (u'Erlich', u'Bachman', u'Aviato', 3456),\n",
       " (u'Jimmy', u'Quoyang', u'Marine Biology', 4590),\n",
       " (u'Dinesh', u'Gilfoyle', u'Computer Engineering', 5337),\n",
       " (u'John', u'Doe', u'English', 5555)]"
      ]
     },
     "execution_count": 267,
     "metadata": {},
     "output_type": "execute_result"
    }
   ],
   "source": [
    "%%sql\n",
    "\n",
    "SELECT * FROM STUDENT;"
   ]
  },
  {
   "cell_type": "code",
   "execution_count": 268,
   "metadata": {
    "collapsed": false
   },
   "outputs": [
    {
     "name": "stdout",
     "output_type": "stream",
     "text": [
      "1 rows affected.\n",
      "1 rows affected.\n",
      "1 rows affected.\n",
      "1 rows affected.\n",
      "1 rows affected.\n"
     ]
    },
    {
     "data": {
      "text/plain": [
       "[]"
      ]
     },
     "execution_count": 268,
     "metadata": {},
     "output_type": "execute_result"
    }
   ],
   "source": [
    "%%sql \n",
    "\n",
    "INSERT INTO COURSE VALUES('Math', 157, 'Calculus-2', 'Fall', 2017, 85675);\n",
    "INSERT INTO COURSE VALUES('Computer Science', 350, 'Programming Languages', 'Spring', 2017, 89994);\n",
    "INSERT INTO COURSE VALUES('English', 109, 'Technical Writing', 'Fall', 2016, 56738);\n",
    "INSERT INTO COURSE VALUES('Computer Science', 533, 'Senior Project', 'Spring', 2017, 90573);\n",
    "INSERT INTO COURSE VALUES('Physics', 100, 'Mechanics', 'Fall', 2016, 48387);"
   ]
  },
  {
   "cell_type": "code",
   "execution_count": 269,
   "metadata": {
    "collapsed": false
   },
   "outputs": [
    {
     "name": "stdout",
     "output_type": "stream",
     "text": [
      "Done.\n"
     ]
    },
    {
     "data": {
      "text/html": [
       "<table>\n",
       "    <tr>\n",
       "        <th>Department</th>\n",
       "        <th>CourseNumber</th>\n",
       "        <th>CourseName</th>\n",
       "        <th>Term</th>\n",
       "        <th>Year</th>\n",
       "        <th>CourseID</th>\n",
       "    </tr>\n",
       "    <tr>\n",
       "        <td>Math</td>\n",
       "        <td>157</td>\n",
       "        <td>Calculus-2</td>\n",
       "        <td>Fall</td>\n",
       "        <td>2017</td>\n",
       "        <td>85675</td>\n",
       "    </tr>\n",
       "    <tr>\n",
       "        <td>Computer Science</td>\n",
       "        <td>350</td>\n",
       "        <td>Programming Languages</td>\n",
       "        <td>Spring</td>\n",
       "        <td>2017</td>\n",
       "        <td>89994</td>\n",
       "    </tr>\n",
       "    <tr>\n",
       "        <td>English</td>\n",
       "        <td>109</td>\n",
       "        <td>Technical Writing</td>\n",
       "        <td>Fall</td>\n",
       "        <td>2016</td>\n",
       "        <td>56738</td>\n",
       "    </tr>\n",
       "    <tr>\n",
       "        <td>Computer Science</td>\n",
       "        <td>533</td>\n",
       "        <td>Senior Project</td>\n",
       "        <td>Spring</td>\n",
       "        <td>2017</td>\n",
       "        <td>90573</td>\n",
       "    </tr>\n",
       "    <tr>\n",
       "        <td>Physics</td>\n",
       "        <td>100</td>\n",
       "        <td>Mechanics</td>\n",
       "        <td>Fall</td>\n",
       "        <td>2016</td>\n",
       "        <td>48387</td>\n",
       "    </tr>\n",
       "</table>"
      ],
      "text/plain": [
       "[(u'Math', 157, u'Calculus-2', u'Fall', 2017, 85675),\n",
       " (u'Computer Science', 350, u'Programming Languages', u'Spring', 2017, 89994),\n",
       " (u'English', 109, u'Technical Writing', u'Fall', 2016, 56738),\n",
       " (u'Computer Science', 533, u'Senior Project', u'Spring', 2017, 90573),\n",
       " (u'Physics', 100, u'Mechanics', u'Fall', 2016, 48387)]"
      ]
     },
     "execution_count": 269,
     "metadata": {},
     "output_type": "execute_result"
    }
   ],
   "source": [
    "%%sql\n",
    "\n",
    "SELECT * FROM COURSE;"
   ]
  },
  {
   "cell_type": "code",
   "execution_count": 270,
   "metadata": {
    "collapsed": false
   },
   "outputs": [
    {
     "name": "stdout",
     "output_type": "stream",
     "text": [
      "1 rows affected.\n",
      "1 rows affected.\n",
      "1 rows affected.\n",
      "1 rows affected.\n",
      "1 rows affected.\n",
      "1 rows affected.\n",
      "1 rows affected.\n",
      "1 rows affected.\n",
      "1 rows affected.\n",
      "1 rows affected.\n",
      "1 rows affected.\n",
      "1 rows affected.\n",
      "1 rows affected.\n",
      "1 rows affected.\n",
      "1 rows affected.\n",
      "1 rows affected.\n"
     ]
    },
    {
     "data": {
      "text/plain": [
       "[]"
      ]
     },
     "execution_count": 270,
     "metadata": {},
     "output_type": "execute_result"
    }
   ],
   "source": [
    "%%sql \n",
    "\n",
    "INSERT INTO ENROLLMENT VALUES(1234, 85675);\n",
    "INSERT INTO ENROLLMENT VALUES(5678, 85675);\n",
    "INSERT INTO ENROLLMENT VALUES(3456, 85675);\n",
    "INSERT INTO ENROLLMENT VALUES(4590, 85675);\n",
    "INSERT INTO ENROLLMENT VALUES(5337, 85675);\n",
    "INSERT INTO ENROLLMENT VALUES(5555, 85675);\n",
    "\n",
    "INSERT INTO ENROLLMENT VALUES(1234, 56738);\n",
    "INSERT INTO ENROLLMENT VALUES(5678, 56738);\n",
    "INSERT INTO ENROLLMENT VALUES(3456, 56738);\n",
    "INSERT INTO ENROLLMENT VALUES(4590, 56738);\n",
    "INSERT INTO ENROLLMENT VALUES(5337, 56738);\n",
    "INSERT INTO ENROLLMENT VALUES(5555, 56738);\n",
    "\n",
    "INSERT INTO ENROLLMENT VALUES(1234, 89994);\n",
    "INSERT INTO ENROLLMENT VALUES(1234, 90573);\n",
    "INSERT INTO ENROLLMENT VALUES(1234, 48387);\n",
    "INSERT INTO ENROLLMENT VALUES(5337, 90573);"
   ]
  },
  {
   "cell_type": "code",
   "execution_count": 271,
   "metadata": {
    "collapsed": false
   },
   "outputs": [
    {
     "name": "stdout",
     "output_type": "stream",
     "text": [
      "Done.\n"
     ]
    },
    {
     "data": {
      "text/html": [
       "<table>\n",
       "    <tr>\n",
       "        <th>StudentID</th>\n",
       "        <th>CourseID</th>\n",
       "    </tr>\n",
       "    <tr>\n",
       "        <td>1234</td>\n",
       "        <td>85675</td>\n",
       "    </tr>\n",
       "    <tr>\n",
       "        <td>5678</td>\n",
       "        <td>85675</td>\n",
       "    </tr>\n",
       "    <tr>\n",
       "        <td>3456</td>\n",
       "        <td>85675</td>\n",
       "    </tr>\n",
       "    <tr>\n",
       "        <td>4590</td>\n",
       "        <td>85675</td>\n",
       "    </tr>\n",
       "    <tr>\n",
       "        <td>5337</td>\n",
       "        <td>85675</td>\n",
       "    </tr>\n",
       "    <tr>\n",
       "        <td>5555</td>\n",
       "        <td>85675</td>\n",
       "    </tr>\n",
       "    <tr>\n",
       "        <td>1234</td>\n",
       "        <td>56738</td>\n",
       "    </tr>\n",
       "    <tr>\n",
       "        <td>5678</td>\n",
       "        <td>56738</td>\n",
       "    </tr>\n",
       "    <tr>\n",
       "        <td>3456</td>\n",
       "        <td>56738</td>\n",
       "    </tr>\n",
       "    <tr>\n",
       "        <td>4590</td>\n",
       "        <td>56738</td>\n",
       "    </tr>\n",
       "    <tr>\n",
       "        <td>5337</td>\n",
       "        <td>56738</td>\n",
       "    </tr>\n",
       "    <tr>\n",
       "        <td>5555</td>\n",
       "        <td>56738</td>\n",
       "    </tr>\n",
       "    <tr>\n",
       "        <td>1234</td>\n",
       "        <td>89994</td>\n",
       "    </tr>\n",
       "    <tr>\n",
       "        <td>1234</td>\n",
       "        <td>90573</td>\n",
       "    </tr>\n",
       "    <tr>\n",
       "        <td>1234</td>\n",
       "        <td>48387</td>\n",
       "    </tr>\n",
       "    <tr>\n",
       "        <td>5337</td>\n",
       "        <td>90573</td>\n",
       "    </tr>\n",
       "</table>"
      ],
      "text/plain": [
       "[(1234, 85675),\n",
       " (5678, 85675),\n",
       " (3456, 85675),\n",
       " (4590, 85675),\n",
       " (5337, 85675),\n",
       " (5555, 85675),\n",
       " (1234, 56738),\n",
       " (5678, 56738),\n",
       " (3456, 56738),\n",
       " (4590, 56738),\n",
       " (5337, 56738),\n",
       " (5555, 56738),\n",
       " (1234, 89994),\n",
       " (1234, 90573),\n",
       " (1234, 48387),\n",
       " (5337, 90573)]"
      ]
     },
     "execution_count": 271,
     "metadata": {},
     "output_type": "execute_result"
    }
   ],
   "source": [
    "%%sql\n",
    "SELECT * FROM ENROLLMENT;"
   ]
  },
  {
   "cell_type": "code",
   "execution_count": 272,
   "metadata": {
    "collapsed": false
   },
   "outputs": [
    {
     "name": "stdout",
     "output_type": "stream",
     "text": [
      "1 rows affected.\n",
      "1 rows affected.\n",
      "1 rows affected.\n",
      "1 rows affected.\n",
      "1 rows affected.\n",
      "1 rows affected.\n",
      "1 rows affected.\n",
      "1 rows affected.\n",
      "1 rows affected.\n",
      "1 rows affected.\n",
      "1 rows affected.\n",
      "1 rows affected.\n",
      "1 rows affected.\n",
      "1 rows affected.\n",
      "1 rows affected.\n",
      "1 rows affected.\n",
      "1 rows affected.\n",
      "1 rows affected.\n",
      "1 rows affected.\n",
      "1 rows affected.\n"
     ]
    },
    {
     "data": {
      "text/plain": [
       "[]"
      ]
     },
     "execution_count": 272,
     "metadata": {},
     "output_type": "execute_result"
    }
   ],
   "source": [
    "%%sql \n",
    "\n",
    "\n",
    "INSERT INTO DISTRIBUTION VALUES(1, 85675, 'Quiz', 50);\n",
    "INSERT INTO DISTRIBUTION VALUES(2, 85675, 'HW', 10);\n",
    "INSERT INTO DISTRIBUTION VALUES(3, 85675, 'MidTerm', 20);\n",
    "INSERT INTO DISTRIBUTION VALUES(4, 85675, 'Final', 20);\n",
    "\n",
    "INSERT INTO DISTRIBUTION VALUES(5, 89994, 'Participation', 40);\n",
    "INSERT INTO DISTRIBUTION VALUES(6, 89994, 'HW', 10);\n",
    "INSERT INTO DISTRIBUTION VALUES(7, 89994, 'MidTerm', 25);\n",
    "INSERT INTO DISTRIBUTION VALUES(8, 89994, 'Final', 25);\n",
    "\n",
    "INSERT INTO DISTRIBUTION VALUES(9, 56738, 'Quiz', 40);\n",
    "INSERT INTO DISTRIBUTION VALUES(10, 56738, 'HW', 15);\n",
    "INSERT INTO DISTRIBUTION VALUES(11, 56738, 'MidTerm', 20);\n",
    "INSERT INTO DISTRIBUTION VALUES(12, 56738, 'Final', 25);\n",
    "\n",
    "INSERT INTO DISTRIBUTION VALUES(13, 90573, 'Quiz', 20);\n",
    "INSERT INTO DISTRIBUTION VALUES(14, 90573, 'HW', 25);\n",
    "INSERT INTO DISTRIBUTION VALUES(15, 90573, 'Project', 30);\n",
    "INSERT INTO DISTRIBUTION VALUES(16, 90573, 'Final', 25);\n",
    "\n",
    "INSERT INTO DISTRIBUTION VALUES(17, 48387, 'Quiz', 30);\n",
    "INSERT INTO DISTRIBUTION VALUES(18, 48387, 'HW', 25);\n",
    "INSERT INTO DISTRIBUTION VALUES(19, 48387, 'Project', 20);\n",
    "INSERT INTO DISTRIBUTION VALUES(20, 48387, 'Final', 25);"
   ]
  },
  {
   "cell_type": "code",
   "execution_count": 273,
   "metadata": {
    "collapsed": false
   },
   "outputs": [
    {
     "name": "stdout",
     "output_type": "stream",
     "text": [
      "Done.\n"
     ]
    },
    {
     "data": {
      "text/html": [
       "<table>\n",
       "    <tr>\n",
       "        <th>DistributionID</th>\n",
       "        <th>CourseID</th>\n",
       "        <th>CategoryName</th>\n",
       "        <th>PERCENTAGE</th>\n",
       "    </tr>\n",
       "    <tr>\n",
       "        <td>1</td>\n",
       "        <td>85675</td>\n",
       "        <td>Quiz</td>\n",
       "        <td>50</td>\n",
       "    </tr>\n",
       "    <tr>\n",
       "        <td>2</td>\n",
       "        <td>85675</td>\n",
       "        <td>HW</td>\n",
       "        <td>10</td>\n",
       "    </tr>\n",
       "    <tr>\n",
       "        <td>3</td>\n",
       "        <td>85675</td>\n",
       "        <td>MidTerm</td>\n",
       "        <td>20</td>\n",
       "    </tr>\n",
       "    <tr>\n",
       "        <td>4</td>\n",
       "        <td>85675</td>\n",
       "        <td>Final</td>\n",
       "        <td>20</td>\n",
       "    </tr>\n",
       "    <tr>\n",
       "        <td>5</td>\n",
       "        <td>89994</td>\n",
       "        <td>Participation</td>\n",
       "        <td>40</td>\n",
       "    </tr>\n",
       "    <tr>\n",
       "        <td>6</td>\n",
       "        <td>89994</td>\n",
       "        <td>HW</td>\n",
       "        <td>10</td>\n",
       "    </tr>\n",
       "    <tr>\n",
       "        <td>7</td>\n",
       "        <td>89994</td>\n",
       "        <td>MidTerm</td>\n",
       "        <td>25</td>\n",
       "    </tr>\n",
       "    <tr>\n",
       "        <td>8</td>\n",
       "        <td>89994</td>\n",
       "        <td>Final</td>\n",
       "        <td>25</td>\n",
       "    </tr>\n",
       "    <tr>\n",
       "        <td>9</td>\n",
       "        <td>56738</td>\n",
       "        <td>Quiz</td>\n",
       "        <td>40</td>\n",
       "    </tr>\n",
       "    <tr>\n",
       "        <td>10</td>\n",
       "        <td>56738</td>\n",
       "        <td>HW</td>\n",
       "        <td>15</td>\n",
       "    </tr>\n",
       "    <tr>\n",
       "        <td>11</td>\n",
       "        <td>56738</td>\n",
       "        <td>MidTerm</td>\n",
       "        <td>20</td>\n",
       "    </tr>\n",
       "    <tr>\n",
       "        <td>12</td>\n",
       "        <td>56738</td>\n",
       "        <td>Final</td>\n",
       "        <td>25</td>\n",
       "    </tr>\n",
       "    <tr>\n",
       "        <td>13</td>\n",
       "        <td>90573</td>\n",
       "        <td>Quiz</td>\n",
       "        <td>20</td>\n",
       "    </tr>\n",
       "    <tr>\n",
       "        <td>14</td>\n",
       "        <td>90573</td>\n",
       "        <td>HW</td>\n",
       "        <td>25</td>\n",
       "    </tr>\n",
       "    <tr>\n",
       "        <td>15</td>\n",
       "        <td>90573</td>\n",
       "        <td>Project</td>\n",
       "        <td>30</td>\n",
       "    </tr>\n",
       "    <tr>\n",
       "        <td>16</td>\n",
       "        <td>90573</td>\n",
       "        <td>Final</td>\n",
       "        <td>25</td>\n",
       "    </tr>\n",
       "    <tr>\n",
       "        <td>17</td>\n",
       "        <td>48387</td>\n",
       "        <td>Quiz</td>\n",
       "        <td>30</td>\n",
       "    </tr>\n",
       "    <tr>\n",
       "        <td>18</td>\n",
       "        <td>48387</td>\n",
       "        <td>HW</td>\n",
       "        <td>25</td>\n",
       "    </tr>\n",
       "    <tr>\n",
       "        <td>19</td>\n",
       "        <td>48387</td>\n",
       "        <td>Project</td>\n",
       "        <td>20</td>\n",
       "    </tr>\n",
       "    <tr>\n",
       "        <td>20</td>\n",
       "        <td>48387</td>\n",
       "        <td>Final</td>\n",
       "        <td>25</td>\n",
       "    </tr>\n",
       "</table>"
      ],
      "text/plain": [
       "[(1, 85675, u'Quiz', 50),\n",
       " (2, 85675, u'HW', 10),\n",
       " (3, 85675, u'MidTerm', 20),\n",
       " (4, 85675, u'Final', 20),\n",
       " (5, 89994, u'Participation', 40),\n",
       " (6, 89994, u'HW', 10),\n",
       " (7, 89994, u'MidTerm', 25),\n",
       " (8, 89994, u'Final', 25),\n",
       " (9, 56738, u'Quiz', 40),\n",
       " (10, 56738, u'HW', 15),\n",
       " (11, 56738, u'MidTerm', 20),\n",
       " (12, 56738, u'Final', 25),\n",
       " (13, 90573, u'Quiz', 20),\n",
       " (14, 90573, u'HW', 25),\n",
       " (15, 90573, u'Project', 30),\n",
       " (16, 90573, u'Final', 25),\n",
       " (17, 48387, u'Quiz', 30),\n",
       " (18, 48387, u'HW', 25),\n",
       " (19, 48387, u'Project', 20),\n",
       " (20, 48387, u'Final', 25)]"
      ]
     },
     "execution_count": 273,
     "metadata": {},
     "output_type": "execute_result"
    }
   ],
   "source": [
    "%%sql\n",
    "\n",
    "SELECT * FROM DISTRIBUTION;"
   ]
  },
  {
   "cell_type": "code",
   "execution_count": 274,
   "metadata": {
    "collapsed": false
   },
   "outputs": [
    {
     "name": "stdout",
     "output_type": "stream",
     "text": [
      "1 rows affected.\n",
      "1 rows affected.\n",
      "1 rows affected.\n",
      "1 rows affected.\n",
      "1 rows affected.\n",
      "1 rows affected.\n",
      "1 rows affected.\n",
      "1 rows affected.\n",
      "1 rows affected.\n",
      "1 rows affected.\n",
      "1 rows affected.\n",
      "1 rows affected.\n",
      "1 rows affected.\n",
      "1 rows affected.\n",
      "1 rows affected.\n",
      "1 rows affected.\n",
      "1 rows affected.\n",
      "1 rows affected.\n",
      "1 rows affected.\n",
      "1 rows affected.\n",
      "1 rows affected.\n",
      "1 rows affected.\n",
      "1 rows affected.\n",
      "1 rows affected.\n",
      "1 rows affected.\n",
      "1 rows affected.\n",
      "1 rows affected.\n",
      "1 rows affected.\n",
      "1 rows affected.\n",
      "1 rows affected.\n",
      "1 rows affected.\n",
      "1 rows affected.\n",
      "1 rows affected.\n",
      "1 rows affected.\n",
      "1 rows affected.\n",
      "1 rows affected.\n",
      "1 rows affected.\n",
      "1 rows affected.\n",
      "1 rows affected.\n",
      "1 rows affected.\n"
     ]
    },
    {
     "data": {
      "text/plain": [
       "[]"
      ]
     },
     "execution_count": 274,
     "metadata": {},
     "output_type": "execute_result"
    }
   ],
   "source": [
    "%%sql\n",
    "\n",
    "INSERT INTO ASSIGNMENT VALUES(1, 1, 1, 100);\n",
    "INSERT INTO ASSIGNMENT VALUES(2, 1, 2, 100);\n",
    "\n",
    "INSERT INTO ASSIGNMENT VALUES(3, 2, 1, 100);\n",
    "INSERT INTO ASSIGNMENT VALUES(4, 2, 2, 100);\n",
    "\n",
    "INSERT INTO ASSIGNMENT VALUES(5, 3, 1, 100);\n",
    "INSERT INTO ASSIGNMENT VALUES(6, 3, 2, 100);\n",
    "\n",
    "INSERT INTO ASSIGNMENT VALUES(7, 4, 1, 100);\n",
    "INSERT INTO ASSIGNMENT VALUES(8, 4, 2, 100);\n",
    "\n",
    "INSERT INTO ASSIGNMENT VALUES(9, 5, 1, 100);\n",
    "INSERT INTO ASSIGNMENT VALUES(10, 5, 2, 100);\n",
    "\n",
    "INSERT INTO ASSIGNMENT VALUES(11, 6, 1, 100);\n",
    "INSERT INTO ASSIGNMENT VALUES(12, 6, 2, 100);\n",
    "\n",
    "INSERT INTO ASSIGNMENT VALUES(13, 7, 1, 100);\n",
    "INSERT INTO ASSIGNMENT VALUES(14, 7, 2, 100);\n",
    "\n",
    "INSERT INTO ASSIGNMENT VALUES(15, 8, 1, 100);\n",
    "INSERT INTO ASSIGNMENT VALUES(16, 8, 2, 100);\n",
    "\n",
    "INSERT INTO ASSIGNMENT VALUES(17, 9, 1, 100);\n",
    "INSERT INTO ASSIGNMENT VALUES(18, 9, 2, 100);\n",
    "\n",
    "INSERT INTO ASSIGNMENT VALUES(19, 10, 1, 100);\n",
    "INSERT INTO ASSIGNMENT VALUES(20, 10, 2, 100);\n",
    "\n",
    "INSERT INTO ASSIGNMENT VALUES(21, 11, 1, 100);\n",
    "INSERT INTO ASSIGNMENT VALUES(22, 11, 2, 100);\n",
    "\n",
    "INSERT INTO ASSIGNMENT VALUES(23, 12, 1, 100);\n",
    "INSERT INTO ASSIGNMENT VALUES(24, 12, 2, 100);\n",
    "\n",
    "INSERT INTO ASSIGNMENT VALUES(25, 13, 1, 100);\n",
    "INSERT INTO ASSIGNMENT VALUES(26, 13, 2, 100);\n",
    "\n",
    "INSERT INTO ASSIGNMENT VALUES(27, 14, 1, 100);\n",
    "INSERT INTO ASSIGNMENT VALUES(28, 14, 2, 100);\n",
    "\n",
    "INSERT INTO ASSIGNMENT VALUES(29, 15, 1, 100);\n",
    "INSERT INTO ASSIGNMENT VALUES(30, 15, 2, 100);\n",
    "\n",
    "INSERT INTO ASSIGNMENT VALUES(31, 16, 1, 100);\n",
    "INSERT INTO ASSIGNMENT VALUES(32, 16, 2, 100);\n",
    "\n",
    "INSERT INTO ASSIGNMENT VALUES(33, 17, 1, 100);\n",
    "INSERT INTO ASSIGNMENT VALUES(34, 17, 2, 100);\n",
    "\n",
    "INSERT INTO ASSIGNMENT VALUES(35, 18, 1, 100);\n",
    "INSERT INTO ASSIGNMENT VALUES(36, 18, 2, 100);\n",
    "\n",
    "INSERT INTO ASSIGNMENT VALUES(37, 19, 1, 100);\n",
    "INSERT INTO ASSIGNMENT VALUES(38, 19, 2, 100);\n",
    "\n",
    "INSERT INTO ASSIGNMENT VALUES(39, 20, 1, 100);\n",
    "INSERT INTO ASSIGNMENT VALUES(40, 20, 2, 100);"
   ]
  },
  {
   "cell_type": "code",
   "execution_count": 275,
   "metadata": {
    "collapsed": false
   },
   "outputs": [
    {
     "name": "stdout",
     "output_type": "stream",
     "text": [
      "Done.\n"
     ]
    },
    {
     "data": {
      "text/html": [
       "<table>\n",
       "    <tr>\n",
       "        <th>AssignmentID</th>\n",
       "        <th>DistributionID</th>\n",
       "        <th>Instance</th>\n",
       "        <th>PointsPossible</th>\n",
       "    </tr>\n",
       "    <tr>\n",
       "        <td>1</td>\n",
       "        <td>1</td>\n",
       "        <td>1</td>\n",
       "        <td>100</td>\n",
       "    </tr>\n",
       "    <tr>\n",
       "        <td>2</td>\n",
       "        <td>1</td>\n",
       "        <td>2</td>\n",
       "        <td>100</td>\n",
       "    </tr>\n",
       "    <tr>\n",
       "        <td>3</td>\n",
       "        <td>2</td>\n",
       "        <td>1</td>\n",
       "        <td>100</td>\n",
       "    </tr>\n",
       "    <tr>\n",
       "        <td>4</td>\n",
       "        <td>2</td>\n",
       "        <td>2</td>\n",
       "        <td>100</td>\n",
       "    </tr>\n",
       "    <tr>\n",
       "        <td>5</td>\n",
       "        <td>3</td>\n",
       "        <td>1</td>\n",
       "        <td>100</td>\n",
       "    </tr>\n",
       "    <tr>\n",
       "        <td>6</td>\n",
       "        <td>3</td>\n",
       "        <td>2</td>\n",
       "        <td>100</td>\n",
       "    </tr>\n",
       "    <tr>\n",
       "        <td>7</td>\n",
       "        <td>4</td>\n",
       "        <td>1</td>\n",
       "        <td>100</td>\n",
       "    </tr>\n",
       "    <tr>\n",
       "        <td>8</td>\n",
       "        <td>4</td>\n",
       "        <td>2</td>\n",
       "        <td>100</td>\n",
       "    </tr>\n",
       "    <tr>\n",
       "        <td>9</td>\n",
       "        <td>5</td>\n",
       "        <td>1</td>\n",
       "        <td>100</td>\n",
       "    </tr>\n",
       "    <tr>\n",
       "        <td>10</td>\n",
       "        <td>5</td>\n",
       "        <td>2</td>\n",
       "        <td>100</td>\n",
       "    </tr>\n",
       "    <tr>\n",
       "        <td>11</td>\n",
       "        <td>6</td>\n",
       "        <td>1</td>\n",
       "        <td>100</td>\n",
       "    </tr>\n",
       "    <tr>\n",
       "        <td>12</td>\n",
       "        <td>6</td>\n",
       "        <td>2</td>\n",
       "        <td>100</td>\n",
       "    </tr>\n",
       "    <tr>\n",
       "        <td>13</td>\n",
       "        <td>7</td>\n",
       "        <td>1</td>\n",
       "        <td>100</td>\n",
       "    </tr>\n",
       "    <tr>\n",
       "        <td>14</td>\n",
       "        <td>7</td>\n",
       "        <td>2</td>\n",
       "        <td>100</td>\n",
       "    </tr>\n",
       "    <tr>\n",
       "        <td>15</td>\n",
       "        <td>8</td>\n",
       "        <td>1</td>\n",
       "        <td>100</td>\n",
       "    </tr>\n",
       "    <tr>\n",
       "        <td>16</td>\n",
       "        <td>8</td>\n",
       "        <td>2</td>\n",
       "        <td>100</td>\n",
       "    </tr>\n",
       "    <tr>\n",
       "        <td>17</td>\n",
       "        <td>9</td>\n",
       "        <td>1</td>\n",
       "        <td>100</td>\n",
       "    </tr>\n",
       "    <tr>\n",
       "        <td>18</td>\n",
       "        <td>9</td>\n",
       "        <td>2</td>\n",
       "        <td>100</td>\n",
       "    </tr>\n",
       "    <tr>\n",
       "        <td>19</td>\n",
       "        <td>10</td>\n",
       "        <td>1</td>\n",
       "        <td>100</td>\n",
       "    </tr>\n",
       "    <tr>\n",
       "        <td>20</td>\n",
       "        <td>10</td>\n",
       "        <td>2</td>\n",
       "        <td>100</td>\n",
       "    </tr>\n",
       "    <tr>\n",
       "        <td>21</td>\n",
       "        <td>11</td>\n",
       "        <td>1</td>\n",
       "        <td>100</td>\n",
       "    </tr>\n",
       "    <tr>\n",
       "        <td>22</td>\n",
       "        <td>11</td>\n",
       "        <td>2</td>\n",
       "        <td>100</td>\n",
       "    </tr>\n",
       "    <tr>\n",
       "        <td>23</td>\n",
       "        <td>12</td>\n",
       "        <td>1</td>\n",
       "        <td>100</td>\n",
       "    </tr>\n",
       "    <tr>\n",
       "        <td>24</td>\n",
       "        <td>12</td>\n",
       "        <td>2</td>\n",
       "        <td>100</td>\n",
       "    </tr>\n",
       "    <tr>\n",
       "        <td>25</td>\n",
       "        <td>13</td>\n",
       "        <td>1</td>\n",
       "        <td>100</td>\n",
       "    </tr>\n",
       "    <tr>\n",
       "        <td>26</td>\n",
       "        <td>13</td>\n",
       "        <td>2</td>\n",
       "        <td>100</td>\n",
       "    </tr>\n",
       "    <tr>\n",
       "        <td>27</td>\n",
       "        <td>14</td>\n",
       "        <td>1</td>\n",
       "        <td>100</td>\n",
       "    </tr>\n",
       "    <tr>\n",
       "        <td>28</td>\n",
       "        <td>14</td>\n",
       "        <td>2</td>\n",
       "        <td>100</td>\n",
       "    </tr>\n",
       "    <tr>\n",
       "        <td>29</td>\n",
       "        <td>15</td>\n",
       "        <td>1</td>\n",
       "        <td>100</td>\n",
       "    </tr>\n",
       "    <tr>\n",
       "        <td>30</td>\n",
       "        <td>15</td>\n",
       "        <td>2</td>\n",
       "        <td>100</td>\n",
       "    </tr>\n",
       "    <tr>\n",
       "        <td>31</td>\n",
       "        <td>16</td>\n",
       "        <td>1</td>\n",
       "        <td>100</td>\n",
       "    </tr>\n",
       "    <tr>\n",
       "        <td>32</td>\n",
       "        <td>16</td>\n",
       "        <td>2</td>\n",
       "        <td>100</td>\n",
       "    </tr>\n",
       "    <tr>\n",
       "        <td>33</td>\n",
       "        <td>17</td>\n",
       "        <td>1</td>\n",
       "        <td>100</td>\n",
       "    </tr>\n",
       "    <tr>\n",
       "        <td>34</td>\n",
       "        <td>17</td>\n",
       "        <td>2</td>\n",
       "        <td>100</td>\n",
       "    </tr>\n",
       "    <tr>\n",
       "        <td>35</td>\n",
       "        <td>18</td>\n",
       "        <td>1</td>\n",
       "        <td>100</td>\n",
       "    </tr>\n",
       "    <tr>\n",
       "        <td>36</td>\n",
       "        <td>18</td>\n",
       "        <td>2</td>\n",
       "        <td>100</td>\n",
       "    </tr>\n",
       "    <tr>\n",
       "        <td>37</td>\n",
       "        <td>19</td>\n",
       "        <td>1</td>\n",
       "        <td>100</td>\n",
       "    </tr>\n",
       "    <tr>\n",
       "        <td>38</td>\n",
       "        <td>19</td>\n",
       "        <td>2</td>\n",
       "        <td>100</td>\n",
       "    </tr>\n",
       "    <tr>\n",
       "        <td>39</td>\n",
       "        <td>20</td>\n",
       "        <td>1</td>\n",
       "        <td>100</td>\n",
       "    </tr>\n",
       "    <tr>\n",
       "        <td>40</td>\n",
       "        <td>20</td>\n",
       "        <td>2</td>\n",
       "        <td>100</td>\n",
       "    </tr>\n",
       "</table>"
      ],
      "text/plain": [
       "[(1, 1, 1, 100),\n",
       " (2, 1, 2, 100),\n",
       " (3, 2, 1, 100),\n",
       " (4, 2, 2, 100),\n",
       " (5, 3, 1, 100),\n",
       " (6, 3, 2, 100),\n",
       " (7, 4, 1, 100),\n",
       " (8, 4, 2, 100),\n",
       " (9, 5, 1, 100),\n",
       " (10, 5, 2, 100),\n",
       " (11, 6, 1, 100),\n",
       " (12, 6, 2, 100),\n",
       " (13, 7, 1, 100),\n",
       " (14, 7, 2, 100),\n",
       " (15, 8, 1, 100),\n",
       " (16, 8, 2, 100),\n",
       " (17, 9, 1, 100),\n",
       " (18, 9, 2, 100),\n",
       " (19, 10, 1, 100),\n",
       " (20, 10, 2, 100),\n",
       " (21, 11, 1, 100),\n",
       " (22, 11, 2, 100),\n",
       " (23, 12, 1, 100),\n",
       " (24, 12, 2, 100),\n",
       " (25, 13, 1, 100),\n",
       " (26, 13, 2, 100),\n",
       " (27, 14, 1, 100),\n",
       " (28, 14, 2, 100),\n",
       " (29, 15, 1, 100),\n",
       " (30, 15, 2, 100),\n",
       " (31, 16, 1, 100),\n",
       " (32, 16, 2, 100),\n",
       " (33, 17, 1, 100),\n",
       " (34, 17, 2, 100),\n",
       " (35, 18, 1, 100),\n",
       " (36, 18, 2, 100),\n",
       " (37, 19, 1, 100),\n",
       " (38, 19, 2, 100),\n",
       " (39, 20, 1, 100),\n",
       " (40, 20, 2, 100)]"
      ]
     },
     "execution_count": 275,
     "metadata": {},
     "output_type": "execute_result"
    }
   ],
   "source": [
    "%%sql\n",
    "\n",
    "SELECT * FROM ASSIGNMENT;"
   ]
  },
  {
   "cell_type": "code",
   "execution_count": 276,
   "metadata": {
    "collapsed": false
   },
   "outputs": [
    {
     "name": "stdout",
     "output_type": "stream",
     "text": [
      "1 rows affected.\n",
      "1 rows affected.\n",
      "1 rows affected.\n",
      "1 rows affected.\n",
      "1 rows affected.\n",
      "1 rows affected.\n",
      "1 rows affected.\n",
      "1 rows affected.\n",
      "1 rows affected.\n",
      "1 rows affected.\n",
      "1 rows affected.\n",
      "1 rows affected.\n",
      "1 rows affected.\n",
      "1 rows affected.\n",
      "1 rows affected.\n",
      "1 rows affected.\n",
      "1 rows affected.\n",
      "1 rows affected.\n",
      "1 rows affected.\n",
      "1 rows affected.\n",
      "1 rows affected.\n",
      "1 rows affected.\n",
      "1 rows affected.\n"
     ]
    },
    {
     "data": {
      "text/plain": [
       "[]"
      ]
     },
     "execution_count": 276,
     "metadata": {},
     "output_type": "execute_result"
    }
   ],
   "source": [
    "%%sql\n",
    "\n",
    "INSERT INTO SCORE VALUES(1234, 1, 85);\n",
    "INSERT INTO SCORE VALUES(5678, 1, 80);\n",
    "INSERT INTO SCORE VALUES(3456, 1, 95);\n",
    "INSERT INTO SCORE VALUES(4590, 1, 65);\n",
    "INSERT INTO SCORE VALUES(5337, 1, 100);\n",
    "INSERT INTO SCORE VALUES(5555, 1, 93);\n",
    "\n",
    "INSERT INTO SCORE VALUES(1234, 2, 81);\n",
    "INSERT INTO SCORE VALUES(5678, 2, 84);\n",
    "INSERT INTO SCORE VALUES(3456, 2, 95);\n",
    "INSERT INTO SCORE VALUES(4590, 2, 62);\n",
    "INSERT INTO SCORE VALUES(5337, 2, 90);\n",
    "INSERT INTO SCORE VALUES(5555, 2, 93);\n",
    "\n",
    "\n",
    "INSERT INTO SCORE VALUES(1234, 18, 87);\n",
    "INSERT INTO SCORE VALUES(5678, 18, 94);\n",
    "INSERT INTO SCORE VALUES(3456, 18, 55);\n",
    "INSERT INTO SCORE VALUES(4590, 18, 72);\n",
    "INSERT INTO SCORE VALUES(5337, 18, 0);\n",
    "INSERT INTO SCORE VALUES(5555, 18, 99);\n",
    "\n",
    "INSERT INTO SCORE VALUES(1234, 16, 80);\n",
    "INSERT INTO SCORE VALUES(1234, 30, 85);\n",
    "INSERT INTO SCORE VALUES(1234, 40, 95);\n",
    "\n",
    "INSERT INTO SCORE VALUES(5337, 26, 78);\n",
    "\n",
    "INSERT INTO SCORE VALUES(1234, 8, 84);"
   ]
  },
  {
   "cell_type": "code",
   "execution_count": 277,
   "metadata": {
    "collapsed": false
   },
   "outputs": [
    {
     "name": "stdout",
     "output_type": "stream",
     "text": [
      "Done.\n"
     ]
    },
    {
     "data": {
      "text/html": [
       "<table>\n",
       "    <tr>\n",
       "        <th>StudentID</th>\n",
       "        <th>AssignmentID</th>\n",
       "        <th>Points</th>\n",
       "    </tr>\n",
       "    <tr>\n",
       "        <td>1234</td>\n",
       "        <td>1</td>\n",
       "        <td>85</td>\n",
       "    </tr>\n",
       "    <tr>\n",
       "        <td>5678</td>\n",
       "        <td>1</td>\n",
       "        <td>80</td>\n",
       "    </tr>\n",
       "    <tr>\n",
       "        <td>3456</td>\n",
       "        <td>1</td>\n",
       "        <td>95</td>\n",
       "    </tr>\n",
       "    <tr>\n",
       "        <td>4590</td>\n",
       "        <td>1</td>\n",
       "        <td>65</td>\n",
       "    </tr>\n",
       "    <tr>\n",
       "        <td>5337</td>\n",
       "        <td>1</td>\n",
       "        <td>100</td>\n",
       "    </tr>\n",
       "    <tr>\n",
       "        <td>5555</td>\n",
       "        <td>1</td>\n",
       "        <td>93</td>\n",
       "    </tr>\n",
       "    <tr>\n",
       "        <td>1234</td>\n",
       "        <td>2</td>\n",
       "        <td>81</td>\n",
       "    </tr>\n",
       "    <tr>\n",
       "        <td>5678</td>\n",
       "        <td>2</td>\n",
       "        <td>84</td>\n",
       "    </tr>\n",
       "    <tr>\n",
       "        <td>3456</td>\n",
       "        <td>2</td>\n",
       "        <td>95</td>\n",
       "    </tr>\n",
       "    <tr>\n",
       "        <td>4590</td>\n",
       "        <td>2</td>\n",
       "        <td>62</td>\n",
       "    </tr>\n",
       "    <tr>\n",
       "        <td>5337</td>\n",
       "        <td>2</td>\n",
       "        <td>90</td>\n",
       "    </tr>\n",
       "    <tr>\n",
       "        <td>5555</td>\n",
       "        <td>2</td>\n",
       "        <td>93</td>\n",
       "    </tr>\n",
       "    <tr>\n",
       "        <td>1234</td>\n",
       "        <td>18</td>\n",
       "        <td>87</td>\n",
       "    </tr>\n",
       "    <tr>\n",
       "        <td>5678</td>\n",
       "        <td>18</td>\n",
       "        <td>94</td>\n",
       "    </tr>\n",
       "    <tr>\n",
       "        <td>3456</td>\n",
       "        <td>18</td>\n",
       "        <td>55</td>\n",
       "    </tr>\n",
       "    <tr>\n",
       "        <td>4590</td>\n",
       "        <td>18</td>\n",
       "        <td>72</td>\n",
       "    </tr>\n",
       "    <tr>\n",
       "        <td>5337</td>\n",
       "        <td>18</td>\n",
       "        <td>0</td>\n",
       "    </tr>\n",
       "    <tr>\n",
       "        <td>5555</td>\n",
       "        <td>18</td>\n",
       "        <td>99</td>\n",
       "    </tr>\n",
       "    <tr>\n",
       "        <td>1234</td>\n",
       "        <td>16</td>\n",
       "        <td>80</td>\n",
       "    </tr>\n",
       "    <tr>\n",
       "        <td>1234</td>\n",
       "        <td>30</td>\n",
       "        <td>85</td>\n",
       "    </tr>\n",
       "    <tr>\n",
       "        <td>1234</td>\n",
       "        <td>40</td>\n",
       "        <td>95</td>\n",
       "    </tr>\n",
       "    <tr>\n",
       "        <td>5337</td>\n",
       "        <td>26</td>\n",
       "        <td>78</td>\n",
       "    </tr>\n",
       "    <tr>\n",
       "        <td>1234</td>\n",
       "        <td>8</td>\n",
       "        <td>84</td>\n",
       "    </tr>\n",
       "</table>"
      ],
      "text/plain": [
       "[(1234, 1, 85),\n",
       " (5678, 1, 80),\n",
       " (3456, 1, 95),\n",
       " (4590, 1, 65),\n",
       " (5337, 1, 100),\n",
       " (5555, 1, 93),\n",
       " (1234, 2, 81),\n",
       " (5678, 2, 84),\n",
       " (3456, 2, 95),\n",
       " (4590, 2, 62),\n",
       " (5337, 2, 90),\n",
       " (5555, 2, 93),\n",
       " (1234, 18, 87),\n",
       " (5678, 18, 94),\n",
       " (3456, 18, 55),\n",
       " (4590, 18, 72),\n",
       " (5337, 18, 0),\n",
       " (5555, 18, 99),\n",
       " (1234, 16, 80),\n",
       " (1234, 30, 85),\n",
       " (1234, 40, 95),\n",
       " (5337, 26, 78),\n",
       " (1234, 8, 84)]"
      ]
     },
     "execution_count": 277,
     "metadata": {},
     "output_type": "execute_result"
    }
   ],
   "source": [
    "%%sql\n",
    "SELECT * FROM SCORE;"
   ]
  },
  {
   "cell_type": "code",
   "execution_count": 278,
   "metadata": {
    "collapsed": false
   },
   "outputs": [
    {
     "name": "stdout",
     "output_type": "stream",
     "text": [
      "Done.\n"
     ]
    },
    {
     "data": {
      "text/html": [
       "<table>\n",
       "    <tr>\n",
       "        <th>AVG(Points)</th>\n",
       "    </tr>\n",
       "    <tr>\n",
       "        <td>86.3333333333</td>\n",
       "    </tr>\n",
       "</table>"
      ],
      "text/plain": [
       "[(86.33333333333333,)]"
      ]
     },
     "execution_count": 278,
     "metadata": {},
     "output_type": "execute_result"
    }
   ],
   "source": [
    "%%sql\n",
    "/*4. Calculating average score for assignment 1.*/\n",
    "SELECT AVG(Points) FROM SCORE WHERE AssignmentID = 1;"
   ]
  },
  {
   "cell_type": "code",
   "execution_count": 279,
   "metadata": {
    "collapsed": false
   },
   "outputs": [
    {
     "name": "stdout",
     "output_type": "stream",
     "text": [
      "Done.\n"
     ]
    },
    {
     "data": {
      "text/html": [
       "<table>\n",
       "    <tr>\n",
       "        <th>MAX(Points)</th>\n",
       "    </tr>\n",
       "    <tr>\n",
       "        <td>100</td>\n",
       "    </tr>\n",
       "</table>"
      ],
      "text/plain": [
       "[(100,)]"
      ]
     },
     "execution_count": 279,
     "metadata": {},
     "output_type": "execute_result"
    }
   ],
   "source": [
    "%%sql\n",
    "/*4. Calculating highest score for assignment 1. */\n",
    "SELECT MAX(Points) FROM SCORE WHERE AssignmentID = 1;"
   ]
  },
  {
   "cell_type": "code",
   "execution_count": 280,
   "metadata": {
    "collapsed": false
   },
   "outputs": [
    {
     "name": "stdout",
     "output_type": "stream",
     "text": [
      "Done.\n"
     ]
    },
    {
     "data": {
      "text/html": [
       "<table>\n",
       "    <tr>\n",
       "        <th>MIN(Points)</th>\n",
       "    </tr>\n",
       "    <tr>\n",
       "        <td>65</td>\n",
       "    </tr>\n",
       "</table>"
      ],
      "text/plain": [
       "[(65,)]"
      ]
     },
     "execution_count": 280,
     "metadata": {},
     "output_type": "execute_result"
    }
   ],
   "source": [
    "%%sql\n",
    "/*4. Calculating lowest score for assignment 1. */\n",
    "SELECT MIN(Points) FROM SCORE WHERE AssignmentID = 1;"
   ]
  },
  {
   "cell_type": "code",
   "execution_count": 282,
   "metadata": {
    "collapsed": false
   },
   "outputs": [
    {
     "name": "stdout",
     "output_type": "stream",
     "text": [
      "Done.\n"
     ]
    },
    {
     "data": {
      "text/html": [
       "<table>\n",
       "    <tr>\n",
       "        <th>StudentID</th>\n",
       "        <th>FirstName</th>\n",
       "        <th>LastName</th>\n",
       "        <th>Major</th>\n",
       "        <th>CourseID</th>\n",
       "    </tr>\n",
       "    <tr>\n",
       "        <td>1234</td>\n",
       "        <td>Richard</td>\n",
       "        <td>Hendricks</td>\n",
       "        <td>Computer Science</td>\n",
       "        <td>85675</td>\n",
       "    </tr>\n",
       "    <tr>\n",
       "        <td>5678</td>\n",
       "        <td>Jared</td>\n",
       "        <td>Dunn</td>\n",
       "        <td>Management Science</td>\n",
       "        <td>85675</td>\n",
       "    </tr>\n",
       "    <tr>\n",
       "        <td>3456</td>\n",
       "        <td>Erlich</td>\n",
       "        <td>Bachman</td>\n",
       "        <td>Aviato</td>\n",
       "        <td>85675</td>\n",
       "    </tr>\n",
       "    <tr>\n",
       "        <td>4590</td>\n",
       "        <td>Jimmy</td>\n",
       "        <td>Quoyang</td>\n",
       "        <td>Marine Biology</td>\n",
       "        <td>85675</td>\n",
       "    </tr>\n",
       "    <tr>\n",
       "        <td>5337</td>\n",
       "        <td>Dinesh</td>\n",
       "        <td>Gilfoyle</td>\n",
       "        <td>Computer Engineering</td>\n",
       "        <td>85675</td>\n",
       "    </tr>\n",
       "    <tr>\n",
       "        <td>5555</td>\n",
       "        <td>John</td>\n",
       "        <td>Doe</td>\n",
       "        <td>English</td>\n",
       "        <td>85675</td>\n",
       "    </tr>\n",
       "</table>"
      ],
      "text/plain": [
       "[(1234, u'Richard', u'Hendricks', u'Computer Science', 85675),\n",
       " (5678, u'Jared', u'Dunn', u'Management Science', 85675),\n",
       " (3456, u'Erlich', u'Bachman', u'Aviato', 85675),\n",
       " (4590, u'Jimmy', u'Quoyang', u'Marine Biology', 85675),\n",
       " (5337, u'Dinesh', u'Gilfoyle', u'Computer Engineering', 85675),\n",
       " (5555, u'John', u'Doe', u'English', 85675)]"
      ]
     },
     "execution_count": 282,
     "metadata": {},
     "output_type": "execute_result"
    }
   ],
   "source": [
    "%%sql\n",
    "/* 5. List all of the students in a given course; \n",
    "Listing all students in Calculus 2 class */\n",
    "\n",
    "SELECT STUDENT.StudentID, FirstName, LastName, Major, CourseID\n",
    "FROM STUDENT JOIN ENROLLMENT\n",
    "WHERE CourseID = 85675\n",
    "AND STUDENT.StudentID = ENROLLMENT.StudentID;"
   ]
  },
  {
   "cell_type": "code",
   "execution_count": 283,
   "metadata": {
    "collapsed": false
   },
   "outputs": [
    {
     "name": "stdout",
     "output_type": "stream",
     "text": [
      "Done.\n"
     ]
    },
    {
     "data": {
      "text/html": [
       "<table>\n",
       "    <tr>\n",
       "        <th>pt.StudentID</th>\n",
       "        <th>st.FirstName</th>\n",
       "        <th>st.LastName</th>\n",
       "        <th>pt.CourseID</th>\n",
       "        <th>pt.AssignmentID</th>\n",
       "        <th>pt.CategoryName</th>\n",
       "        <th>pt.Points</th>\n",
       "    </tr>\n",
       "    <tr>\n",
       "        <td>1234</td>\n",
       "        <td>Richard</td>\n",
       "        <td>Hendricks</td>\n",
       "        <td>85675</td>\n",
       "        <td>1</td>\n",
       "        <td>Quiz</td>\n",
       "        <td>85</td>\n",
       "    </tr>\n",
       "    <tr>\n",
       "        <td>5678</td>\n",
       "        <td>Jared</td>\n",
       "        <td>Dunn</td>\n",
       "        <td>85675</td>\n",
       "        <td>1</td>\n",
       "        <td>Quiz</td>\n",
       "        <td>80</td>\n",
       "    </tr>\n",
       "    <tr>\n",
       "        <td>3456</td>\n",
       "        <td>Erlich</td>\n",
       "        <td>Bachman</td>\n",
       "        <td>85675</td>\n",
       "        <td>1</td>\n",
       "        <td>Quiz</td>\n",
       "        <td>95</td>\n",
       "    </tr>\n",
       "    <tr>\n",
       "        <td>4590</td>\n",
       "        <td>Jimmy</td>\n",
       "        <td>Quoyang</td>\n",
       "        <td>85675</td>\n",
       "        <td>1</td>\n",
       "        <td>Quiz</td>\n",
       "        <td>65</td>\n",
       "    </tr>\n",
       "    <tr>\n",
       "        <td>5337</td>\n",
       "        <td>Dinesh</td>\n",
       "        <td>Gilfoyle</td>\n",
       "        <td>85675</td>\n",
       "        <td>1</td>\n",
       "        <td>Quiz</td>\n",
       "        <td>100</td>\n",
       "    </tr>\n",
       "    <tr>\n",
       "        <td>5555</td>\n",
       "        <td>John</td>\n",
       "        <td>Doe</td>\n",
       "        <td>85675</td>\n",
       "        <td>1</td>\n",
       "        <td>Quiz</td>\n",
       "        <td>93</td>\n",
       "    </tr>\n",
       "    <tr>\n",
       "        <td>1234</td>\n",
       "        <td>Richard</td>\n",
       "        <td>Hendricks</td>\n",
       "        <td>85675</td>\n",
       "        <td>2</td>\n",
       "        <td>Quiz</td>\n",
       "        <td>81</td>\n",
       "    </tr>\n",
       "    <tr>\n",
       "        <td>5678</td>\n",
       "        <td>Jared</td>\n",
       "        <td>Dunn</td>\n",
       "        <td>85675</td>\n",
       "        <td>2</td>\n",
       "        <td>Quiz</td>\n",
       "        <td>84</td>\n",
       "    </tr>\n",
       "    <tr>\n",
       "        <td>3456</td>\n",
       "        <td>Erlich</td>\n",
       "        <td>Bachman</td>\n",
       "        <td>85675</td>\n",
       "        <td>2</td>\n",
       "        <td>Quiz</td>\n",
       "        <td>95</td>\n",
       "    </tr>\n",
       "    <tr>\n",
       "        <td>4590</td>\n",
       "        <td>Jimmy</td>\n",
       "        <td>Quoyang</td>\n",
       "        <td>85675</td>\n",
       "        <td>2</td>\n",
       "        <td>Quiz</td>\n",
       "        <td>62</td>\n",
       "    </tr>\n",
       "    <tr>\n",
       "        <td>5337</td>\n",
       "        <td>Dinesh</td>\n",
       "        <td>Gilfoyle</td>\n",
       "        <td>85675</td>\n",
       "        <td>2</td>\n",
       "        <td>Quiz</td>\n",
       "        <td>90</td>\n",
       "    </tr>\n",
       "    <tr>\n",
       "        <td>5555</td>\n",
       "        <td>John</td>\n",
       "        <td>Doe</td>\n",
       "        <td>85675</td>\n",
       "        <td>2</td>\n",
       "        <td>Quiz</td>\n",
       "        <td>93</td>\n",
       "    </tr>\n",
       "    <tr>\n",
       "        <td>1234</td>\n",
       "        <td>Richard</td>\n",
       "        <td>Hendricks</td>\n",
       "        <td>85675</td>\n",
       "        <td>8</td>\n",
       "        <td>Final</td>\n",
       "        <td>84</td>\n",
       "    </tr>\n",
       "</table>"
      ],
      "text/plain": [
       "[(1234, u'Richard', u'Hendricks', 85675, 1, u'Quiz', 85),\n",
       " (5678, u'Jared', u'Dunn', 85675, 1, u'Quiz', 80),\n",
       " (3456, u'Erlich', u'Bachman', 85675, 1, u'Quiz', 95),\n",
       " (4590, u'Jimmy', u'Quoyang', 85675, 1, u'Quiz', 65),\n",
       " (5337, u'Dinesh', u'Gilfoyle', 85675, 1, u'Quiz', 100),\n",
       " (5555, u'John', u'Doe', 85675, 1, u'Quiz', 93),\n",
       " (1234, u'Richard', u'Hendricks', 85675, 2, u'Quiz', 81),\n",
       " (5678, u'Jared', u'Dunn', 85675, 2, u'Quiz', 84),\n",
       " (3456, u'Erlich', u'Bachman', 85675, 2, u'Quiz', 95),\n",
       " (4590, u'Jimmy', u'Quoyang', 85675, 2, u'Quiz', 62),\n",
       " (5337, u'Dinesh', u'Gilfoyle', 85675, 2, u'Quiz', 90),\n",
       " (5555, u'John', u'Doe', 85675, 2, u'Quiz', 93),\n",
       " (1234, u'Richard', u'Hendricks', 85675, 8, u'Final', 84)]"
      ]
     },
     "execution_count": 283,
     "metadata": {},
     "output_type": "execute_result"
    }
   ],
   "source": [
    "%%sql \n",
    "/*6. List all of the students in a course and\n",
    "all of their scores on every assignment;\n",
    "Doing this for Calculus 2 class\n",
    "*/\n",
    "\n",
    "SELECT pt.StudentID, st.FirstName, st.LastName, pt.CourseID,pt.AssignmentID, pt.CategoryName, pt.Points \n",
    "FROM (SELECT STUDENT.StudentID, AssignmentID, FirstName, LastName, CourseID, Points\n",
    "FROM STUDENT JOIN ENROLLMENT JOIN SCORE\n",
    "WHERE CourseID = 85675\n",
    "AND STUDENT.StudentID = ENROLLMENT.StudentID\n",
    "AND STUDENT.StudentID = SCORE.StudentID) st \n",
    "JOIN \n",
    "(SELECT StudentID, CourseID, CategoryName, ASSIGNMENT.AssignmentID, Points\n",
    "FROM DISTRIBUTION JOIN ASSIGNMENT JOIN SCORE\n",
    "WHERE DISTRIBUTION.CourseID = 85675 \n",
    "AND DISTRIBUTION.DistributionID = ASSIGNMENT.DistributionID\n",
    "AND ASSIGNMENT.AssignmentID = SCORE.AssignmentID) pt\n",
    "WHERE st.AssignmentID = pt.AssignmentID\n",
    "AND st.Points = pt.Points;\n"
   ]
  },
  {
   "cell_type": "code",
   "execution_count": 285,
   "metadata": {
    "collapsed": false
   },
   "outputs": [
    {
     "ename": "IntegrityError",
     "evalue": "(sqlite3.IntegrityError) UNIQUE constraint failed: ASSIGNMENT.AssignmentID [SQL: u'/*7. Add an assignment to a course\\nAdding a Homework Assignment for Calculus-2 class\\nHW ID for Calculs-2 class is 2, and \\nthere are already 2 HWs for this class in the database;*/\\n\\nINSERT INTO ASSIGNMENT VALUES (41, 2, 3, 100);']",
     "output_type": "error",
     "traceback": [
      "\u001b[0;31m---------------------------------------------------------------------------\u001b[0m",
      "\u001b[0;31mIntegrityError\u001b[0m                            Traceback (most recent call last)",
      "\u001b[0;32m<ipython-input-285-abb1dfc80580>\u001b[0m in \u001b[0;36m<module>\u001b[0;34m()\u001b[0m\n\u001b[0;32m----> 1\u001b[0;31m \u001b[0mget_ipython\u001b[0m\u001b[0;34m(\u001b[0m\u001b[0;34m)\u001b[0m\u001b[0;34m.\u001b[0m\u001b[0mrun_cell_magic\u001b[0m\u001b[0;34m(\u001b[0m\u001b[0;34mu'sql'\u001b[0m\u001b[0;34m,\u001b[0m \u001b[0;34mu''\u001b[0m\u001b[0;34m,\u001b[0m \u001b[0;34mu'/*7. Add an assignment to a course\\nAdding a Homework Assignment for Calculus-2 class\\nHW ID for Calculs-2 class is 2, and \\nthere are already 2 HWs for this class in the database;*/\\n\\nINSERT INTO ASSIGNMENT VALUES (41, 2, 3, 100);'\u001b[0m\u001b[0;34m)\u001b[0m\u001b[0;34m\u001b[0m\u001b[0m\n\u001b[0m",
      "\u001b[0;32m/Users/devendra/anaconda/lib/python2.7/site-packages/IPython/core/interactiveshell.pyc\u001b[0m in \u001b[0;36mrun_cell_magic\u001b[0;34m(self, magic_name, line, cell)\u001b[0m\n\u001b[1;32m   2113\u001b[0m             \u001b[0mmagic_arg_s\u001b[0m \u001b[0;34m=\u001b[0m \u001b[0mself\u001b[0m\u001b[0;34m.\u001b[0m\u001b[0mvar_expand\u001b[0m\u001b[0;34m(\u001b[0m\u001b[0mline\u001b[0m\u001b[0;34m,\u001b[0m \u001b[0mstack_depth\u001b[0m\u001b[0;34m)\u001b[0m\u001b[0;34m\u001b[0m\u001b[0m\n\u001b[1;32m   2114\u001b[0m             \u001b[0;32mwith\u001b[0m \u001b[0mself\u001b[0m\u001b[0;34m.\u001b[0m\u001b[0mbuiltin_trap\u001b[0m\u001b[0;34m:\u001b[0m\u001b[0;34m\u001b[0m\u001b[0m\n\u001b[0;32m-> 2115\u001b[0;31m                 \u001b[0mresult\u001b[0m \u001b[0;34m=\u001b[0m \u001b[0mfn\u001b[0m\u001b[0;34m(\u001b[0m\u001b[0mmagic_arg_s\u001b[0m\u001b[0;34m,\u001b[0m \u001b[0mcell\u001b[0m\u001b[0;34m)\u001b[0m\u001b[0;34m\u001b[0m\u001b[0m\n\u001b[0m\u001b[1;32m   2116\u001b[0m             \u001b[0;32mreturn\u001b[0m \u001b[0mresult\u001b[0m\u001b[0;34m\u001b[0m\u001b[0m\n\u001b[1;32m   2117\u001b[0m \u001b[0;34m\u001b[0m\u001b[0m\n",
      "\u001b[0;32m<decorator-gen-123>\u001b[0m in \u001b[0;36mexecute\u001b[0;34m(self, line, cell, local_ns)\u001b[0m\n",
      "\u001b[0;32m/Users/devendra/anaconda/lib/python2.7/site-packages/IPython/core/magic.pyc\u001b[0m in \u001b[0;36m<lambda>\u001b[0;34m(f, *a, **k)\u001b[0m\n\u001b[1;32m    186\u001b[0m     \u001b[0;31m# but it's overkill for just that one bit of state.\u001b[0m\u001b[0;34m\u001b[0m\u001b[0;34m\u001b[0m\u001b[0m\n\u001b[1;32m    187\u001b[0m     \u001b[0;32mdef\u001b[0m \u001b[0mmagic_deco\u001b[0m\u001b[0;34m(\u001b[0m\u001b[0marg\u001b[0m\u001b[0;34m)\u001b[0m\u001b[0;34m:\u001b[0m\u001b[0;34m\u001b[0m\u001b[0m\n\u001b[0;32m--> 188\u001b[0;31m         \u001b[0mcall\u001b[0m \u001b[0;34m=\u001b[0m \u001b[0;32mlambda\u001b[0m \u001b[0mf\u001b[0m\u001b[0;34m,\u001b[0m \u001b[0;34m*\u001b[0m\u001b[0ma\u001b[0m\u001b[0;34m,\u001b[0m \u001b[0;34m**\u001b[0m\u001b[0mk\u001b[0m\u001b[0;34m:\u001b[0m \u001b[0mf\u001b[0m\u001b[0;34m(\u001b[0m\u001b[0;34m*\u001b[0m\u001b[0ma\u001b[0m\u001b[0;34m,\u001b[0m \u001b[0;34m**\u001b[0m\u001b[0mk\u001b[0m\u001b[0;34m)\u001b[0m\u001b[0;34m\u001b[0m\u001b[0m\n\u001b[0m\u001b[1;32m    189\u001b[0m \u001b[0;34m\u001b[0m\u001b[0m\n\u001b[1;32m    190\u001b[0m         \u001b[0;32mif\u001b[0m \u001b[0mcallable\u001b[0m\u001b[0;34m(\u001b[0m\u001b[0marg\u001b[0m\u001b[0;34m)\u001b[0m\u001b[0;34m:\u001b[0m\u001b[0;34m\u001b[0m\u001b[0m\n",
      "\u001b[0;32m<decorator-gen-122>\u001b[0m in \u001b[0;36mexecute\u001b[0;34m(self, line, cell, local_ns)\u001b[0m\n",
      "\u001b[0;32m/Users/devendra/anaconda/lib/python2.7/site-packages/IPython/core/magic.pyc\u001b[0m in \u001b[0;36m<lambda>\u001b[0;34m(f, *a, **k)\u001b[0m\n\u001b[1;32m    186\u001b[0m     \u001b[0;31m# but it's overkill for just that one bit of state.\u001b[0m\u001b[0;34m\u001b[0m\u001b[0;34m\u001b[0m\u001b[0m\n\u001b[1;32m    187\u001b[0m     \u001b[0;32mdef\u001b[0m \u001b[0mmagic_deco\u001b[0m\u001b[0;34m(\u001b[0m\u001b[0marg\u001b[0m\u001b[0;34m)\u001b[0m\u001b[0;34m:\u001b[0m\u001b[0;34m\u001b[0m\u001b[0m\n\u001b[0;32m--> 188\u001b[0;31m         \u001b[0mcall\u001b[0m \u001b[0;34m=\u001b[0m \u001b[0;32mlambda\u001b[0m \u001b[0mf\u001b[0m\u001b[0;34m,\u001b[0m \u001b[0;34m*\u001b[0m\u001b[0ma\u001b[0m\u001b[0;34m,\u001b[0m \u001b[0;34m**\u001b[0m\u001b[0mk\u001b[0m\u001b[0;34m:\u001b[0m \u001b[0mf\u001b[0m\u001b[0;34m(\u001b[0m\u001b[0;34m*\u001b[0m\u001b[0ma\u001b[0m\u001b[0;34m,\u001b[0m \u001b[0;34m**\u001b[0m\u001b[0mk\u001b[0m\u001b[0;34m)\u001b[0m\u001b[0;34m\u001b[0m\u001b[0m\n\u001b[0m\u001b[1;32m    189\u001b[0m \u001b[0;34m\u001b[0m\u001b[0m\n\u001b[1;32m    190\u001b[0m         \u001b[0;32mif\u001b[0m \u001b[0mcallable\u001b[0m\u001b[0;34m(\u001b[0m\u001b[0marg\u001b[0m\u001b[0;34m)\u001b[0m\u001b[0;34m:\u001b[0m\u001b[0;34m\u001b[0m\u001b[0m\n",
      "\u001b[0;32m/Users/devendra/anaconda/lib/python2.7/site-packages/sql/magic.pyc\u001b[0m in \u001b[0;36mexecute\u001b[0;34m(self, line, cell, local_ns)\u001b[0m\n\u001b[1;32m     85\u001b[0m \u001b[0;34m\u001b[0m\u001b[0m\n\u001b[1;32m     86\u001b[0m         \u001b[0;32mtry\u001b[0m\u001b[0;34m:\u001b[0m\u001b[0;34m\u001b[0m\u001b[0m\n\u001b[0;32m---> 87\u001b[0;31m             \u001b[0mresult\u001b[0m \u001b[0;34m=\u001b[0m \u001b[0msql\u001b[0m\u001b[0;34m.\u001b[0m\u001b[0mrun\u001b[0m\u001b[0;34m.\u001b[0m\u001b[0mrun\u001b[0m\u001b[0;34m(\u001b[0m\u001b[0mconn\u001b[0m\u001b[0;34m,\u001b[0m \u001b[0mparsed\u001b[0m\u001b[0;34m[\u001b[0m\u001b[0;34m'sql'\u001b[0m\u001b[0;34m]\u001b[0m\u001b[0;34m,\u001b[0m \u001b[0mself\u001b[0m\u001b[0;34m,\u001b[0m \u001b[0muser_ns\u001b[0m\u001b[0;34m)\u001b[0m\u001b[0;34m\u001b[0m\u001b[0m\n\u001b[0m\u001b[1;32m     88\u001b[0m \u001b[0;34m\u001b[0m\u001b[0m\n\u001b[1;32m     89\u001b[0m             \u001b[0;32mif\u001b[0m \u001b[0mresult\u001b[0m \u001b[0;32mand\u001b[0m \u001b[0;34m~\u001b[0m\u001b[0misinstance\u001b[0m\u001b[0;34m(\u001b[0m\u001b[0mresult\u001b[0m\u001b[0;34m,\u001b[0m \u001b[0mstr\u001b[0m\u001b[0;34m)\u001b[0m \u001b[0;32mand\u001b[0m \u001b[0mself\u001b[0m\u001b[0;34m.\u001b[0m\u001b[0mcolumn_local_vars\u001b[0m\u001b[0;34m:\u001b[0m\u001b[0;34m\u001b[0m\u001b[0m\n",
      "\u001b[0;32m/Users/devendra/anaconda/lib/python2.7/site-packages/sql/run.pyc\u001b[0m in \u001b[0;36mrun\u001b[0;34m(conn, sql, config, user_namespace)\u001b[0m\n\u001b[1;32m    274\u001b[0m                 \u001b[0;32mraise\u001b[0m \u001b[0mException\u001b[0m\u001b[0;34m(\u001b[0m\u001b[0;34m\"ipython_sql does not support transactions\"\u001b[0m\u001b[0;34m)\u001b[0m\u001b[0;34m\u001b[0m\u001b[0m\n\u001b[1;32m    275\u001b[0m             \u001b[0mtxt\u001b[0m \u001b[0;34m=\u001b[0m \u001b[0msqlalchemy\u001b[0m\u001b[0;34m.\u001b[0m\u001b[0msql\u001b[0m\u001b[0;34m.\u001b[0m\u001b[0mtext\u001b[0m\u001b[0;34m(\u001b[0m\u001b[0mstatement\u001b[0m\u001b[0;34m)\u001b[0m\u001b[0;34m\u001b[0m\u001b[0m\n\u001b[0;32m--> 276\u001b[0;31m             \u001b[0mresult\u001b[0m \u001b[0;34m=\u001b[0m \u001b[0mconn\u001b[0m\u001b[0;34m.\u001b[0m\u001b[0msession\u001b[0m\u001b[0;34m.\u001b[0m\u001b[0mexecute\u001b[0m\u001b[0;34m(\u001b[0m\u001b[0mtxt\u001b[0m\u001b[0;34m,\u001b[0m \u001b[0muser_namespace\u001b[0m\u001b[0;34m)\u001b[0m\u001b[0;34m\u001b[0m\u001b[0m\n\u001b[0m\u001b[1;32m    277\u001b[0m             \u001b[0;32mtry\u001b[0m\u001b[0;34m:\u001b[0m\u001b[0;34m\u001b[0m\u001b[0m\n\u001b[1;32m    278\u001b[0m                 \u001b[0;31m# mssql has autocommit\u001b[0m\u001b[0;34m\u001b[0m\u001b[0;34m\u001b[0m\u001b[0m\n",
      "\u001b[0;32m/Users/devendra/anaconda/lib/python2.7/site-packages/sqlalchemy/engine/base.pyc\u001b[0m in \u001b[0;36mexecute\u001b[0;34m(self, object, *multiparams, **params)\u001b[0m\n\u001b[1;32m    943\u001b[0m             \u001b[0;32mraise\u001b[0m \u001b[0mexc\u001b[0m\u001b[0;34m.\u001b[0m\u001b[0mObjectNotExecutableError\u001b[0m\u001b[0;34m(\u001b[0m\u001b[0mobject\u001b[0m\u001b[0;34m)\u001b[0m\u001b[0;34m\u001b[0m\u001b[0m\n\u001b[1;32m    944\u001b[0m         \u001b[0;32melse\u001b[0m\u001b[0;34m:\u001b[0m\u001b[0;34m\u001b[0m\u001b[0m\n\u001b[0;32m--> 945\u001b[0;31m             \u001b[0;32mreturn\u001b[0m \u001b[0mmeth\u001b[0m\u001b[0;34m(\u001b[0m\u001b[0mself\u001b[0m\u001b[0;34m,\u001b[0m \u001b[0mmultiparams\u001b[0m\u001b[0;34m,\u001b[0m \u001b[0mparams\u001b[0m\u001b[0;34m)\u001b[0m\u001b[0;34m\u001b[0m\u001b[0m\n\u001b[0m\u001b[1;32m    946\u001b[0m \u001b[0;34m\u001b[0m\u001b[0m\n\u001b[1;32m    947\u001b[0m     \u001b[0;32mdef\u001b[0m \u001b[0m_execute_function\u001b[0m\u001b[0;34m(\u001b[0m\u001b[0mself\u001b[0m\u001b[0;34m,\u001b[0m \u001b[0mfunc\u001b[0m\u001b[0;34m,\u001b[0m \u001b[0mmultiparams\u001b[0m\u001b[0;34m,\u001b[0m \u001b[0mparams\u001b[0m\u001b[0;34m)\u001b[0m\u001b[0;34m:\u001b[0m\u001b[0;34m\u001b[0m\u001b[0m\n",
      "\u001b[0;32m/Users/devendra/anaconda/lib/python2.7/site-packages/sqlalchemy/sql/elements.pyc\u001b[0m in \u001b[0;36m_execute_on_connection\u001b[0;34m(self, connection, multiparams, params)\u001b[0m\n\u001b[1;32m    261\u001b[0m     \u001b[0;32mdef\u001b[0m \u001b[0m_execute_on_connection\u001b[0m\u001b[0;34m(\u001b[0m\u001b[0mself\u001b[0m\u001b[0;34m,\u001b[0m \u001b[0mconnection\u001b[0m\u001b[0;34m,\u001b[0m \u001b[0mmultiparams\u001b[0m\u001b[0;34m,\u001b[0m \u001b[0mparams\u001b[0m\u001b[0;34m)\u001b[0m\u001b[0;34m:\u001b[0m\u001b[0;34m\u001b[0m\u001b[0m\n\u001b[1;32m    262\u001b[0m         \u001b[0;32mif\u001b[0m \u001b[0mself\u001b[0m\u001b[0;34m.\u001b[0m\u001b[0msupports_execution\u001b[0m\u001b[0;34m:\u001b[0m\u001b[0;34m\u001b[0m\u001b[0m\n\u001b[0;32m--> 263\u001b[0;31m             \u001b[0;32mreturn\u001b[0m \u001b[0mconnection\u001b[0m\u001b[0;34m.\u001b[0m\u001b[0m_execute_clauseelement\u001b[0m\u001b[0;34m(\u001b[0m\u001b[0mself\u001b[0m\u001b[0;34m,\u001b[0m \u001b[0mmultiparams\u001b[0m\u001b[0;34m,\u001b[0m \u001b[0mparams\u001b[0m\u001b[0;34m)\u001b[0m\u001b[0;34m\u001b[0m\u001b[0m\n\u001b[0m\u001b[1;32m    264\u001b[0m         \u001b[0;32melse\u001b[0m\u001b[0;34m:\u001b[0m\u001b[0;34m\u001b[0m\u001b[0m\n\u001b[1;32m    265\u001b[0m             \u001b[0;32mraise\u001b[0m \u001b[0mexc\u001b[0m\u001b[0;34m.\u001b[0m\u001b[0mObjectNotExecutableError\u001b[0m\u001b[0;34m(\u001b[0m\u001b[0mself\u001b[0m\u001b[0;34m)\u001b[0m\u001b[0;34m\u001b[0m\u001b[0m\n",
      "\u001b[0;32m/Users/devendra/anaconda/lib/python2.7/site-packages/sqlalchemy/engine/base.pyc\u001b[0m in \u001b[0;36m_execute_clauseelement\u001b[0;34m(self, elem, multiparams, params)\u001b[0m\n\u001b[1;32m   1051\u001b[0m             \u001b[0mcompiled_sql\u001b[0m\u001b[0;34m,\u001b[0m\u001b[0;34m\u001b[0m\u001b[0m\n\u001b[1;32m   1052\u001b[0m             \u001b[0mdistilled_params\u001b[0m\u001b[0;34m,\u001b[0m\u001b[0;34m\u001b[0m\u001b[0m\n\u001b[0;32m-> 1053\u001b[0;31m             \u001b[0mcompiled_sql\u001b[0m\u001b[0;34m,\u001b[0m \u001b[0mdistilled_params\u001b[0m\u001b[0;34m\u001b[0m\u001b[0m\n\u001b[0m\u001b[1;32m   1054\u001b[0m         )\n\u001b[1;32m   1055\u001b[0m         \u001b[0;32mif\u001b[0m \u001b[0mself\u001b[0m\u001b[0;34m.\u001b[0m\u001b[0m_has_events\u001b[0m \u001b[0;32mor\u001b[0m \u001b[0mself\u001b[0m\u001b[0;34m.\u001b[0m\u001b[0mengine\u001b[0m\u001b[0;34m.\u001b[0m\u001b[0m_has_events\u001b[0m\u001b[0;34m:\u001b[0m\u001b[0;34m\u001b[0m\u001b[0m\n",
      "\u001b[0;32m/Users/devendra/anaconda/lib/python2.7/site-packages/sqlalchemy/engine/base.pyc\u001b[0m in \u001b[0;36m_execute_context\u001b[0;34m(self, dialect, constructor, statement, parameters, *args)\u001b[0m\n\u001b[1;32m   1187\u001b[0m                 \u001b[0mparameters\u001b[0m\u001b[0;34m,\u001b[0m\u001b[0;34m\u001b[0m\u001b[0m\n\u001b[1;32m   1188\u001b[0m                 \u001b[0mcursor\u001b[0m\u001b[0;34m,\u001b[0m\u001b[0;34m\u001b[0m\u001b[0m\n\u001b[0;32m-> 1189\u001b[0;31m                 context)\n\u001b[0m\u001b[1;32m   1190\u001b[0m \u001b[0;34m\u001b[0m\u001b[0m\n\u001b[1;32m   1191\u001b[0m         \u001b[0;32mif\u001b[0m \u001b[0mself\u001b[0m\u001b[0;34m.\u001b[0m\u001b[0m_has_events\u001b[0m \u001b[0;32mor\u001b[0m \u001b[0mself\u001b[0m\u001b[0;34m.\u001b[0m\u001b[0mengine\u001b[0m\u001b[0;34m.\u001b[0m\u001b[0m_has_events\u001b[0m\u001b[0;34m:\u001b[0m\u001b[0;34m\u001b[0m\u001b[0m\n",
      "\u001b[0;32m/Users/devendra/anaconda/lib/python2.7/site-packages/sqlalchemy/engine/base.pyc\u001b[0m in \u001b[0;36m_handle_dbapi_exception\u001b[0;34m(self, e, statement, parameters, cursor, context)\u001b[0m\n\u001b[1;32m   1400\u001b[0m                 util.raise_from_cause(\n\u001b[1;32m   1401\u001b[0m                     \u001b[0msqlalchemy_exception\u001b[0m\u001b[0;34m,\u001b[0m\u001b[0;34m\u001b[0m\u001b[0m\n\u001b[0;32m-> 1402\u001b[0;31m                     \u001b[0mexc_info\u001b[0m\u001b[0;34m\u001b[0m\u001b[0m\n\u001b[0m\u001b[1;32m   1403\u001b[0m                 )\n\u001b[1;32m   1404\u001b[0m             \u001b[0;32melse\u001b[0m\u001b[0;34m:\u001b[0m\u001b[0;34m\u001b[0m\u001b[0m\n",
      "\u001b[0;32m/Users/devendra/anaconda/lib/python2.7/site-packages/sqlalchemy/util/compat.pyc\u001b[0m in \u001b[0;36mraise_from_cause\u001b[0;34m(exception, exc_info)\u001b[0m\n\u001b[1;32m    201\u001b[0m     \u001b[0mexc_type\u001b[0m\u001b[0;34m,\u001b[0m \u001b[0mexc_value\u001b[0m\u001b[0;34m,\u001b[0m \u001b[0mexc_tb\u001b[0m \u001b[0;34m=\u001b[0m \u001b[0mexc_info\u001b[0m\u001b[0;34m\u001b[0m\u001b[0m\n\u001b[1;32m    202\u001b[0m     \u001b[0mcause\u001b[0m \u001b[0;34m=\u001b[0m \u001b[0mexc_value\u001b[0m \u001b[0;32mif\u001b[0m \u001b[0mexc_value\u001b[0m \u001b[0;32mis\u001b[0m \u001b[0;32mnot\u001b[0m \u001b[0mexception\u001b[0m \u001b[0;32melse\u001b[0m \u001b[0mNone\u001b[0m\u001b[0;34m\u001b[0m\u001b[0m\n\u001b[0;32m--> 203\u001b[0;31m     \u001b[0mreraise\u001b[0m\u001b[0;34m(\u001b[0m\u001b[0mtype\u001b[0m\u001b[0;34m(\u001b[0m\u001b[0mexception\u001b[0m\u001b[0;34m)\u001b[0m\u001b[0;34m,\u001b[0m \u001b[0mexception\u001b[0m\u001b[0;34m,\u001b[0m \u001b[0mtb\u001b[0m\u001b[0;34m=\u001b[0m\u001b[0mexc_tb\u001b[0m\u001b[0;34m,\u001b[0m \u001b[0mcause\u001b[0m\u001b[0;34m=\u001b[0m\u001b[0mcause\u001b[0m\u001b[0;34m)\u001b[0m\u001b[0;34m\u001b[0m\u001b[0m\n\u001b[0m\u001b[1;32m    204\u001b[0m \u001b[0;34m\u001b[0m\u001b[0m\n\u001b[1;32m    205\u001b[0m \u001b[0;32mif\u001b[0m \u001b[0mpy3k\u001b[0m\u001b[0;34m:\u001b[0m\u001b[0;34m\u001b[0m\u001b[0m\n",
      "\u001b[0;32m/Users/devendra/anaconda/lib/python2.7/site-packages/sqlalchemy/engine/base.pyc\u001b[0m in \u001b[0;36m_execute_context\u001b[0;34m(self, dialect, constructor, statement, parameters, *args)\u001b[0m\n\u001b[1;32m   1180\u001b[0m                         \u001b[0mstatement\u001b[0m\u001b[0;34m,\u001b[0m\u001b[0;34m\u001b[0m\u001b[0m\n\u001b[1;32m   1181\u001b[0m                         \u001b[0mparameters\u001b[0m\u001b[0;34m,\u001b[0m\u001b[0;34m\u001b[0m\u001b[0m\n\u001b[0;32m-> 1182\u001b[0;31m                         context)\n\u001b[0m\u001b[1;32m   1183\u001b[0m         \u001b[0;32mexcept\u001b[0m \u001b[0mBaseException\u001b[0m \u001b[0;32mas\u001b[0m \u001b[0me\u001b[0m\u001b[0;34m:\u001b[0m\u001b[0;34m\u001b[0m\u001b[0m\n\u001b[1;32m   1184\u001b[0m             self._handle_dbapi_exception(\n",
      "\u001b[0;32m/Users/devendra/anaconda/lib/python2.7/site-packages/sqlalchemy/engine/default.pyc\u001b[0m in \u001b[0;36mdo_execute\u001b[0;34m(self, cursor, statement, parameters, context)\u001b[0m\n\u001b[1;32m    468\u001b[0m \u001b[0;34m\u001b[0m\u001b[0m\n\u001b[1;32m    469\u001b[0m     \u001b[0;32mdef\u001b[0m \u001b[0mdo_execute\u001b[0m\u001b[0;34m(\u001b[0m\u001b[0mself\u001b[0m\u001b[0;34m,\u001b[0m \u001b[0mcursor\u001b[0m\u001b[0;34m,\u001b[0m \u001b[0mstatement\u001b[0m\u001b[0;34m,\u001b[0m \u001b[0mparameters\u001b[0m\u001b[0;34m,\u001b[0m \u001b[0mcontext\u001b[0m\u001b[0;34m=\u001b[0m\u001b[0mNone\u001b[0m\u001b[0;34m)\u001b[0m\u001b[0;34m:\u001b[0m\u001b[0;34m\u001b[0m\u001b[0m\n\u001b[0;32m--> 470\u001b[0;31m         \u001b[0mcursor\u001b[0m\u001b[0;34m.\u001b[0m\u001b[0mexecute\u001b[0m\u001b[0;34m(\u001b[0m\u001b[0mstatement\u001b[0m\u001b[0;34m,\u001b[0m \u001b[0mparameters\u001b[0m\u001b[0;34m)\u001b[0m\u001b[0;34m\u001b[0m\u001b[0m\n\u001b[0m\u001b[1;32m    471\u001b[0m \u001b[0;34m\u001b[0m\u001b[0m\n\u001b[1;32m    472\u001b[0m     \u001b[0;32mdef\u001b[0m \u001b[0mdo_execute_no_params\u001b[0m\u001b[0;34m(\u001b[0m\u001b[0mself\u001b[0m\u001b[0;34m,\u001b[0m \u001b[0mcursor\u001b[0m\u001b[0;34m,\u001b[0m \u001b[0mstatement\u001b[0m\u001b[0;34m,\u001b[0m \u001b[0mcontext\u001b[0m\u001b[0;34m=\u001b[0m\u001b[0mNone\u001b[0m\u001b[0;34m)\u001b[0m\u001b[0;34m:\u001b[0m\u001b[0;34m\u001b[0m\u001b[0m\n",
      "\u001b[0;31mIntegrityError\u001b[0m: (sqlite3.IntegrityError) UNIQUE constraint failed: ASSIGNMENT.AssignmentID [SQL: u'/*7. Add an assignment to a course\\nAdding a Homework Assignment for Calculus-2 class\\nHW ID for Calculs-2 class is 2, and \\nthere are already 2 HWs for this class in the database;*/\\n\\nINSERT INTO ASSIGNMENT VALUES (41, 2, 3, 100);']"
     ]
    }
   ],
   "source": [
    "%%sql\n",
    "/*7. Add an assignment to a course\n",
    "Adding a Homework Assignment for Calculus-2 class\n",
    "HW ID for Calculs-2 class is 2, and \n",
    "there are already 2 HWs for this class in the database;*/\n",
    "\n",
    "INSERT INTO ASSIGNMENT VALUES (41, 2, 3, 100);"
   ]
  },
  {
   "cell_type": "code",
   "execution_count": 5,
   "metadata": {
    "collapsed": false
   },
   "outputs": [
    {
     "name": "stdout",
     "output_type": "stream",
     "text": [
      "Done.\n"
     ]
    },
    {
     "data": {
      "text/html": [
       "<table>\n",
       "    <tr>\n",
       "        <th>AssignmentID</th>\n",
       "        <th>DistributionID</th>\n",
       "        <th>Instance</th>\n",
       "        <th>PointsPossible</th>\n",
       "    </tr>\n",
       "    <tr>\n",
       "        <td>1</td>\n",
       "        <td>1</td>\n",
       "        <td>1</td>\n",
       "        <td>100</td>\n",
       "    </tr>\n",
       "    <tr>\n",
       "        <td>2</td>\n",
       "        <td>1</td>\n",
       "        <td>2</td>\n",
       "        <td>100</td>\n",
       "    </tr>\n",
       "    <tr>\n",
       "        <td>3</td>\n",
       "        <td>2</td>\n",
       "        <td>1</td>\n",
       "        <td>100</td>\n",
       "    </tr>\n",
       "    <tr>\n",
       "        <td>4</td>\n",
       "        <td>2</td>\n",
       "        <td>2</td>\n",
       "        <td>100</td>\n",
       "    </tr>\n",
       "    <tr>\n",
       "        <td>41</td>\n",
       "        <td>2</td>\n",
       "        <td>3</td>\n",
       "        <td>100</td>\n",
       "    </tr>\n",
       "    <tr>\n",
       "        <td>5</td>\n",
       "        <td>3</td>\n",
       "        <td>1</td>\n",
       "        <td>100</td>\n",
       "    </tr>\n",
       "    <tr>\n",
       "        <td>6</td>\n",
       "        <td>3</td>\n",
       "        <td>2</td>\n",
       "        <td>100</td>\n",
       "    </tr>\n",
       "    <tr>\n",
       "        <td>7</td>\n",
       "        <td>4</td>\n",
       "        <td>1</td>\n",
       "        <td>100</td>\n",
       "    </tr>\n",
       "    <tr>\n",
       "        <td>8</td>\n",
       "        <td>4</td>\n",
       "        <td>2</td>\n",
       "        <td>100</td>\n",
       "    </tr>\n",
       "    <tr>\n",
       "        <td>9</td>\n",
       "        <td>5</td>\n",
       "        <td>1</td>\n",
       "        <td>100</td>\n",
       "    </tr>\n",
       "    <tr>\n",
       "        <td>10</td>\n",
       "        <td>5</td>\n",
       "        <td>2</td>\n",
       "        <td>100</td>\n",
       "    </tr>\n",
       "    <tr>\n",
       "        <td>11</td>\n",
       "        <td>6</td>\n",
       "        <td>1</td>\n",
       "        <td>100</td>\n",
       "    </tr>\n",
       "    <tr>\n",
       "        <td>12</td>\n",
       "        <td>6</td>\n",
       "        <td>2</td>\n",
       "        <td>100</td>\n",
       "    </tr>\n",
       "    <tr>\n",
       "        <td>13</td>\n",
       "        <td>7</td>\n",
       "        <td>1</td>\n",
       "        <td>100</td>\n",
       "    </tr>\n",
       "    <tr>\n",
       "        <td>14</td>\n",
       "        <td>7</td>\n",
       "        <td>2</td>\n",
       "        <td>100</td>\n",
       "    </tr>\n",
       "    <tr>\n",
       "        <td>15</td>\n",
       "        <td>8</td>\n",
       "        <td>1</td>\n",
       "        <td>100</td>\n",
       "    </tr>\n",
       "    <tr>\n",
       "        <td>16</td>\n",
       "        <td>8</td>\n",
       "        <td>2</td>\n",
       "        <td>100</td>\n",
       "    </tr>\n",
       "    <tr>\n",
       "        <td>17</td>\n",
       "        <td>9</td>\n",
       "        <td>1</td>\n",
       "        <td>100</td>\n",
       "    </tr>\n",
       "    <tr>\n",
       "        <td>18</td>\n",
       "        <td>9</td>\n",
       "        <td>2</td>\n",
       "        <td>100</td>\n",
       "    </tr>\n",
       "    <tr>\n",
       "        <td>19</td>\n",
       "        <td>10</td>\n",
       "        <td>1</td>\n",
       "        <td>100</td>\n",
       "    </tr>\n",
       "    <tr>\n",
       "        <td>20</td>\n",
       "        <td>10</td>\n",
       "        <td>2</td>\n",
       "        <td>100</td>\n",
       "    </tr>\n",
       "    <tr>\n",
       "        <td>21</td>\n",
       "        <td>11</td>\n",
       "        <td>1</td>\n",
       "        <td>100</td>\n",
       "    </tr>\n",
       "    <tr>\n",
       "        <td>22</td>\n",
       "        <td>11</td>\n",
       "        <td>2</td>\n",
       "        <td>100</td>\n",
       "    </tr>\n",
       "    <tr>\n",
       "        <td>23</td>\n",
       "        <td>12</td>\n",
       "        <td>1</td>\n",
       "        <td>100</td>\n",
       "    </tr>\n",
       "    <tr>\n",
       "        <td>24</td>\n",
       "        <td>12</td>\n",
       "        <td>2</td>\n",
       "        <td>100</td>\n",
       "    </tr>\n",
       "    <tr>\n",
       "        <td>25</td>\n",
       "        <td>13</td>\n",
       "        <td>1</td>\n",
       "        <td>100</td>\n",
       "    </tr>\n",
       "    <tr>\n",
       "        <td>26</td>\n",
       "        <td>13</td>\n",
       "        <td>2</td>\n",
       "        <td>100</td>\n",
       "    </tr>\n",
       "    <tr>\n",
       "        <td>27</td>\n",
       "        <td>14</td>\n",
       "        <td>1</td>\n",
       "        <td>100</td>\n",
       "    </tr>\n",
       "    <tr>\n",
       "        <td>28</td>\n",
       "        <td>14</td>\n",
       "        <td>2</td>\n",
       "        <td>100</td>\n",
       "    </tr>\n",
       "    <tr>\n",
       "        <td>29</td>\n",
       "        <td>15</td>\n",
       "        <td>1</td>\n",
       "        <td>100</td>\n",
       "    </tr>\n",
       "    <tr>\n",
       "        <td>30</td>\n",
       "        <td>15</td>\n",
       "        <td>2</td>\n",
       "        <td>100</td>\n",
       "    </tr>\n",
       "    <tr>\n",
       "        <td>31</td>\n",
       "        <td>16</td>\n",
       "        <td>1</td>\n",
       "        <td>100</td>\n",
       "    </tr>\n",
       "    <tr>\n",
       "        <td>32</td>\n",
       "        <td>16</td>\n",
       "        <td>2</td>\n",
       "        <td>100</td>\n",
       "    </tr>\n",
       "    <tr>\n",
       "        <td>33</td>\n",
       "        <td>17</td>\n",
       "        <td>1</td>\n",
       "        <td>100</td>\n",
       "    </tr>\n",
       "    <tr>\n",
       "        <td>34</td>\n",
       "        <td>17</td>\n",
       "        <td>2</td>\n",
       "        <td>100</td>\n",
       "    </tr>\n",
       "    <tr>\n",
       "        <td>35</td>\n",
       "        <td>18</td>\n",
       "        <td>1</td>\n",
       "        <td>100</td>\n",
       "    </tr>\n",
       "    <tr>\n",
       "        <td>36</td>\n",
       "        <td>18</td>\n",
       "        <td>2</td>\n",
       "        <td>100</td>\n",
       "    </tr>\n",
       "    <tr>\n",
       "        <td>37</td>\n",
       "        <td>19</td>\n",
       "        <td>1</td>\n",
       "        <td>100</td>\n",
       "    </tr>\n",
       "    <tr>\n",
       "        <td>38</td>\n",
       "        <td>19</td>\n",
       "        <td>2</td>\n",
       "        <td>100</td>\n",
       "    </tr>\n",
       "    <tr>\n",
       "        <td>39</td>\n",
       "        <td>20</td>\n",
       "        <td>1</td>\n",
       "        <td>100</td>\n",
       "    </tr>\n",
       "    <tr>\n",
       "        <td>40</td>\n",
       "        <td>20</td>\n",
       "        <td>2</td>\n",
       "        <td>100</td>\n",
       "    </tr>\n",
       "</table>"
      ],
      "text/plain": [
       "[(1, 1, 1, 100),\n",
       " (2, 1, 2, 100),\n",
       " (3, 2, 1, 100),\n",
       " (4, 2, 2, 100),\n",
       " (41, 2, 3, 100),\n",
       " (5, 3, 1, 100),\n",
       " (6, 3, 2, 100),\n",
       " (7, 4, 1, 100),\n",
       " (8, 4, 2, 100),\n",
       " (9, 5, 1, 100),\n",
       " (10, 5, 2, 100),\n",
       " (11, 6, 1, 100),\n",
       " (12, 6, 2, 100),\n",
       " (13, 7, 1, 100),\n",
       " (14, 7, 2, 100),\n",
       " (15, 8, 1, 100),\n",
       " (16, 8, 2, 100),\n",
       " (17, 9, 1, 100),\n",
       " (18, 9, 2, 100),\n",
       " (19, 10, 1, 100),\n",
       " (20, 10, 2, 100),\n",
       " (21, 11, 1, 100),\n",
       " (22, 11, 2, 100),\n",
       " (23, 12, 1, 100),\n",
       " (24, 12, 2, 100),\n",
       " (25, 13, 1, 100),\n",
       " (26, 13, 2, 100),\n",
       " (27, 14, 1, 100),\n",
       " (28, 14, 2, 100),\n",
       " (29, 15, 1, 100),\n",
       " (30, 15, 2, 100),\n",
       " (31, 16, 1, 100),\n",
       " (32, 16, 2, 100),\n",
       " (33, 17, 1, 100),\n",
       " (34, 17, 2, 100),\n",
       " (35, 18, 1, 100),\n",
       " (36, 18, 2, 100),\n",
       " (37, 19, 1, 100),\n",
       " (38, 19, 2, 100),\n",
       " (39, 20, 1, 100),\n",
       " (40, 20, 2, 100)]"
      ]
     },
     "execution_count": 5,
     "metadata": {},
     "output_type": "execute_result"
    }
   ],
   "source": [
    "%%sql\n",
    "SELECT * FROM ASSIGNMENT ORDER BY DistributionID;"
   ]
  },
  {
   "cell_type": "code",
   "execution_count": 6,
   "metadata": {
    "collapsed": false
   },
   "outputs": [
    {
     "name": "stdout",
     "output_type": "stream",
     "text": [
      "Done.\n",
      "1 rows affected.\n",
      "1 rows affected.\n",
      "1 rows affected.\n"
     ]
    },
    {
     "data": {
      "text/plain": [
       "[]"
      ]
     },
     "execution_count": 6,
     "metadata": {},
     "output_type": "execute_result"
    }
   ],
   "source": [
    "%%sql \n",
    "/*8. Change the percentages of the categories for a course;\n",
    "Changing the percentages for all the categories of Calculus-2 class*/\n",
    "\n",
    "UPDATE DISTRIBUTION\n",
    "SET PERCENTAGE = 80\n",
    "WHERE CourseID = 85675\n",
    "AND CategoryName = 'Quiz'\n",
    "AND DistributionID = 1; \n",
    "\n",
    "UPDATE DISTRIBUTION\n",
    "SET PERCENTAGE = 5\n",
    "WHERE CourseID = 85675\n",
    "AND CategoryName = 'HW'\n",
    "AND DistributionID = 2;\n",
    "\n",
    "UPDATE DISTRIBUTION\n",
    "SET PERCENTAGE = 5\n",
    "WHERE CourseID = 85675\n",
    "AND CategoryName = 'MidTerm'\n",
    "AND DistributionID = 3;\n",
    "\n",
    "UPDATE DISTRIBUTION\n",
    "SET PERCENTAGE = 10\n",
    "WHERE CourseID = 85675\n",
    "AND CategoryName = 'Final'\n",
    "AND DistributionID = 4;"
   ]
  },
  {
   "cell_type": "code",
   "execution_count": 7,
   "metadata": {
    "collapsed": false
   },
   "outputs": [
    {
     "name": "stdout",
     "output_type": "stream",
     "text": [
      "Done.\n"
     ]
    },
    {
     "data": {
      "text/html": [
       "<table>\n",
       "    <tr>\n",
       "        <th>DistributionID</th>\n",
       "        <th>CourseID</th>\n",
       "        <th>CategoryName</th>\n",
       "        <th>PERCENTAGE</th>\n",
       "    </tr>\n",
       "    <tr>\n",
       "        <td>1</td>\n",
       "        <td>85675</td>\n",
       "        <td>Quiz</td>\n",
       "        <td>80</td>\n",
       "    </tr>\n",
       "    <tr>\n",
       "        <td>2</td>\n",
       "        <td>85675</td>\n",
       "        <td>HW</td>\n",
       "        <td>5</td>\n",
       "    </tr>\n",
       "    <tr>\n",
       "        <td>3</td>\n",
       "        <td>85675</td>\n",
       "        <td>MidTerm</td>\n",
       "        <td>5</td>\n",
       "    </tr>\n",
       "    <tr>\n",
       "        <td>4</td>\n",
       "        <td>85675</td>\n",
       "        <td>Final</td>\n",
       "        <td>10</td>\n",
       "    </tr>\n",
       "    <tr>\n",
       "        <td>5</td>\n",
       "        <td>89994</td>\n",
       "        <td>Participation</td>\n",
       "        <td>40</td>\n",
       "    </tr>\n",
       "    <tr>\n",
       "        <td>6</td>\n",
       "        <td>89994</td>\n",
       "        <td>HW</td>\n",
       "        <td>10</td>\n",
       "    </tr>\n",
       "    <tr>\n",
       "        <td>7</td>\n",
       "        <td>89994</td>\n",
       "        <td>MidTerm</td>\n",
       "        <td>25</td>\n",
       "    </tr>\n",
       "    <tr>\n",
       "        <td>8</td>\n",
       "        <td>89994</td>\n",
       "        <td>Final</td>\n",
       "        <td>25</td>\n",
       "    </tr>\n",
       "    <tr>\n",
       "        <td>9</td>\n",
       "        <td>56738</td>\n",
       "        <td>Quiz</td>\n",
       "        <td>40</td>\n",
       "    </tr>\n",
       "    <tr>\n",
       "        <td>10</td>\n",
       "        <td>56738</td>\n",
       "        <td>HW</td>\n",
       "        <td>15</td>\n",
       "    </tr>\n",
       "    <tr>\n",
       "        <td>11</td>\n",
       "        <td>56738</td>\n",
       "        <td>MidTerm</td>\n",
       "        <td>20</td>\n",
       "    </tr>\n",
       "    <tr>\n",
       "        <td>12</td>\n",
       "        <td>56738</td>\n",
       "        <td>Final</td>\n",
       "        <td>25</td>\n",
       "    </tr>\n",
       "    <tr>\n",
       "        <td>13</td>\n",
       "        <td>90573</td>\n",
       "        <td>Quiz</td>\n",
       "        <td>20</td>\n",
       "    </tr>\n",
       "    <tr>\n",
       "        <td>14</td>\n",
       "        <td>90573</td>\n",
       "        <td>HW</td>\n",
       "        <td>25</td>\n",
       "    </tr>\n",
       "    <tr>\n",
       "        <td>15</td>\n",
       "        <td>90573</td>\n",
       "        <td>Project</td>\n",
       "        <td>30</td>\n",
       "    </tr>\n",
       "    <tr>\n",
       "        <td>16</td>\n",
       "        <td>90573</td>\n",
       "        <td>Final</td>\n",
       "        <td>25</td>\n",
       "    </tr>\n",
       "    <tr>\n",
       "        <td>17</td>\n",
       "        <td>48387</td>\n",
       "        <td>Quiz</td>\n",
       "        <td>30</td>\n",
       "    </tr>\n",
       "    <tr>\n",
       "        <td>18</td>\n",
       "        <td>48387</td>\n",
       "        <td>HW</td>\n",
       "        <td>25</td>\n",
       "    </tr>\n",
       "    <tr>\n",
       "        <td>19</td>\n",
       "        <td>48387</td>\n",
       "        <td>Project</td>\n",
       "        <td>20</td>\n",
       "    </tr>\n",
       "    <tr>\n",
       "        <td>20</td>\n",
       "        <td>48387</td>\n",
       "        <td>Final</td>\n",
       "        <td>25</td>\n",
       "    </tr>\n",
       "</table>"
      ],
      "text/plain": [
       "[(1, 85675, u'Quiz', 80),\n",
       " (2, 85675, u'HW', 5),\n",
       " (3, 85675, u'MidTerm', 5),\n",
       " (4, 85675, u'Final', 10),\n",
       " (5, 89994, u'Participation', 40),\n",
       " (6, 89994, u'HW', 10),\n",
       " (7, 89994, u'MidTerm', 25),\n",
       " (8, 89994, u'Final', 25),\n",
       " (9, 56738, u'Quiz', 40),\n",
       " (10, 56738, u'HW', 15),\n",
       " (11, 56738, u'MidTerm', 20),\n",
       " (12, 56738, u'Final', 25),\n",
       " (13, 90573, u'Quiz', 20),\n",
       " (14, 90573, u'HW', 25),\n",
       " (15, 90573, u'Project', 30),\n",
       " (16, 90573, u'Final', 25),\n",
       " (17, 48387, u'Quiz', 30),\n",
       " (18, 48387, u'HW', 25),\n",
       " (19, 48387, u'Project', 20),\n",
       " (20, 48387, u'Final', 25)]"
      ]
     },
     "execution_count": 7,
     "metadata": {},
     "output_type": "execute_result"
    }
   ],
   "source": [
    "%%sql\n",
    "SELECT * FROM DISTRIBUTION;"
   ]
  },
  {
   "cell_type": "code",
   "execution_count": 8,
   "metadata": {
    "collapsed": false
   },
   "outputs": [
    {
     "name": "stdout",
     "output_type": "stream",
     "text": [
      "Done.\n"
     ]
    },
    {
     "data": {
      "text/plain": [
       "[]"
      ]
     },
     "execution_count": 8,
     "metadata": {},
     "output_type": "execute_result"
    }
   ],
   "source": [
    "%%sql \n",
    "/*9. Add 2 points to the score of each student on an assignment;\n",
    "Adding 2 points to the score of all the students on Quiz-2 \n",
    "in Calculus 2 class*/\n",
    "\n",
    "UPDATE SCORE\n",
    "SET Points = Points + 2\n",
    "WHERE AssignmentID = 2;"
   ]
  },
  {
   "cell_type": "code",
   "execution_count": 17,
   "metadata": {
    "collapsed": false
   },
   "outputs": [
    {
     "name": "stdout",
     "output_type": "stream",
     "text": [
      "Done.\n"
     ]
    },
    {
     "data": {
      "text/html": [
       "<table>\n",
       "    <tr>\n",
       "        <th>StudentID</th>\n",
       "        <th>AssignmentID</th>\n",
       "        <th>Points</th>\n",
       "    </tr>\n",
       "    <tr>\n",
       "        <td>1234</td>\n",
       "        <td>2</td>\n",
       "        <td>83</td>\n",
       "    </tr>\n",
       "    <tr>\n",
       "        <td>5678</td>\n",
       "        <td>2</td>\n",
       "        <td>86</td>\n",
       "    </tr>\n",
       "    <tr>\n",
       "        <td>3456</td>\n",
       "        <td>2</td>\n",
       "        <td>97</td>\n",
       "    </tr>\n",
       "    <tr>\n",
       "        <td>4590</td>\n",
       "        <td>2</td>\n",
       "        <td>64</td>\n",
       "    </tr>\n",
       "    <tr>\n",
       "        <td>5337</td>\n",
       "        <td>2</td>\n",
       "        <td>92</td>\n",
       "    </tr>\n",
       "    <tr>\n",
       "        <td>5555</td>\n",
       "        <td>2</td>\n",
       "        <td>95</td>\n",
       "    </tr>\n",
       "</table>"
      ],
      "text/plain": [
       "[(1234, 2, 83),\n",
       " (5678, 2, 86),\n",
       " (3456, 2, 97),\n",
       " (4590, 2, 64),\n",
       " (5337, 2, 92),\n",
       " (5555, 2, 95)]"
      ]
     },
     "execution_count": 17,
     "metadata": {},
     "output_type": "execute_result"
    }
   ],
   "source": [
    "%%sql\n",
    "/* Checking to see the updates from task 9*/\n",
    "\n",
    "SELECT * \n",
    "FROM SCORE \n",
    "WHERE AssignmentID = 2;"
   ]
  },
  {
   "cell_type": "code",
   "execution_count": 18,
   "metadata": {
    "collapsed": false
   },
   "outputs": [
    {
     "name": "stdout",
     "output_type": "stream",
     "text": [
      "Done.\n"
     ]
    },
    {
     "data": {
      "text/html": [
       "<table>\n",
       "    <tr>\n",
       "        <th>StudentID</th>\n",
       "        <th>AssignmentID</th>\n",
       "        <th>Points</th>\n",
       "    </tr>\n",
       "    <tr>\n",
       "        <td>1234</td>\n",
       "        <td>1</td>\n",
       "        <td>85</td>\n",
       "    </tr>\n",
       "    <tr>\n",
       "        <td>5678</td>\n",
       "        <td>1</td>\n",
       "        <td>80</td>\n",
       "    </tr>\n",
       "    <tr>\n",
       "        <td>3456</td>\n",
       "        <td>1</td>\n",
       "        <td>95</td>\n",
       "    </tr>\n",
       "    <tr>\n",
       "        <td>4590</td>\n",
       "        <td>1</td>\n",
       "        <td>65</td>\n",
       "    </tr>\n",
       "    <tr>\n",
       "        <td>5337</td>\n",
       "        <td>1</td>\n",
       "        <td>100</td>\n",
       "    </tr>\n",
       "    <tr>\n",
       "        <td>5555</td>\n",
       "        <td>1</td>\n",
       "        <td>93</td>\n",
       "    </tr>\n",
       "    <tr>\n",
       "        <td>1234</td>\n",
       "        <td>2</td>\n",
       "        <td>83</td>\n",
       "    </tr>\n",
       "    <tr>\n",
       "        <td>5678</td>\n",
       "        <td>2</td>\n",
       "        <td>86</td>\n",
       "    </tr>\n",
       "    <tr>\n",
       "        <td>3456</td>\n",
       "        <td>2</td>\n",
       "        <td>97</td>\n",
       "    </tr>\n",
       "    <tr>\n",
       "        <td>4590</td>\n",
       "        <td>2</td>\n",
       "        <td>64</td>\n",
       "    </tr>\n",
       "    <tr>\n",
       "        <td>5337</td>\n",
       "        <td>2</td>\n",
       "        <td>92</td>\n",
       "    </tr>\n",
       "    <tr>\n",
       "        <td>5555</td>\n",
       "        <td>2</td>\n",
       "        <td>95</td>\n",
       "    </tr>\n",
       "    <tr>\n",
       "        <td>1234</td>\n",
       "        <td>18</td>\n",
       "        <td>87</td>\n",
       "    </tr>\n",
       "    <tr>\n",
       "        <td>5678</td>\n",
       "        <td>18</td>\n",
       "        <td>94</td>\n",
       "    </tr>\n",
       "    <tr>\n",
       "        <td>3456</td>\n",
       "        <td>18</td>\n",
       "        <td>55</td>\n",
       "    </tr>\n",
       "    <tr>\n",
       "        <td>4590</td>\n",
       "        <td>18</td>\n",
       "        <td>72</td>\n",
       "    </tr>\n",
       "    <tr>\n",
       "        <td>5337</td>\n",
       "        <td>18</td>\n",
       "        <td>0</td>\n",
       "    </tr>\n",
       "    <tr>\n",
       "        <td>5555</td>\n",
       "        <td>18</td>\n",
       "        <td>99</td>\n",
       "    </tr>\n",
       "    <tr>\n",
       "        <td>1234</td>\n",
       "        <td>16</td>\n",
       "        <td>80</td>\n",
       "    </tr>\n",
       "    <tr>\n",
       "        <td>1234</td>\n",
       "        <td>30</td>\n",
       "        <td>85</td>\n",
       "    </tr>\n",
       "    <tr>\n",
       "        <td>1234</td>\n",
       "        <td>40</td>\n",
       "        <td>95</td>\n",
       "    </tr>\n",
       "    <tr>\n",
       "        <td>5337</td>\n",
       "        <td>26</td>\n",
       "        <td>78</td>\n",
       "    </tr>\n",
       "</table>"
      ],
      "text/plain": [
       "[(1234, 1, 85),\n",
       " (5678, 1, 80),\n",
       " (3456, 1, 95),\n",
       " (4590, 1, 65),\n",
       " (5337, 1, 100),\n",
       " (5555, 1, 93),\n",
       " (1234, 2, 83),\n",
       " (5678, 2, 86),\n",
       " (3456, 2, 97),\n",
       " (4590, 2, 64),\n",
       " (5337, 2, 92),\n",
       " (5555, 2, 95),\n",
       " (1234, 18, 87),\n",
       " (5678, 18, 94),\n",
       " (3456, 18, 55),\n",
       " (4590, 18, 72),\n",
       " (5337, 18, 0),\n",
       " (5555, 18, 99),\n",
       " (1234, 16, 80),\n",
       " (1234, 30, 85),\n",
       " (1234, 40, 95),\n",
       " (5337, 26, 78)]"
      ]
     },
     "execution_count": 18,
     "metadata": {},
     "output_type": "execute_result"
    }
   ],
   "source": [
    "%%sql\n",
    "/* Checking to see the updates from task 9 \n",
    "and make sure updates happened only on Quiz-2 or AssignmentID 2*/\n",
    "\n",
    "SELECT * \n",
    "FROM SCORE;"
   ]
  },
  {
   "cell_type": "code",
   "execution_count": 22,
   "metadata": {
    "collapsed": false
   },
   "outputs": [
    {
     "name": "stdout",
     "output_type": "stream",
     "text": [
      "Done.\n"
     ]
    },
    {
     "data": {
      "text/plain": [
       "[]"
      ]
     },
     "execution_count": 22,
     "metadata": {},
     "output_type": "execute_result"
    }
   ],
   "source": [
    "%%sql\n",
    "/*10. Add 2 points just to those students whose \n",
    "last name contains a ‘Q’.\n",
    "Adding 2 points to the score of the students whose \n",
    "last name contains a 'Q' on Quiz-2 in Calculus 2 class*/\n",
    "\n",
    "UPDATE SCORE\n",
    "SET Points = Points + 2\n",
    "WHERE StudentID IN (SELECT StudentID \n",
    "                    FROM STUDENT \n",
    "                    WHERE LastName LIKE '%Q%')\n",
    "AND AssignmentID = 2;"
   ]
  },
  {
   "cell_type": "code",
   "execution_count": 23,
   "metadata": {
    "collapsed": false
   },
   "outputs": [
    {
     "name": "stdout",
     "output_type": "stream",
     "text": [
      "Done.\n"
     ]
    },
    {
     "data": {
      "text/html": [
       "<table>\n",
       "    <tr>\n",
       "        <th>StudentID</th>\n",
       "        <th>AssignmentID</th>\n",
       "        <th>Points</th>\n",
       "    </tr>\n",
       "    <tr>\n",
       "        <td>1234</td>\n",
       "        <td>2</td>\n",
       "        <td>83</td>\n",
       "    </tr>\n",
       "    <tr>\n",
       "        <td>5678</td>\n",
       "        <td>2</td>\n",
       "        <td>86</td>\n",
       "    </tr>\n",
       "    <tr>\n",
       "        <td>3456</td>\n",
       "        <td>2</td>\n",
       "        <td>97</td>\n",
       "    </tr>\n",
       "    <tr>\n",
       "        <td>4590</td>\n",
       "        <td>2</td>\n",
       "        <td>66</td>\n",
       "    </tr>\n",
       "    <tr>\n",
       "        <td>5337</td>\n",
       "        <td>2</td>\n",
       "        <td>92</td>\n",
       "    </tr>\n",
       "    <tr>\n",
       "        <td>5555</td>\n",
       "        <td>2</td>\n",
       "        <td>95</td>\n",
       "    </tr>\n",
       "</table>"
      ],
      "text/plain": [
       "[(1234, 2, 83),\n",
       " (5678, 2, 86),\n",
       " (3456, 2, 97),\n",
       " (4590, 2, 66),\n",
       " (5337, 2, 92),\n",
       " (5555, 2, 95)]"
      ]
     },
     "execution_count": 23,
     "metadata": {},
     "output_type": "execute_result"
    }
   ],
   "source": [
    "%%sql\n",
    "/* Checking to see the updates from task 10*/\n",
    "\n",
    "SELECT * \n",
    "FROM SCORE \n",
    "WHERE AssignmentID = 2;"
   ]
  },
  {
   "cell_type": "code",
   "execution_count": 25,
   "metadata": {
    "collapsed": false
   },
   "outputs": [
    {
     "name": "stdout",
     "output_type": "stream",
     "text": [
      "Done.\n"
     ]
    },
    {
     "data": {
      "text/html": [
       "<table>\n",
       "    <tr>\n",
       "        <th>StudentID</th>\n",
       "        <th>AssignmentID</th>\n",
       "        <th>Points</th>\n",
       "    </tr>\n",
       "    <tr>\n",
       "        <td>1234</td>\n",
       "        <td>1</td>\n",
       "        <td>85</td>\n",
       "    </tr>\n",
       "    <tr>\n",
       "        <td>5678</td>\n",
       "        <td>1</td>\n",
       "        <td>80</td>\n",
       "    </tr>\n",
       "    <tr>\n",
       "        <td>3456</td>\n",
       "        <td>1</td>\n",
       "        <td>95</td>\n",
       "    </tr>\n",
       "    <tr>\n",
       "        <td>4590</td>\n",
       "        <td>1</td>\n",
       "        <td>65</td>\n",
       "    </tr>\n",
       "    <tr>\n",
       "        <td>5337</td>\n",
       "        <td>1</td>\n",
       "        <td>100</td>\n",
       "    </tr>\n",
       "    <tr>\n",
       "        <td>5555</td>\n",
       "        <td>1</td>\n",
       "        <td>93</td>\n",
       "    </tr>\n",
       "    <tr>\n",
       "        <td>1234</td>\n",
       "        <td>2</td>\n",
       "        <td>83</td>\n",
       "    </tr>\n",
       "    <tr>\n",
       "        <td>5678</td>\n",
       "        <td>2</td>\n",
       "        <td>86</td>\n",
       "    </tr>\n",
       "    <tr>\n",
       "        <td>3456</td>\n",
       "        <td>2</td>\n",
       "        <td>97</td>\n",
       "    </tr>\n",
       "    <tr>\n",
       "        <td>4590</td>\n",
       "        <td>2</td>\n",
       "        <td>66</td>\n",
       "    </tr>\n",
       "    <tr>\n",
       "        <td>5337</td>\n",
       "        <td>2</td>\n",
       "        <td>92</td>\n",
       "    </tr>\n",
       "    <tr>\n",
       "        <td>5555</td>\n",
       "        <td>2</td>\n",
       "        <td>95</td>\n",
       "    </tr>\n",
       "    <tr>\n",
       "        <td>1234</td>\n",
       "        <td>18</td>\n",
       "        <td>87</td>\n",
       "    </tr>\n",
       "    <tr>\n",
       "        <td>5678</td>\n",
       "        <td>18</td>\n",
       "        <td>94</td>\n",
       "    </tr>\n",
       "    <tr>\n",
       "        <td>3456</td>\n",
       "        <td>18</td>\n",
       "        <td>55</td>\n",
       "    </tr>\n",
       "    <tr>\n",
       "        <td>4590</td>\n",
       "        <td>18</td>\n",
       "        <td>72</td>\n",
       "    </tr>\n",
       "    <tr>\n",
       "        <td>5337</td>\n",
       "        <td>18</td>\n",
       "        <td>0</td>\n",
       "    </tr>\n",
       "    <tr>\n",
       "        <td>5555</td>\n",
       "        <td>18</td>\n",
       "        <td>99</td>\n",
       "    </tr>\n",
       "    <tr>\n",
       "        <td>1234</td>\n",
       "        <td>16</td>\n",
       "        <td>80</td>\n",
       "    </tr>\n",
       "    <tr>\n",
       "        <td>1234</td>\n",
       "        <td>30</td>\n",
       "        <td>85</td>\n",
       "    </tr>\n",
       "    <tr>\n",
       "        <td>1234</td>\n",
       "        <td>40</td>\n",
       "        <td>95</td>\n",
       "    </tr>\n",
       "    <tr>\n",
       "        <td>5337</td>\n",
       "        <td>26</td>\n",
       "        <td>78</td>\n",
       "    </tr>\n",
       "</table>"
      ],
      "text/plain": [
       "[(1234, 1, 85),\n",
       " (5678, 1, 80),\n",
       " (3456, 1, 95),\n",
       " (4590, 1, 65),\n",
       " (5337, 1, 100),\n",
       " (5555, 1, 93),\n",
       " (1234, 2, 83),\n",
       " (5678, 2, 86),\n",
       " (3456, 2, 97),\n",
       " (4590, 2, 66),\n",
       " (5337, 2, 92),\n",
       " (5555, 2, 95),\n",
       " (1234, 18, 87),\n",
       " (5678, 18, 94),\n",
       " (3456, 18, 55),\n",
       " (4590, 18, 72),\n",
       " (5337, 18, 0),\n",
       " (5555, 18, 99),\n",
       " (1234, 16, 80),\n",
       " (1234, 30, 85),\n",
       " (1234, 40, 95),\n",
       " (5337, 26, 78)]"
      ]
     },
     "execution_count": 25,
     "metadata": {},
     "output_type": "execute_result"
    }
   ],
   "source": [
    "%%sql\n",
    "/* Checking to see the updates from task 10 \n",
    "and make sure updates happened only on Quiz-2 or AssignmentID 2\n",
    "ans students whose last name contains 'Q'*/\n",
    "\n",
    "SELECT * \n",
    "FROM SCORE;"
   ]
  },
  {
   "cell_type": "code",
   "execution_count": 239,
   "metadata": {
    "collapsed": false
   },
   "outputs": [
    {
     "name": "stdout",
     "output_type": "stream",
     "text": [
      "Done.\n",
      "Done.\n"
     ]
    },
    {
     "data": {
      "text/plain": [
       "[]"
      ]
     },
     "execution_count": 239,
     "metadata": {},
     "output_type": "execute_result"
    }
   ],
   "source": [
    "%%sql\n",
    "/*11. Compute the grade for a student;\n",
    "Computing the grade for Richard Hendricks\n",
    "StudentID 1234 in Calculus 2 class \n",
    "CourseID 85765*/\n",
    "\n",
    "drop table if exists currgrades;\n",
    "\n",
    " \n",
    "CREATE TABLE currgrades AS\n",
    "SELECT pt.StudentID, st.FirstName, st.LastName, pt.CourseID,\n",
    "pt.AssignmentID, pt.DistributionID as distrID, pt.CategoryName, PERCENTAGE,\n",
    "PointsPossible,\n",
    "pt.Points as points , \n",
    "pt.Points / PointsPossible * PERCENTAGE AS grade\n",
    "FROM (SELECT STUDENT.StudentID, AssignmentID, FirstName, LastName, \n",
    "    CourseID, Points\n",
    "    FROM STUDENT JOIN ENROLLMENT JOIN SCORE\n",
    "    WHERE CourseID = 85675\n",
    "    AND STUDENT.StudentID = ENROLLMENT.StudentID\n",
    "    AND STUDENT.StudentID = SCORE.StudentID) st \n",
    "JOIN \n",
    "    (SELECT StudentID, CourseID, CategoryName, DISTRIBUTION.DistributionID, \n",
    "    PERCENTAGE, ASSIGNMENT.AssignmentID, ASSIGNMENT.PointsPossible, Points\n",
    "    FROM DISTRIBUTION JOIN ASSIGNMENT JOIN SCORE\n",
    "    WHERE DISTRIBUTION.CourseID = 85675 \n",
    "    AND DISTRIBUTION.DistributionID = ASSIGNMENT.DistributionID\n",
    "    AND ASSIGNMENT.AssignmentID = SCORE.AssignmentID) pt\n",
    "WHERE st.AssignmentID = pt.AssignmentID\n",
    "AND st.Points = pt.Points\n",
    "AND pt.StudentID = 1234\n",
    "ORDER BY DistributionID;\n"
   ]
  },
  {
   "cell_type": "code",
   "execution_count": 240,
   "metadata": {
    "collapsed": false
   },
   "outputs": [
    {
     "name": "stdout",
     "output_type": "stream",
     "text": [
      "2 rows affected.\n"
     ]
    },
    {
     "data": {
      "text/plain": [
       "[]"
      ]
     },
     "execution_count": 240,
     "metadata": {},
     "output_type": "execute_result"
    }
   ],
   "source": [
    "%%sql\n",
    "UPDATE currgrades\n",
    "SET grade = points * PERCENTAGE / PointsPossible;\n"
   ]
  },
  {
   "cell_type": "code",
   "execution_count": 256,
   "metadata": {
    "collapsed": false
   },
   "outputs": [
    {
     "name": "stdout",
     "output_type": "stream",
     "text": [
      "Done.\n",
      "Done.\n"
     ]
    },
    {
     "data": {
      "text/plain": [
       "[]"
      ]
     },
     "execution_count": 256,
     "metadata": {},
     "output_type": "execute_result"
    }
   ],
   "source": [
    "%%sql \n",
    "drop table if exists finalgrades;\n",
    "\n",
    "CREATE table finalgrades AS\n",
    "SELECT *, sg.instancecount as instances, \n",
    "grade/instancecount as finalgrade\n",
    "FROM currgrades cg\n",
    "INNER JOIN (SELECT distrID, count(distrID) as instancecount\n",
    "           FROM currgrades\n",
    "           GROUP BY distrID) sg ON cg.distrID = sg.distrID;"
   ]
  },
  {
   "cell_type": "code",
   "execution_count": 257,
   "metadata": {
    "collapsed": false
   },
   "outputs": [
    {
     "name": "stdout",
     "output_type": "stream",
     "text": [
      "Done.\n"
     ]
    },
    {
     "data": {
      "text/html": [
       "<table>\n",
       "    <tr>\n",
       "        <th>pt.StudentID</th>\n",
       "        <th>st.FirstName</th>\n",
       "        <th>st.LastName</th>\n",
       "        <th>pt.CourseID</th>\n",
       "        <th>pt.AssignmentID</th>\n",
       "        <th>distrID</th>\n",
       "        <th>pt.CategoryName</th>\n",
       "        <th>PERCENTAGE</th>\n",
       "        <th>PointsPossible</th>\n",
       "        <th>points</th>\n",
       "        <th>grade</th>\n",
       "        <th>distrID:1</th>\n",
       "        <th>instancecount</th>\n",
       "        <th>instances</th>\n",
       "        <th>finalgrade</th>\n",
       "    </tr>\n",
       "    <tr>\n",
       "        <td>1234</td>\n",
       "        <td>Richard</td>\n",
       "        <td>Hendricks</td>\n",
       "        <td>85675</td>\n",
       "        <td>1</td>\n",
       "        <td>1</td>\n",
       "        <td>Quiz</td>\n",
       "        <td>80</td>\n",
       "        <td>100</td>\n",
       "        <td>85</td>\n",
       "        <td>68</td>\n",
       "        <td>1</td>\n",
       "        <td>2</td>\n",
       "        <td>2</td>\n",
       "        <td>34</td>\n",
       "    </tr>\n",
       "    <tr>\n",
       "        <td>1234</td>\n",
       "        <td>Richard</td>\n",
       "        <td>Hendricks</td>\n",
       "        <td>85675</td>\n",
       "        <td>2</td>\n",
       "        <td>1</td>\n",
       "        <td>Quiz</td>\n",
       "        <td>80</td>\n",
       "        <td>100</td>\n",
       "        <td>83</td>\n",
       "        <td>66</td>\n",
       "        <td>1</td>\n",
       "        <td>2</td>\n",
       "        <td>2</td>\n",
       "        <td>33</td>\n",
       "    </tr>\n",
       "</table>"
      ],
      "text/plain": [
       "[(1234, u'Richard', u'Hendricks', 85675, 1, 1, u'Quiz', 80, 100, 85, 68, 1, 2, 2, 34),\n",
       " (1234, u'Richard', u'Hendricks', 85675, 2, 1, u'Quiz', 80, 100, 83, 66, 1, 2, 2, 33)]"
      ]
     },
     "execution_count": 257,
     "metadata": {},
     "output_type": "execute_result"
    }
   ],
   "source": [
    "%%sql\n",
    "select * from finalgrades;\n"
   ]
  },
  {
   "cell_type": "code",
   "execution_count": 258,
   "metadata": {
    "collapsed": false
   },
   "outputs": [
    {
     "name": "stdout",
     "output_type": "stream",
     "text": [
      "Done.\n"
     ]
    },
    {
     "data": {
      "text/html": [
       "<table>\n",
       "    <tr>\n",
       "        <th>SUM(finalgrade)</th>\n",
       "    </tr>\n",
       "    <tr>\n",
       "        <td>67</td>\n",
       "    </tr>\n",
       "</table>"
      ],
      "text/plain": [
       "[(67,)]"
      ]
     },
     "execution_count": 258,
     "metadata": {},
     "output_type": "execute_result"
    }
   ],
   "source": [
    "%%sql\n",
    "SELECT SUM(finalgrade) from finalgrades;"
   ]
  },
  {
   "cell_type": "code",
   "execution_count": 145,
   "metadata": {
    "collapsed": false
   },
   "outputs": [
    {
     "name": "stdout",
     "output_type": "stream",
     "text": [
      "Done.\n",
      "Done.\n",
      "Done.\n",
      "Done.\n",
      "Done.\n",
      "Done.\n",
      "Done.\n",
      "Done.\n"
     ]
    },
    {
     "data": {
      "text/plain": [
       "[]"
      ]
     },
     "execution_count": 145,
     "metadata": {},
     "output_type": "execute_result"
    }
   ],
   "source": [
    "%%sql \n",
    "DROP VIEW IF EXISTS  quiz_total;\n",
    "create view quiz_total \n",
    "as select s1.StudentID, sum(Points) as quiz_total \n",
    "    from SCORE AS s1, ASSIGNMENT AS w1 \n",
    "    where s1.AssignmentID = w1.AssignmentID\n",
    "    and w1.DistributionID = 1 \n",
    "    and s1.StudentID = 1234;\n",
    "    \n",
    "DROP VIEW IF EXISTS  hw_total;\n",
    "create view hw_total \n",
    "as select s1.StudentID, sum(Points) as hw_total \n",
    "    from SCORE AS s1, ASSIGNMENT AS w1 \n",
    "    where s1.AssignmentID = w1.AssignmentID\n",
    "    and w1.DistributionID = 2 \n",
    "    and s1.StudentID = 1234;\n",
    "    \n",
    "DROP VIEW IF EXISTS  midterm_total;\n",
    "create view midterm_total \n",
    "as select s1.StudentID, sum(Points) as midterm_total \n",
    "    from SCORE AS s1, ASSIGNMENT AS w1 \n",
    "    where s1.AssignmentID = w1.AssignmentID\n",
    "    and w1.DistributionID = 3 \n",
    "    and s1.StudentID = 1234;\n",
    "    \n",
    "DROP VIEW IF EXISTS  final_total;\n",
    "create view final_total \n",
    "as select s1.StudentID, sum(Points) as final_total \n",
    "    from SCORE AS s1, ASSIGNMENT AS w1 \n",
    "    where s1.AssignmentID = w1.AssignmentID\n",
    "    and w1.DistributionID = 3 \n",
    "    and s1.StudentID = 1234;\n",
    "\n",
    "create or replace view \n",
    "perfect_total(nickname, asm_total, quiz_total, midterm, percent)\n",
    "as (select \n",
    "    'perfect'::varchar(10),\n",
    "    asm_total(),\n",
    "    quiz_total(), \n",
    "    midterm(), \n",
    "    100);\n",
    "\n",
    "create view total_grades as \n",
    "((select s1.code \n",
    "  as nickname,asm_total, quiz_total, midterm, percent(s1.st_id) \n",
    "  from students s1, asm_total a1, quiz_total q1, midterm m1 \n",
    "  where s1.st_id = a1.st_id \n",
    "  and a1.st_id = q1.st_id \n",
    "  and q1.st_id = m1.st_id) \n",
    " union \n",
    " (select * from perfect_total)) order by percent desc nulls last;\n",
    "\n"
   ]
  },
  {
   "cell_type": "code",
   "execution_count": 143,
   "metadata": {
    "collapsed": false
   },
   "outputs": [
    {
     "name": "stdout",
     "output_type": "stream",
     "text": [
      "Done.\n",
      "Done.\n",
      "Done.\n",
      "Done.\n"
     ]
    },
    {
     "data": {
      "text/html": [
       "<table>\n",
       "    <tr>\n",
       "        <th>StudentID</th>\n",
       "        <th>final_total</th>\n",
       "    </tr>\n",
       "    <tr>\n",
       "        <td>None</td>\n",
       "        <td>None</td>\n",
       "    </tr>\n",
       "</table>"
      ],
      "text/plain": [
       "[(None, None)]"
      ]
     },
     "execution_count": 143,
     "metadata": {},
     "output_type": "execute_result"
    }
   ],
   "source": [
    "%%sql\n",
    "\n",
    "SELECT * FROM hw_total;\n",
    "SELECT * FROM quiz_total;\n",
    "SELECT * FROM midterm_total;\n",
    "SELECT * FROM final_total;\n"
   ]
  },
  {
   "cell_type": "code",
   "execution_count": null,
   "metadata": {
    "collapsed": true
   },
   "outputs": [],
   "source": []
  }
 ],
 "metadata": {
  "kernelspec": {
   "display_name": "Python 2",
   "language": "python",
   "name": "python2"
  },
  "language_info": {
   "codemirror_mode": {
    "name": "ipython",
    "version": 2
   },
   "file_extension": ".py",
   "mimetype": "text/x-python",
   "name": "python",
   "nbconvert_exporter": "python",
   "pygments_lexer": "ipython2",
   "version": "2.7.13"
  }
 },
 "nbformat": 4,
 "nbformat_minor": 2
}
