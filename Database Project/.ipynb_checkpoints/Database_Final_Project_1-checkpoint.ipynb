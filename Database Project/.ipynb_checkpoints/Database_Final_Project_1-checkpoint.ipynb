{
 "cells": [
  {
   "cell_type": "code",
   "execution_count": 1,
   "metadata": {
    "collapsed": false
   },
   "outputs": [],
   "source": [
    "%load_ext sql"
   ]
  },
  {
   "cell_type": "code",
   "execution_count": 2,
   "metadata": {
    "collapsed": false
   },
   "outputs": [
    {
     "data": {
      "text/plain": [
       "u'Connected: None@database_1.db'"
      ]
     },
     "execution_count": 2,
     "metadata": {},
     "output_type": "execute_result"
    }
   ],
   "source": [
    "%sql sqlite:///database_1.db"
   ]
  },
  {
   "cell_type": "code",
   "execution_count": 3,
   "metadata": {
    "collapsed": false
   },
   "outputs": [
    {
     "name": "stdout",
     "output_type": "stream",
     "text": [
      "Done.\n",
      "Done.\n"
     ]
    },
    {
     "data": {
      "text/plain": [
       "[]"
      ]
     },
     "execution_count": 3,
     "metadata": {},
     "output_type": "execute_result"
    }
   ],
   "source": [
    "%%sql\n",
    "\n",
    "drop table if exists STUDENT;\n",
    "\n",
    "CREATE TABLE STUDENT (\n",
    "    FirstName VARCHAR(50) NOT NULL, \n",
    "    LastName VARCHAR(50) NOT NULL,\n",
    "    Major VARCHAR(30),\n",
    "    StudentID INT NOT NULL UNIQUE, \n",
    "    PRIMARY KEY (StudentID)\n",
    ");"
   ]
  },
  {
   "cell_type": "code",
   "execution_count": 4,
   "metadata": {
    "collapsed": false
   },
   "outputs": [
    {
     "name": "stdout",
     "output_type": "stream",
     "text": [
      "Done.\n",
      "Done.\n"
     ]
    },
    {
     "data": {
      "text/plain": [
       "[]"
      ]
     },
     "execution_count": 4,
     "metadata": {},
     "output_type": "execute_result"
    }
   ],
   "source": [
    "%%sql\n",
    "drop table if exists COURSE;\n",
    "\n",
    "CREATE TABLE COURSE (\n",
    "    Department VARCHAR(30) NOT NULL, \n",
    "    CourseNumber INT NOT NULL, \n",
    "    CourseName VARCHAR(50) NOT NULL, \n",
    "    Term VARCHAR(15) NOT NULL,\n",
    "    Year INT NOT NULL,\n",
    "    CourseID INT NOT NULL UNIQUE,\n",
    "    PRIMARY KEY (CourseID)\n",
    ");"
   ]
  },
  {
   "cell_type": "code",
   "execution_count": 5,
   "metadata": {
    "collapsed": false
   },
   "outputs": [
    {
     "name": "stdout",
     "output_type": "stream",
     "text": [
      "Done.\n",
      "Done.\n"
     ]
    },
    {
     "data": {
      "text/plain": [
       "[]"
      ]
     },
     "execution_count": 5,
     "metadata": {},
     "output_type": "execute_result"
    }
   ],
   "source": [
    "%%sql\n",
    "\n",
    "drop table if exists ENROLLMENT;\n",
    "\n",
    "CREATE TABLE ENROLLMENT (\n",
    "    StudentID INT NOT NULL,\n",
    "    CourseID INT NOT NULL,\n",
    "    PRIMARY KEY(StudentID, CourseID)\n",
    ");"
   ]
  },
  {
   "cell_type": "code",
   "execution_count": 6,
   "metadata": {
    "collapsed": false
   },
   "outputs": [
    {
     "name": "stdout",
     "output_type": "stream",
     "text": [
      "Done.\n",
      "Done.\n"
     ]
    },
    {
     "data": {
      "text/plain": [
       "[]"
      ]
     },
     "execution_count": 6,
     "metadata": {},
     "output_type": "execute_result"
    }
   ],
   "source": [
    "%%sql\n",
    "\n",
    "drop table if exists DISTRIBUTION;\n",
    "\n",
    "CREATE TABLE DISTRIBUTION (\n",
    "    DistributionID INT NOT NULL UNIQUE,\n",
    "    CourseID INT NOT NULL,\n",
    "    CategoryName VARCHAR(30) NOT NULL,\n",
    "    PERCENTAGE INT NOT NULL,\n",
    "    PRIMARY KEY(DistributionID)\n",
    ");"
   ]
  },
  {
   "cell_type": "code",
   "execution_count": 7,
   "metadata": {
    "collapsed": false
   },
   "outputs": [
    {
     "name": "stdout",
     "output_type": "stream",
     "text": [
      "Done.\n",
      "Done.\n"
     ]
    },
    {
     "data": {
      "text/plain": [
       "[]"
      ]
     },
     "execution_count": 7,
     "metadata": {},
     "output_type": "execute_result"
    }
   ],
   "source": [
    "%%sql\n",
    "\n",
    "drop table if exists ASSIGNMENT;\n",
    "\n",
    "CREATE TABLE ASSIGNMENT (\n",
    "    AssignmentID INT NOT NULL UNIQUE,\n",
    "    DistributionID INT NOT NULL,\n",
    "    Instance INT NOT NULL, \n",
    "    PointsPossible INT DEFAULT 0 NOT NULL,\n",
    "    PRIMARY KEY(AssignmentID)\n",
    ");"
   ]
  },
  {
   "cell_type": "code",
   "execution_count": 8,
   "metadata": {
    "collapsed": false
   },
   "outputs": [
    {
     "name": "stdout",
     "output_type": "stream",
     "text": [
      "Done.\n",
      "Done.\n"
     ]
    },
    {
     "data": {
      "text/plain": [
       "[]"
      ]
     },
     "execution_count": 8,
     "metadata": {},
     "output_type": "execute_result"
    }
   ],
   "source": [
    "%%sql\n",
    "\n",
    "drop table if exists SCORE;\n",
    "\n",
    "CREATE TABLE SCORE (\n",
    "    StudentID INT NOT NULL,\n",
    "    AssignmentID INT NOT NULL,\n",
    "    Points INT DEFAULT 0 NOT NULL,\n",
    "    PRIMARY KEY(StudentID, AssignmentID)\n",
    ");"
   ]
  },
  {
   "cell_type": "code",
   "execution_count": 9,
   "metadata": {
    "collapsed": false
   },
   "outputs": [
    {
     "name": "stdout",
     "output_type": "stream",
     "text": [
      "1 rows affected.\n",
      "1 rows affected.\n",
      "1 rows affected.\n",
      "1 rows affected.\n",
      "1 rows affected.\n",
      "1 rows affected.\n"
     ]
    },
    {
     "data": {
      "text/plain": [
       "[]"
      ]
     },
     "execution_count": 9,
     "metadata": {},
     "output_type": "execute_result"
    }
   ],
   "source": [
    "%%sql\n",
    "\n",
    "INSERT INTO STUDENT VALUES('Richard', 'Hendricks', 'Computer Science', 1234);\n",
    "INSERT INTO STUDENT VALUES('Jared', 'Dunn', 'Management Science', 5678);\n",
    "INSERT INTO STUDENT VALUES('Erlich', 'Bachman', 'Aviato', 3456);\n",
    "INSERT INTO STUDENT VALUES('Jimmy', 'Quoyang', 'Marine Biology', 4590);\n",
    "INSERT INTO STUDENT VALUES('Dinesh', 'Gilfoyle', 'Computer Engineering', 5337);\n",
    "INSERT INTO STUDENT VALUES('John', 'Doe', 'English', 5555);"
   ]
  },
  {
   "cell_type": "code",
   "execution_count": 10,
   "metadata": {
    "collapsed": false
   },
   "outputs": [
    {
     "name": "stdout",
     "output_type": "stream",
     "text": [
      "Done.\n"
     ]
    },
    {
     "data": {
      "text/html": [
       "<table>\n",
       "    <tr>\n",
       "        <th>FirstName</th>\n",
       "        <th>LastName</th>\n",
       "        <th>Major</th>\n",
       "        <th>StudentID</th>\n",
       "    </tr>\n",
       "    <tr>\n",
       "        <td>Richard</td>\n",
       "        <td>Hendricks</td>\n",
       "        <td>Computer Science</td>\n",
       "        <td>1234</td>\n",
       "    </tr>\n",
       "    <tr>\n",
       "        <td>Jared</td>\n",
       "        <td>Dunn</td>\n",
       "        <td>Management Science</td>\n",
       "        <td>5678</td>\n",
       "    </tr>\n",
       "    <tr>\n",
       "        <td>Erlich</td>\n",
       "        <td>Bachman</td>\n",
       "        <td>Aviato</td>\n",
       "        <td>3456</td>\n",
       "    </tr>\n",
       "    <tr>\n",
       "        <td>Jimmy</td>\n",
       "        <td>Quoyang</td>\n",
       "        <td>Marine Biology</td>\n",
       "        <td>4590</td>\n",
       "    </tr>\n",
       "    <tr>\n",
       "        <td>Dinesh</td>\n",
       "        <td>Gilfoyle</td>\n",
       "        <td>Computer Engineering</td>\n",
       "        <td>5337</td>\n",
       "    </tr>\n",
       "    <tr>\n",
       "        <td>John</td>\n",
       "        <td>Doe</td>\n",
       "        <td>English</td>\n",
       "        <td>5555</td>\n",
       "    </tr>\n",
       "</table>"
      ],
      "text/plain": [
       "[(u'Richard', u'Hendricks', u'Computer Science', 1234),\n",
       " (u'Jared', u'Dunn', u'Management Science', 5678),\n",
       " (u'Erlich', u'Bachman', u'Aviato', 3456),\n",
       " (u'Jimmy', u'Quoyang', u'Marine Biology', 4590),\n",
       " (u'Dinesh', u'Gilfoyle', u'Computer Engineering', 5337),\n",
       " (u'John', u'Doe', u'English', 5555)]"
      ]
     },
     "execution_count": 10,
     "metadata": {},
     "output_type": "execute_result"
    }
   ],
   "source": [
    "%%sql\n",
    "\n",
    "SELECT * FROM STUDENT;"
   ]
  },
  {
   "cell_type": "code",
   "execution_count": 11,
   "metadata": {
    "collapsed": false
   },
   "outputs": [
    {
     "name": "stdout",
     "output_type": "stream",
     "text": [
      "1 rows affected.\n",
      "1 rows affected.\n",
      "1 rows affected.\n",
      "1 rows affected.\n",
      "1 rows affected.\n"
     ]
    },
    {
     "data": {
      "text/plain": [
       "[]"
      ]
     },
     "execution_count": 11,
     "metadata": {},
     "output_type": "execute_result"
    }
   ],
   "source": [
    "%%sql \n",
    "\n",
    "INSERT INTO COURSE VALUES('Math', 157, 'Calculus-2', 'Fall', 2017, 85675);\n",
    "INSERT INTO COURSE VALUES('Computer Science', 350, 'Programming Languages', 'Spring', 2017, 89994);\n",
    "INSERT INTO COURSE VALUES('English', 109, 'Technical Writing', 'Fall', 2016, 56738);\n",
    "INSERT INTO COURSE VALUES('Computer Science', 533, 'Senior Project', 'Spring', 2017, 90573);\n",
    "INSERT INTO COURSE VALUES('Physics', 100, 'Mechanics', 'Fall', 2016, 48387);"
   ]
  },
  {
   "cell_type": "code",
   "execution_count": 12,
   "metadata": {
    "collapsed": false
   },
   "outputs": [
    {
     "name": "stdout",
     "output_type": "stream",
     "text": [
      "Done.\n"
     ]
    },
    {
     "data": {
      "text/html": [
       "<table>\n",
       "    <tr>\n",
       "        <th>Department</th>\n",
       "        <th>CourseNumber</th>\n",
       "        <th>CourseName</th>\n",
       "        <th>Term</th>\n",
       "        <th>Year</th>\n",
       "        <th>CourseID</th>\n",
       "    </tr>\n",
       "    <tr>\n",
       "        <td>Math</td>\n",
       "        <td>157</td>\n",
       "        <td>Calculus-2</td>\n",
       "        <td>Fall</td>\n",
       "        <td>2017</td>\n",
       "        <td>85675</td>\n",
       "    </tr>\n",
       "    <tr>\n",
       "        <td>Computer Science</td>\n",
       "        <td>350</td>\n",
       "        <td>Programming Languages</td>\n",
       "        <td>Spring</td>\n",
       "        <td>2017</td>\n",
       "        <td>89994</td>\n",
       "    </tr>\n",
       "    <tr>\n",
       "        <td>English</td>\n",
       "        <td>109</td>\n",
       "        <td>Technical Writing</td>\n",
       "        <td>Fall</td>\n",
       "        <td>2016</td>\n",
       "        <td>56738</td>\n",
       "    </tr>\n",
       "    <tr>\n",
       "        <td>Computer Science</td>\n",
       "        <td>533</td>\n",
       "        <td>Senior Project</td>\n",
       "        <td>Spring</td>\n",
       "        <td>2017</td>\n",
       "        <td>90573</td>\n",
       "    </tr>\n",
       "    <tr>\n",
       "        <td>Physics</td>\n",
       "        <td>100</td>\n",
       "        <td>Mechanics</td>\n",
       "        <td>Fall</td>\n",
       "        <td>2016</td>\n",
       "        <td>48387</td>\n",
       "    </tr>\n",
       "</table>"
      ],
      "text/plain": [
       "[(u'Math', 157, u'Calculus-2', u'Fall', 2017, 85675),\n",
       " (u'Computer Science', 350, u'Programming Languages', u'Spring', 2017, 89994),\n",
       " (u'English', 109, u'Technical Writing', u'Fall', 2016, 56738),\n",
       " (u'Computer Science', 533, u'Senior Project', u'Spring', 2017, 90573),\n",
       " (u'Physics', 100, u'Mechanics', u'Fall', 2016, 48387)]"
      ]
     },
     "execution_count": 12,
     "metadata": {},
     "output_type": "execute_result"
    }
   ],
   "source": [
    "%%sql\n",
    "\n",
    "SELECT * FROM COURSE;"
   ]
  },
  {
   "cell_type": "code",
   "execution_count": 13,
   "metadata": {
    "collapsed": false
   },
   "outputs": [
    {
     "name": "stdout",
     "output_type": "stream",
     "text": [
      "1 rows affected.\n",
      "1 rows affected.\n",
      "1 rows affected.\n",
      "1 rows affected.\n",
      "1 rows affected.\n",
      "1 rows affected.\n",
      "1 rows affected.\n",
      "1 rows affected.\n",
      "1 rows affected.\n",
      "1 rows affected.\n",
      "1 rows affected.\n",
      "1 rows affected.\n",
      "1 rows affected.\n",
      "1 rows affected.\n",
      "1 rows affected.\n",
      "1 rows affected.\n"
     ]
    },
    {
     "data": {
      "text/plain": [
       "[]"
      ]
     },
     "execution_count": 13,
     "metadata": {},
     "output_type": "execute_result"
    }
   ],
   "source": [
    "%%sql \n",
    "\n",
    "INSERT INTO ENROLLMENT VALUES(1234, 85675);\n",
    "INSERT INTO ENROLLMENT VALUES(5678, 85675);\n",
    "INSERT INTO ENROLLMENT VALUES(3456, 85675);\n",
    "INSERT INTO ENROLLMENT VALUES(4590, 85675);\n",
    "INSERT INTO ENROLLMENT VALUES(5337, 85675);\n",
    "INSERT INTO ENROLLMENT VALUES(5555, 85675);\n",
    "\n",
    "INSERT INTO ENROLLMENT VALUES(1234, 56738);\n",
    "INSERT INTO ENROLLMENT VALUES(5678, 56738);\n",
    "INSERT INTO ENROLLMENT VALUES(3456, 56738);\n",
    "INSERT INTO ENROLLMENT VALUES(4590, 56738);\n",
    "INSERT INTO ENROLLMENT VALUES(5337, 56738);\n",
    "INSERT INTO ENROLLMENT VALUES(5555, 56738);\n",
    "\n",
    "INSERT INTO ENROLLMENT VALUES(1234, 89994);\n",
    "INSERT INTO ENROLLMENT VALUES(1234, 90573);\n",
    "INSERT INTO ENROLLMENT VALUES(1234, 48387);\n",
    "INSERT INTO ENROLLMENT VALUES(5337, 90573);"
   ]
  },
  {
   "cell_type": "code",
   "execution_count": 14,
   "metadata": {
    "collapsed": false
   },
   "outputs": [
    {
     "name": "stdout",
     "output_type": "stream",
     "text": [
      "Done.\n"
     ]
    },
    {
     "data": {
      "text/html": [
       "<table>\n",
       "    <tr>\n",
       "        <th>StudentID</th>\n",
       "        <th>CourseID</th>\n",
       "    </tr>\n",
       "    <tr>\n",
       "        <td>1234</td>\n",
       "        <td>85675</td>\n",
       "    </tr>\n",
       "    <tr>\n",
       "        <td>5678</td>\n",
       "        <td>85675</td>\n",
       "    </tr>\n",
       "    <tr>\n",
       "        <td>3456</td>\n",
       "        <td>85675</td>\n",
       "    </tr>\n",
       "    <tr>\n",
       "        <td>4590</td>\n",
       "        <td>85675</td>\n",
       "    </tr>\n",
       "    <tr>\n",
       "        <td>5337</td>\n",
       "        <td>85675</td>\n",
       "    </tr>\n",
       "    <tr>\n",
       "        <td>5555</td>\n",
       "        <td>85675</td>\n",
       "    </tr>\n",
       "    <tr>\n",
       "        <td>1234</td>\n",
       "        <td>56738</td>\n",
       "    </tr>\n",
       "    <tr>\n",
       "        <td>5678</td>\n",
       "        <td>56738</td>\n",
       "    </tr>\n",
       "    <tr>\n",
       "        <td>3456</td>\n",
       "        <td>56738</td>\n",
       "    </tr>\n",
       "    <tr>\n",
       "        <td>4590</td>\n",
       "        <td>56738</td>\n",
       "    </tr>\n",
       "    <tr>\n",
       "        <td>5337</td>\n",
       "        <td>56738</td>\n",
       "    </tr>\n",
       "    <tr>\n",
       "        <td>5555</td>\n",
       "        <td>56738</td>\n",
       "    </tr>\n",
       "    <tr>\n",
       "        <td>1234</td>\n",
       "        <td>89994</td>\n",
       "    </tr>\n",
       "    <tr>\n",
       "        <td>1234</td>\n",
       "        <td>90573</td>\n",
       "    </tr>\n",
       "    <tr>\n",
       "        <td>1234</td>\n",
       "        <td>48387</td>\n",
       "    </tr>\n",
       "    <tr>\n",
       "        <td>5337</td>\n",
       "        <td>90573</td>\n",
       "    </tr>\n",
       "</table>"
      ],
      "text/plain": [
       "[(1234, 85675),\n",
       " (5678, 85675),\n",
       " (3456, 85675),\n",
       " (4590, 85675),\n",
       " (5337, 85675),\n",
       " (5555, 85675),\n",
       " (1234, 56738),\n",
       " (5678, 56738),\n",
       " (3456, 56738),\n",
       " (4590, 56738),\n",
       " (5337, 56738),\n",
       " (5555, 56738),\n",
       " (1234, 89994),\n",
       " (1234, 90573),\n",
       " (1234, 48387),\n",
       " (5337, 90573)]"
      ]
     },
     "execution_count": 14,
     "metadata": {},
     "output_type": "execute_result"
    }
   ],
   "source": [
    "%%sql\n",
    "SELECT * FROM ENROLLMENT;"
   ]
  },
  {
   "cell_type": "code",
   "execution_count": 15,
   "metadata": {
    "collapsed": false
   },
   "outputs": [
    {
     "name": "stdout",
     "output_type": "stream",
     "text": [
      "1 rows affected.\n",
      "1 rows affected.\n",
      "1 rows affected.\n",
      "1 rows affected.\n",
      "1 rows affected.\n",
      "1 rows affected.\n",
      "1 rows affected.\n",
      "1 rows affected.\n",
      "1 rows affected.\n",
      "1 rows affected.\n",
      "1 rows affected.\n",
      "1 rows affected.\n",
      "1 rows affected.\n",
      "1 rows affected.\n",
      "1 rows affected.\n",
      "1 rows affected.\n",
      "1 rows affected.\n",
      "1 rows affected.\n",
      "1 rows affected.\n",
      "1 rows affected.\n"
     ]
    },
    {
     "data": {
      "text/plain": [
       "[]"
      ]
     },
     "execution_count": 15,
     "metadata": {},
     "output_type": "execute_result"
    }
   ],
   "source": [
    "%%sql \n",
    "\n",
    "\n",
    "INSERT INTO DISTRIBUTION VALUES(1, 85675, 'Quiz', 50);\n",
    "INSERT INTO DISTRIBUTION VALUES(2, 85675, 'HW', 10);\n",
    "INSERT INTO DISTRIBUTION VALUES(3, 85675, 'MidTerm', 20);\n",
    "INSERT INTO DISTRIBUTION VALUES(4, 85675, 'Final', 20);\n",
    "\n",
    "INSERT INTO DISTRIBUTION VALUES(5, 89994, 'Participation', 40);\n",
    "INSERT INTO DISTRIBUTION VALUES(6, 89994, 'HW', 10);\n",
    "INSERT INTO DISTRIBUTION VALUES(7, 89994, 'MidTerm', 25);\n",
    "INSERT INTO DISTRIBUTION VALUES(8, 89994, 'Final', 25);\n",
    "\n",
    "INSERT INTO DISTRIBUTION VALUES(9, 56738, 'Quiz', 40);\n",
    "INSERT INTO DISTRIBUTION VALUES(10, 56738, 'HW', 15);\n",
    "INSERT INTO DISTRIBUTION VALUES(11, 56738, 'MidTerm', 20);\n",
    "INSERT INTO DISTRIBUTION VALUES(12, 56738, 'Final', 25);\n",
    "\n",
    "INSERT INTO DISTRIBUTION VALUES(13, 90573, 'Quiz', 20);\n",
    "INSERT INTO DISTRIBUTION VALUES(14, 90573, 'HW', 25);\n",
    "INSERT INTO DISTRIBUTION VALUES(15, 90573, 'Project', 30);\n",
    "INSERT INTO DISTRIBUTION VALUES(16, 90573, 'Final', 25);\n",
    "\n",
    "INSERT INTO DISTRIBUTION VALUES(17, 48387, 'Quiz', 30);\n",
    "INSERT INTO DISTRIBUTION VALUES(18, 48387, 'HW', 25);\n",
    "INSERT INTO DISTRIBUTION VALUES(19, 48387, 'Project', 20);\n",
    "INSERT INTO DISTRIBUTION VALUES(20, 48387, 'Final', 25);"
   ]
  },
  {
   "cell_type": "code",
   "execution_count": 16,
   "metadata": {
    "collapsed": false
   },
   "outputs": [
    {
     "name": "stdout",
     "output_type": "stream",
     "text": [
      "Done.\n"
     ]
    },
    {
     "data": {
      "text/html": [
       "<table>\n",
       "    <tr>\n",
       "        <th>DistributionID</th>\n",
       "        <th>CourseID</th>\n",
       "        <th>CategoryName</th>\n",
       "        <th>PERCENTAGE</th>\n",
       "    </tr>\n",
       "    <tr>\n",
       "        <td>1</td>\n",
       "        <td>85675</td>\n",
       "        <td>Quiz</td>\n",
       "        <td>50</td>\n",
       "    </tr>\n",
       "    <tr>\n",
       "        <td>2</td>\n",
       "        <td>85675</td>\n",
       "        <td>HW</td>\n",
       "        <td>10</td>\n",
       "    </tr>\n",
       "    <tr>\n",
       "        <td>3</td>\n",
       "        <td>85675</td>\n",
       "        <td>MidTerm</td>\n",
       "        <td>20</td>\n",
       "    </tr>\n",
       "    <tr>\n",
       "        <td>4</td>\n",
       "        <td>85675</td>\n",
       "        <td>Final</td>\n",
       "        <td>20</td>\n",
       "    </tr>\n",
       "    <tr>\n",
       "        <td>5</td>\n",
       "        <td>89994</td>\n",
       "        <td>Participation</td>\n",
       "        <td>40</td>\n",
       "    </tr>\n",
       "    <tr>\n",
       "        <td>6</td>\n",
       "        <td>89994</td>\n",
       "        <td>HW</td>\n",
       "        <td>10</td>\n",
       "    </tr>\n",
       "    <tr>\n",
       "        <td>7</td>\n",
       "        <td>89994</td>\n",
       "        <td>MidTerm</td>\n",
       "        <td>25</td>\n",
       "    </tr>\n",
       "    <tr>\n",
       "        <td>8</td>\n",
       "        <td>89994</td>\n",
       "        <td>Final</td>\n",
       "        <td>25</td>\n",
       "    </tr>\n",
       "    <tr>\n",
       "        <td>9</td>\n",
       "        <td>56738</td>\n",
       "        <td>Quiz</td>\n",
       "        <td>40</td>\n",
       "    </tr>\n",
       "    <tr>\n",
       "        <td>10</td>\n",
       "        <td>56738</td>\n",
       "        <td>HW</td>\n",
       "        <td>15</td>\n",
       "    </tr>\n",
       "    <tr>\n",
       "        <td>11</td>\n",
       "        <td>56738</td>\n",
       "        <td>MidTerm</td>\n",
       "        <td>20</td>\n",
       "    </tr>\n",
       "    <tr>\n",
       "        <td>12</td>\n",
       "        <td>56738</td>\n",
       "        <td>Final</td>\n",
       "        <td>25</td>\n",
       "    </tr>\n",
       "    <tr>\n",
       "        <td>13</td>\n",
       "        <td>90573</td>\n",
       "        <td>Quiz</td>\n",
       "        <td>20</td>\n",
       "    </tr>\n",
       "    <tr>\n",
       "        <td>14</td>\n",
       "        <td>90573</td>\n",
       "        <td>HW</td>\n",
       "        <td>25</td>\n",
       "    </tr>\n",
       "    <tr>\n",
       "        <td>15</td>\n",
       "        <td>90573</td>\n",
       "        <td>Project</td>\n",
       "        <td>30</td>\n",
       "    </tr>\n",
       "    <tr>\n",
       "        <td>16</td>\n",
       "        <td>90573</td>\n",
       "        <td>Final</td>\n",
       "        <td>25</td>\n",
       "    </tr>\n",
       "    <tr>\n",
       "        <td>17</td>\n",
       "        <td>48387</td>\n",
       "        <td>Quiz</td>\n",
       "        <td>30</td>\n",
       "    </tr>\n",
       "    <tr>\n",
       "        <td>18</td>\n",
       "        <td>48387</td>\n",
       "        <td>HW</td>\n",
       "        <td>25</td>\n",
       "    </tr>\n",
       "    <tr>\n",
       "        <td>19</td>\n",
       "        <td>48387</td>\n",
       "        <td>Project</td>\n",
       "        <td>20</td>\n",
       "    </tr>\n",
       "    <tr>\n",
       "        <td>20</td>\n",
       "        <td>48387</td>\n",
       "        <td>Final</td>\n",
       "        <td>25</td>\n",
       "    </tr>\n",
       "</table>"
      ],
      "text/plain": [
       "[(1, 85675, u'Quiz', 50),\n",
       " (2, 85675, u'HW', 10),\n",
       " (3, 85675, u'MidTerm', 20),\n",
       " (4, 85675, u'Final', 20),\n",
       " (5, 89994, u'Participation', 40),\n",
       " (6, 89994, u'HW', 10),\n",
       " (7, 89994, u'MidTerm', 25),\n",
       " (8, 89994, u'Final', 25),\n",
       " (9, 56738, u'Quiz', 40),\n",
       " (10, 56738, u'HW', 15),\n",
       " (11, 56738, u'MidTerm', 20),\n",
       " (12, 56738, u'Final', 25),\n",
       " (13, 90573, u'Quiz', 20),\n",
       " (14, 90573, u'HW', 25),\n",
       " (15, 90573, u'Project', 30),\n",
       " (16, 90573, u'Final', 25),\n",
       " (17, 48387, u'Quiz', 30),\n",
       " (18, 48387, u'HW', 25),\n",
       " (19, 48387, u'Project', 20),\n",
       " (20, 48387, u'Final', 25)]"
      ]
     },
     "execution_count": 16,
     "metadata": {},
     "output_type": "execute_result"
    }
   ],
   "source": [
    "%%sql\n",
    "\n",
    "SELECT * FROM DISTRIBUTION;"
   ]
  },
  {
   "cell_type": "code",
   "execution_count": 17,
   "metadata": {
    "collapsed": false
   },
   "outputs": [
    {
     "name": "stdout",
     "output_type": "stream",
     "text": [
      "1 rows affected.\n",
      "1 rows affected.\n",
      "1 rows affected.\n",
      "1 rows affected.\n",
      "1 rows affected.\n",
      "1 rows affected.\n",
      "1 rows affected.\n",
      "1 rows affected.\n",
      "1 rows affected.\n",
      "1 rows affected.\n",
      "1 rows affected.\n",
      "1 rows affected.\n",
      "1 rows affected.\n",
      "1 rows affected.\n",
      "1 rows affected.\n",
      "1 rows affected.\n",
      "1 rows affected.\n",
      "1 rows affected.\n",
      "1 rows affected.\n",
      "1 rows affected.\n",
      "1 rows affected.\n",
      "1 rows affected.\n",
      "1 rows affected.\n",
      "1 rows affected.\n",
      "1 rows affected.\n",
      "1 rows affected.\n",
      "1 rows affected.\n",
      "1 rows affected.\n",
      "1 rows affected.\n",
      "1 rows affected.\n",
      "1 rows affected.\n",
      "1 rows affected.\n",
      "1 rows affected.\n",
      "1 rows affected.\n",
      "1 rows affected.\n",
      "1 rows affected.\n",
      "1 rows affected.\n",
      "1 rows affected.\n",
      "1 rows affected.\n",
      "1 rows affected.\n"
     ]
    },
    {
     "data": {
      "text/plain": [
       "[]"
      ]
     },
     "execution_count": 17,
     "metadata": {},
     "output_type": "execute_result"
    }
   ],
   "source": [
    "%%sql\n",
    "\n",
    "INSERT INTO ASSIGNMENT VALUES(1, 1, 1, 100);\n",
    "INSERT INTO ASSIGNMENT VALUES(2, 1, 2, 100);\n",
    "\n",
    "INSERT INTO ASSIGNMENT VALUES(3, 2, 1, 100);\n",
    "INSERT INTO ASSIGNMENT VALUES(4, 2, 2, 100);\n",
    "\n",
    "INSERT INTO ASSIGNMENT VALUES(5, 3, 1, 100);\n",
    "INSERT INTO ASSIGNMENT VALUES(6, 3, 2, 100);\n",
    "\n",
    "INSERT INTO ASSIGNMENT VALUES(7, 4, 1, 100);\n",
    "INSERT INTO ASSIGNMENT VALUES(8, 4, 2, 100);\n",
    "\n",
    "INSERT INTO ASSIGNMENT VALUES(9, 5, 1, 100);\n",
    "INSERT INTO ASSIGNMENT VALUES(10, 5, 2, 100);\n",
    "\n",
    "INSERT INTO ASSIGNMENT VALUES(11, 6, 1, 100);\n",
    "INSERT INTO ASSIGNMENT VALUES(12, 6, 2, 100);\n",
    "\n",
    "INSERT INTO ASSIGNMENT VALUES(13, 7, 1, 100);\n",
    "INSERT INTO ASSIGNMENT VALUES(14, 7, 2, 100);\n",
    "\n",
    "INSERT INTO ASSIGNMENT VALUES(15, 8, 1, 100);\n",
    "INSERT INTO ASSIGNMENT VALUES(16, 8, 2, 100);\n",
    "\n",
    "INSERT INTO ASSIGNMENT VALUES(17, 9, 1, 100);\n",
    "INSERT INTO ASSIGNMENT VALUES(18, 9, 2, 100);\n",
    "\n",
    "INSERT INTO ASSIGNMENT VALUES(19, 10, 1, 100);\n",
    "INSERT INTO ASSIGNMENT VALUES(20, 10, 2, 100);\n",
    "\n",
    "INSERT INTO ASSIGNMENT VALUES(21, 11, 1, 100);\n",
    "INSERT INTO ASSIGNMENT VALUES(22, 11, 2, 100);\n",
    "\n",
    "INSERT INTO ASSIGNMENT VALUES(23, 12, 1, 100);\n",
    "INSERT INTO ASSIGNMENT VALUES(24, 12, 2, 100);\n",
    "\n",
    "INSERT INTO ASSIGNMENT VALUES(25, 13, 1, 100);\n",
    "INSERT INTO ASSIGNMENT VALUES(26, 13, 2, 100);\n",
    "\n",
    "INSERT INTO ASSIGNMENT VALUES(27, 14, 1, 100);\n",
    "INSERT INTO ASSIGNMENT VALUES(28, 14, 2, 100);\n",
    "\n",
    "INSERT INTO ASSIGNMENT VALUES(29, 15, 1, 100);\n",
    "INSERT INTO ASSIGNMENT VALUES(30, 15, 2, 100);\n",
    "\n",
    "INSERT INTO ASSIGNMENT VALUES(31, 16, 1, 100);\n",
    "INSERT INTO ASSIGNMENT VALUES(32, 16, 2, 100);\n",
    "\n",
    "INSERT INTO ASSIGNMENT VALUES(33, 17, 1, 100);\n",
    "INSERT INTO ASSIGNMENT VALUES(34, 17, 2, 100);\n",
    "\n",
    "INSERT INTO ASSIGNMENT VALUES(35, 18, 1, 100);\n",
    "INSERT INTO ASSIGNMENT VALUES(36, 18, 2, 100);\n",
    "\n",
    "INSERT INTO ASSIGNMENT VALUES(37, 19, 1, 100);\n",
    "INSERT INTO ASSIGNMENT VALUES(38, 19, 2, 100);\n",
    "\n",
    "INSERT INTO ASSIGNMENT VALUES(39, 20, 1, 100);\n",
    "INSERT INTO ASSIGNMENT VALUES(40, 20, 2, 100);"
   ]
  },
  {
   "cell_type": "code",
   "execution_count": 19,
   "metadata": {
    "collapsed": false
   },
   "outputs": [
    {
     "name": "stdout",
     "output_type": "stream",
     "text": [
      "Done.\n"
     ]
    },
    {
     "data": {
      "text/html": [
       "<table>\n",
       "    <tr>\n",
       "        <th>AssignmentID</th>\n",
       "        <th>DistributionID</th>\n",
       "        <th>Instance</th>\n",
       "        <th>PointsPossible</th>\n",
       "    </tr>\n",
       "    <tr>\n",
       "        <td>1</td>\n",
       "        <td>1</td>\n",
       "        <td>1</td>\n",
       "        <td>100</td>\n",
       "    </tr>\n",
       "    <tr>\n",
       "        <td>2</td>\n",
       "        <td>1</td>\n",
       "        <td>2</td>\n",
       "        <td>100</td>\n",
       "    </tr>\n",
       "    <tr>\n",
       "        <td>3</td>\n",
       "        <td>2</td>\n",
       "        <td>1</td>\n",
       "        <td>100</td>\n",
       "    </tr>\n",
       "    <tr>\n",
       "        <td>4</td>\n",
       "        <td>2</td>\n",
       "        <td>2</td>\n",
       "        <td>100</td>\n",
       "    </tr>\n",
       "    <tr>\n",
       "        <td>5</td>\n",
       "        <td>3</td>\n",
       "        <td>1</td>\n",
       "        <td>100</td>\n",
       "    </tr>\n",
       "    <tr>\n",
       "        <td>6</td>\n",
       "        <td>3</td>\n",
       "        <td>2</td>\n",
       "        <td>100</td>\n",
       "    </tr>\n",
       "    <tr>\n",
       "        <td>7</td>\n",
       "        <td>4</td>\n",
       "        <td>1</td>\n",
       "        <td>100</td>\n",
       "    </tr>\n",
       "    <tr>\n",
       "        <td>8</td>\n",
       "        <td>4</td>\n",
       "        <td>2</td>\n",
       "        <td>100</td>\n",
       "    </tr>\n",
       "    <tr>\n",
       "        <td>9</td>\n",
       "        <td>5</td>\n",
       "        <td>1</td>\n",
       "        <td>100</td>\n",
       "    </tr>\n",
       "    <tr>\n",
       "        <td>10</td>\n",
       "        <td>5</td>\n",
       "        <td>2</td>\n",
       "        <td>100</td>\n",
       "    </tr>\n",
       "    <tr>\n",
       "        <td>11</td>\n",
       "        <td>6</td>\n",
       "        <td>1</td>\n",
       "        <td>100</td>\n",
       "    </tr>\n",
       "    <tr>\n",
       "        <td>12</td>\n",
       "        <td>6</td>\n",
       "        <td>2</td>\n",
       "        <td>100</td>\n",
       "    </tr>\n",
       "    <tr>\n",
       "        <td>13</td>\n",
       "        <td>7</td>\n",
       "        <td>1</td>\n",
       "        <td>100</td>\n",
       "    </tr>\n",
       "    <tr>\n",
       "        <td>14</td>\n",
       "        <td>7</td>\n",
       "        <td>2</td>\n",
       "        <td>100</td>\n",
       "    </tr>\n",
       "    <tr>\n",
       "        <td>15</td>\n",
       "        <td>8</td>\n",
       "        <td>1</td>\n",
       "        <td>100</td>\n",
       "    </tr>\n",
       "    <tr>\n",
       "        <td>16</td>\n",
       "        <td>8</td>\n",
       "        <td>2</td>\n",
       "        <td>100</td>\n",
       "    </tr>\n",
       "    <tr>\n",
       "        <td>17</td>\n",
       "        <td>9</td>\n",
       "        <td>1</td>\n",
       "        <td>100</td>\n",
       "    </tr>\n",
       "    <tr>\n",
       "        <td>18</td>\n",
       "        <td>9</td>\n",
       "        <td>2</td>\n",
       "        <td>100</td>\n",
       "    </tr>\n",
       "    <tr>\n",
       "        <td>19</td>\n",
       "        <td>10</td>\n",
       "        <td>1</td>\n",
       "        <td>100</td>\n",
       "    </tr>\n",
       "    <tr>\n",
       "        <td>20</td>\n",
       "        <td>10</td>\n",
       "        <td>2</td>\n",
       "        <td>100</td>\n",
       "    </tr>\n",
       "    <tr>\n",
       "        <td>21</td>\n",
       "        <td>11</td>\n",
       "        <td>1</td>\n",
       "        <td>100</td>\n",
       "    </tr>\n",
       "    <tr>\n",
       "        <td>22</td>\n",
       "        <td>11</td>\n",
       "        <td>2</td>\n",
       "        <td>100</td>\n",
       "    </tr>\n",
       "    <tr>\n",
       "        <td>23</td>\n",
       "        <td>12</td>\n",
       "        <td>1</td>\n",
       "        <td>100</td>\n",
       "    </tr>\n",
       "    <tr>\n",
       "        <td>24</td>\n",
       "        <td>12</td>\n",
       "        <td>2</td>\n",
       "        <td>100</td>\n",
       "    </tr>\n",
       "    <tr>\n",
       "        <td>25</td>\n",
       "        <td>13</td>\n",
       "        <td>1</td>\n",
       "        <td>100</td>\n",
       "    </tr>\n",
       "    <tr>\n",
       "        <td>26</td>\n",
       "        <td>13</td>\n",
       "        <td>2</td>\n",
       "        <td>100</td>\n",
       "    </tr>\n",
       "    <tr>\n",
       "        <td>27</td>\n",
       "        <td>14</td>\n",
       "        <td>1</td>\n",
       "        <td>100</td>\n",
       "    </tr>\n",
       "    <tr>\n",
       "        <td>28</td>\n",
       "        <td>14</td>\n",
       "        <td>2</td>\n",
       "        <td>100</td>\n",
       "    </tr>\n",
       "    <tr>\n",
       "        <td>29</td>\n",
       "        <td>15</td>\n",
       "        <td>1</td>\n",
       "        <td>100</td>\n",
       "    </tr>\n",
       "    <tr>\n",
       "        <td>30</td>\n",
       "        <td>15</td>\n",
       "        <td>2</td>\n",
       "        <td>100</td>\n",
       "    </tr>\n",
       "    <tr>\n",
       "        <td>31</td>\n",
       "        <td>16</td>\n",
       "        <td>1</td>\n",
       "        <td>100</td>\n",
       "    </tr>\n",
       "    <tr>\n",
       "        <td>32</td>\n",
       "        <td>16</td>\n",
       "        <td>2</td>\n",
       "        <td>100</td>\n",
       "    </tr>\n",
       "    <tr>\n",
       "        <td>33</td>\n",
       "        <td>17</td>\n",
       "        <td>1</td>\n",
       "        <td>100</td>\n",
       "    </tr>\n",
       "    <tr>\n",
       "        <td>34</td>\n",
       "        <td>17</td>\n",
       "        <td>2</td>\n",
       "        <td>100</td>\n",
       "    </tr>\n",
       "    <tr>\n",
       "        <td>35</td>\n",
       "        <td>18</td>\n",
       "        <td>1</td>\n",
       "        <td>100</td>\n",
       "    </tr>\n",
       "    <tr>\n",
       "        <td>36</td>\n",
       "        <td>18</td>\n",
       "        <td>2</td>\n",
       "        <td>100</td>\n",
       "    </tr>\n",
       "    <tr>\n",
       "        <td>37</td>\n",
       "        <td>19</td>\n",
       "        <td>1</td>\n",
       "        <td>100</td>\n",
       "    </tr>\n",
       "    <tr>\n",
       "        <td>38</td>\n",
       "        <td>19</td>\n",
       "        <td>2</td>\n",
       "        <td>100</td>\n",
       "    </tr>\n",
       "    <tr>\n",
       "        <td>39</td>\n",
       "        <td>20</td>\n",
       "        <td>1</td>\n",
       "        <td>100</td>\n",
       "    </tr>\n",
       "    <tr>\n",
       "        <td>40</td>\n",
       "        <td>20</td>\n",
       "        <td>2</td>\n",
       "        <td>100</td>\n",
       "    </tr>\n",
       "</table>"
      ],
      "text/plain": [
       "[(1, 1, 1, 100),\n",
       " (2, 1, 2, 100),\n",
       " (3, 2, 1, 100),\n",
       " (4, 2, 2, 100),\n",
       " (5, 3, 1, 100),\n",
       " (6, 3, 2, 100),\n",
       " (7, 4, 1, 100),\n",
       " (8, 4, 2, 100),\n",
       " (9, 5, 1, 100),\n",
       " (10, 5, 2, 100),\n",
       " (11, 6, 1, 100),\n",
       " (12, 6, 2, 100),\n",
       " (13, 7, 1, 100),\n",
       " (14, 7, 2, 100),\n",
       " (15, 8, 1, 100),\n",
       " (16, 8, 2, 100),\n",
       " (17, 9, 1, 100),\n",
       " (18, 9, 2, 100),\n",
       " (19, 10, 1, 100),\n",
       " (20, 10, 2, 100),\n",
       " (21, 11, 1, 100),\n",
       " (22, 11, 2, 100),\n",
       " (23, 12, 1, 100),\n",
       " (24, 12, 2, 100),\n",
       " (25, 13, 1, 100),\n",
       " (26, 13, 2, 100),\n",
       " (27, 14, 1, 100),\n",
       " (28, 14, 2, 100),\n",
       " (29, 15, 1, 100),\n",
       " (30, 15, 2, 100),\n",
       " (31, 16, 1, 100),\n",
       " (32, 16, 2, 100),\n",
       " (33, 17, 1, 100),\n",
       " (34, 17, 2, 100),\n",
       " (35, 18, 1, 100),\n",
       " (36, 18, 2, 100),\n",
       " (37, 19, 1, 100),\n",
       " (38, 19, 2, 100),\n",
       " (39, 20, 1, 100),\n",
       " (40, 20, 2, 100)]"
      ]
     },
     "execution_count": 19,
     "metadata": {},
     "output_type": "execute_result"
    }
   ],
   "source": [
    "%%sql\n",
    "\n",
    "SELECT * FROM ASSIGNMENT;"
   ]
  },
  {
   "cell_type": "code",
   "execution_count": 20,
   "metadata": {
    "collapsed": false
   },
   "outputs": [
    {
     "name": "stdout",
     "output_type": "stream",
     "text": [
      "1 rows affected.\n",
      "1 rows affected.\n",
      "1 rows affected.\n",
      "1 rows affected.\n",
      "1 rows affected.\n",
      "1 rows affected.\n",
      "1 rows affected.\n",
      "1 rows affected.\n",
      "1 rows affected.\n",
      "1 rows affected.\n",
      "1 rows affected.\n",
      "1 rows affected.\n",
      "1 rows affected.\n",
      "1 rows affected.\n",
      "1 rows affected.\n",
      "1 rows affected.\n",
      "1 rows affected.\n",
      "1 rows affected.\n",
      "1 rows affected.\n",
      "1 rows affected.\n",
      "1 rows affected.\n",
      "1 rows affected.\n",
      "1 rows affected.\n"
     ]
    },
    {
     "data": {
      "text/plain": [
       "[]"
      ]
     },
     "execution_count": 20,
     "metadata": {},
     "output_type": "execute_result"
    }
   ],
   "source": [
    "%%sql\n",
    "\n",
    "INSERT INTO SCORE VALUES(1234, 1, 85);\n",
    "INSERT INTO SCORE VALUES(5678, 1, 80);\n",
    "INSERT INTO SCORE VALUES(3456, 1, 95);\n",
    "INSERT INTO SCORE VALUES(4590, 1, 65);\n",
    "INSERT INTO SCORE VALUES(5337, 1, 100);\n",
    "INSERT INTO SCORE VALUES(5555, 1, 93);\n",
    "\n",
    "INSERT INTO SCORE VALUES(1234, 2, 81);\n",
    "INSERT INTO SCORE VALUES(5678, 2, 84);\n",
    "INSERT INTO SCORE VALUES(3456, 2, 95);\n",
    "INSERT INTO SCORE VALUES(4590, 2, 62);\n",
    "INSERT INTO SCORE VALUES(5337, 2, 90);\n",
    "INSERT INTO SCORE VALUES(5555, 2, 93);\n",
    "\n",
    "\n",
    "INSERT INTO SCORE VALUES(1234, 18, 87);\n",
    "INSERT INTO SCORE VALUES(5678, 18, 94);\n",
    "INSERT INTO SCORE VALUES(3456, 18, 55);\n",
    "INSERT INTO SCORE VALUES(4590, 18, 72);\n",
    "INSERT INTO SCORE VALUES(5337, 18, 0);\n",
    "INSERT INTO SCORE VALUES(5555, 18, 99);\n",
    "\n",
    "INSERT INTO SCORE VALUES(1234, 16, 80);\n",
    "INSERT INTO SCORE VALUES(1234, 30, 85);\n",
    "INSERT INTO SCORE VALUES(1234, 40, 95);\n",
    "\n",
    "INSERT INTO SCORE VALUES(5337, 26, 78);\n",
    "\n",
    "INSERT INTO SCORE VALUES(1234, 8, 84);"
   ]
  },
  {
   "cell_type": "code",
   "execution_count": 21,
   "metadata": {
    "collapsed": false
   },
   "outputs": [
    {
     "name": "stdout",
     "output_type": "stream",
     "text": [
      "Done.\n"
     ]
    },
    {
     "data": {
      "text/html": [
       "<table>\n",
       "    <tr>\n",
       "        <th>StudentID</th>\n",
       "        <th>AssignmentID</th>\n",
       "        <th>Points</th>\n",
       "    </tr>\n",
       "    <tr>\n",
       "        <td>1234</td>\n",
       "        <td>1</td>\n",
       "        <td>85</td>\n",
       "    </tr>\n",
       "    <tr>\n",
       "        <td>5678</td>\n",
       "        <td>1</td>\n",
       "        <td>80</td>\n",
       "    </tr>\n",
       "    <tr>\n",
       "        <td>3456</td>\n",
       "        <td>1</td>\n",
       "        <td>95</td>\n",
       "    </tr>\n",
       "    <tr>\n",
       "        <td>4590</td>\n",
       "        <td>1</td>\n",
       "        <td>65</td>\n",
       "    </tr>\n",
       "    <tr>\n",
       "        <td>5337</td>\n",
       "        <td>1</td>\n",
       "        <td>100</td>\n",
       "    </tr>\n",
       "    <tr>\n",
       "        <td>5555</td>\n",
       "        <td>1</td>\n",
       "        <td>93</td>\n",
       "    </tr>\n",
       "    <tr>\n",
       "        <td>1234</td>\n",
       "        <td>2</td>\n",
       "        <td>81</td>\n",
       "    </tr>\n",
       "    <tr>\n",
       "        <td>5678</td>\n",
       "        <td>2</td>\n",
       "        <td>84</td>\n",
       "    </tr>\n",
       "    <tr>\n",
       "        <td>3456</td>\n",
       "        <td>2</td>\n",
       "        <td>95</td>\n",
       "    </tr>\n",
       "    <tr>\n",
       "        <td>4590</td>\n",
       "        <td>2</td>\n",
       "        <td>62</td>\n",
       "    </tr>\n",
       "    <tr>\n",
       "        <td>5337</td>\n",
       "        <td>2</td>\n",
       "        <td>90</td>\n",
       "    </tr>\n",
       "    <tr>\n",
       "        <td>5555</td>\n",
       "        <td>2</td>\n",
       "        <td>93</td>\n",
       "    </tr>\n",
       "    <tr>\n",
       "        <td>1234</td>\n",
       "        <td>18</td>\n",
       "        <td>87</td>\n",
       "    </tr>\n",
       "    <tr>\n",
       "        <td>5678</td>\n",
       "        <td>18</td>\n",
       "        <td>94</td>\n",
       "    </tr>\n",
       "    <tr>\n",
       "        <td>3456</td>\n",
       "        <td>18</td>\n",
       "        <td>55</td>\n",
       "    </tr>\n",
       "    <tr>\n",
       "        <td>4590</td>\n",
       "        <td>18</td>\n",
       "        <td>72</td>\n",
       "    </tr>\n",
       "    <tr>\n",
       "        <td>5337</td>\n",
       "        <td>18</td>\n",
       "        <td>0</td>\n",
       "    </tr>\n",
       "    <tr>\n",
       "        <td>5555</td>\n",
       "        <td>18</td>\n",
       "        <td>99</td>\n",
       "    </tr>\n",
       "    <tr>\n",
       "        <td>1234</td>\n",
       "        <td>16</td>\n",
       "        <td>80</td>\n",
       "    </tr>\n",
       "    <tr>\n",
       "        <td>1234</td>\n",
       "        <td>30</td>\n",
       "        <td>85</td>\n",
       "    </tr>\n",
       "    <tr>\n",
       "        <td>1234</td>\n",
       "        <td>40</td>\n",
       "        <td>95</td>\n",
       "    </tr>\n",
       "    <tr>\n",
       "        <td>5337</td>\n",
       "        <td>26</td>\n",
       "        <td>78</td>\n",
       "    </tr>\n",
       "    <tr>\n",
       "        <td>1234</td>\n",
       "        <td>8</td>\n",
       "        <td>84</td>\n",
       "    </tr>\n",
       "</table>"
      ],
      "text/plain": [
       "[(1234, 1, 85),\n",
       " (5678, 1, 80),\n",
       " (3456, 1, 95),\n",
       " (4590, 1, 65),\n",
       " (5337, 1, 100),\n",
       " (5555, 1, 93),\n",
       " (1234, 2, 81),\n",
       " (5678, 2, 84),\n",
       " (3456, 2, 95),\n",
       " (4590, 2, 62),\n",
       " (5337, 2, 90),\n",
       " (5555, 2, 93),\n",
       " (1234, 18, 87),\n",
       " (5678, 18, 94),\n",
       " (3456, 18, 55),\n",
       " (4590, 18, 72),\n",
       " (5337, 18, 0),\n",
       " (5555, 18, 99),\n",
       " (1234, 16, 80),\n",
       " (1234, 30, 85),\n",
       " (1234, 40, 95),\n",
       " (5337, 26, 78),\n",
       " (1234, 8, 84)]"
      ]
     },
     "execution_count": 21,
     "metadata": {},
     "output_type": "execute_result"
    }
   ],
   "source": [
    "%%sql\n",
    "SELECT * FROM SCORE;"
   ]
  },
  {
   "cell_type": "code",
   "execution_count": 22,
   "metadata": {
    "collapsed": false
   },
   "outputs": [
    {
     "name": "stdout",
     "output_type": "stream",
     "text": [
      "Done.\n"
     ]
    },
    {
     "data": {
      "text/html": [
       "<table>\n",
       "    <tr>\n",
       "        <th>AVG(Points)</th>\n",
       "    </tr>\n",
       "    <tr>\n",
       "        <td>86.3333333333</td>\n",
       "    </tr>\n",
       "</table>"
      ],
      "text/plain": [
       "[(86.33333333333333,)]"
      ]
     },
     "execution_count": 22,
     "metadata": {},
     "output_type": "execute_result"
    }
   ],
   "source": [
    "%%sql\n",
    "/*4. Calculating average score for assignment 1.*/\n",
    "SELECT AVG(Points) FROM SCORE WHERE AssignmentID = 1;"
   ]
  },
  {
   "cell_type": "code",
   "execution_count": 23,
   "metadata": {
    "collapsed": false
   },
   "outputs": [
    {
     "name": "stdout",
     "output_type": "stream",
     "text": [
      "Done.\n"
     ]
    },
    {
     "data": {
      "text/html": [
       "<table>\n",
       "    <tr>\n",
       "        <th>MAX(Points)</th>\n",
       "    </tr>\n",
       "    <tr>\n",
       "        <td>100</td>\n",
       "    </tr>\n",
       "</table>"
      ],
      "text/plain": [
       "[(100,)]"
      ]
     },
     "execution_count": 23,
     "metadata": {},
     "output_type": "execute_result"
    }
   ],
   "source": [
    "%%sql\n",
    "/*4. Calculating highest score for assignment 1. */\n",
    "SELECT MAX(Points) FROM SCORE WHERE AssignmentID = 1;"
   ]
  },
  {
   "cell_type": "code",
   "execution_count": 24,
   "metadata": {
    "collapsed": false
   },
   "outputs": [
    {
     "name": "stdout",
     "output_type": "stream",
     "text": [
      "Done.\n"
     ]
    },
    {
     "data": {
      "text/html": [
       "<table>\n",
       "    <tr>\n",
       "        <th>MIN(Points)</th>\n",
       "    </tr>\n",
       "    <tr>\n",
       "        <td>65</td>\n",
       "    </tr>\n",
       "</table>"
      ],
      "text/plain": [
       "[(65,)]"
      ]
     },
     "execution_count": 24,
     "metadata": {},
     "output_type": "execute_result"
    }
   ],
   "source": [
    "%%sql\n",
    "/*4. Calculating lowest score for assignment 1. */\n",
    "SELECT MIN(Points) FROM SCORE WHERE AssignmentID = 1;"
   ]
  },
  {
   "cell_type": "code",
   "execution_count": 25,
   "metadata": {
    "collapsed": false
   },
   "outputs": [
    {
     "name": "stdout",
     "output_type": "stream",
     "text": [
      "Done.\n"
     ]
    },
    {
     "data": {
      "text/html": [
       "<table>\n",
       "    <tr>\n",
       "        <th>StudentID</th>\n",
       "        <th>FirstName</th>\n",
       "        <th>LastName</th>\n",
       "        <th>Major</th>\n",
       "        <th>CourseID</th>\n",
       "    </tr>\n",
       "    <tr>\n",
       "        <td>1234</td>\n",
       "        <td>Richard</td>\n",
       "        <td>Hendricks</td>\n",
       "        <td>Computer Science</td>\n",
       "        <td>85675</td>\n",
       "    </tr>\n",
       "    <tr>\n",
       "        <td>5678</td>\n",
       "        <td>Jared</td>\n",
       "        <td>Dunn</td>\n",
       "        <td>Management Science</td>\n",
       "        <td>85675</td>\n",
       "    </tr>\n",
       "    <tr>\n",
       "        <td>3456</td>\n",
       "        <td>Erlich</td>\n",
       "        <td>Bachman</td>\n",
       "        <td>Aviato</td>\n",
       "        <td>85675</td>\n",
       "    </tr>\n",
       "    <tr>\n",
       "        <td>4590</td>\n",
       "        <td>Jimmy</td>\n",
       "        <td>Quoyang</td>\n",
       "        <td>Marine Biology</td>\n",
       "        <td>85675</td>\n",
       "    </tr>\n",
       "    <tr>\n",
       "        <td>5337</td>\n",
       "        <td>Dinesh</td>\n",
       "        <td>Gilfoyle</td>\n",
       "        <td>Computer Engineering</td>\n",
       "        <td>85675</td>\n",
       "    </tr>\n",
       "    <tr>\n",
       "        <td>5555</td>\n",
       "        <td>John</td>\n",
       "        <td>Doe</td>\n",
       "        <td>English</td>\n",
       "        <td>85675</td>\n",
       "    </tr>\n",
       "</table>"
      ],
      "text/plain": [
       "[(1234, u'Richard', u'Hendricks', u'Computer Science', 85675),\n",
       " (5678, u'Jared', u'Dunn', u'Management Science', 85675),\n",
       " (3456, u'Erlich', u'Bachman', u'Aviato', 85675),\n",
       " (4590, u'Jimmy', u'Quoyang', u'Marine Biology', 85675),\n",
       " (5337, u'Dinesh', u'Gilfoyle', u'Computer Engineering', 85675),\n",
       " (5555, u'John', u'Doe', u'English', 85675)]"
      ]
     },
     "execution_count": 25,
     "metadata": {},
     "output_type": "execute_result"
    }
   ],
   "source": [
    "%%sql\n",
    "/* 5. List all of the students in a given course; \n",
    "Listing all students in Calculus 2 class */\n",
    "\n",
    "SELECT STUDENT.StudentID, FirstName, LastName, Major, CourseID\n",
    "FROM STUDENT JOIN ENROLLMENT\n",
    "WHERE CourseID = 85675\n",
    "AND STUDENT.StudentID = ENROLLMENT.StudentID;"
   ]
  },
  {
   "cell_type": "code",
   "execution_count": 27,
   "metadata": {
    "collapsed": false
   },
   "outputs": [
    {
     "name": "stdout",
     "output_type": "stream",
     "text": [
      "Done.\n"
     ]
    },
    {
     "data": {
      "text/html": [
       "<table>\n",
       "    <tr>\n",
       "        <th>StudentID</th>\n",
       "        <th>FirstName</th>\n",
       "        <th>LastName</th>\n",
       "        <th>CourseID</th>\n",
       "        <th>AssignmentID</th>\n",
       "        <th>CategoryName</th>\n",
       "        <th>Points</th>\n",
       "    </tr>\n",
       "    <tr>\n",
       "        <td>1234</td>\n",
       "        <td>Richard</td>\n",
       "        <td>Hendricks</td>\n",
       "        <td>85675</td>\n",
       "        <td>1</td>\n",
       "        <td>Quiz</td>\n",
       "        <td>85</td>\n",
       "    </tr>\n",
       "    <tr>\n",
       "        <td>5678</td>\n",
       "        <td>Jared</td>\n",
       "        <td>Dunn</td>\n",
       "        <td>85675</td>\n",
       "        <td>1</td>\n",
       "        <td>Quiz</td>\n",
       "        <td>80</td>\n",
       "    </tr>\n",
       "    <tr>\n",
       "        <td>3456</td>\n",
       "        <td>Erlich</td>\n",
       "        <td>Bachman</td>\n",
       "        <td>85675</td>\n",
       "        <td>1</td>\n",
       "        <td>Quiz</td>\n",
       "        <td>95</td>\n",
       "    </tr>\n",
       "    <tr>\n",
       "        <td>4590</td>\n",
       "        <td>Jimmy</td>\n",
       "        <td>Quoyang</td>\n",
       "        <td>85675</td>\n",
       "        <td>1</td>\n",
       "        <td>Quiz</td>\n",
       "        <td>65</td>\n",
       "    </tr>\n",
       "    <tr>\n",
       "        <td>5337</td>\n",
       "        <td>Dinesh</td>\n",
       "        <td>Gilfoyle</td>\n",
       "        <td>85675</td>\n",
       "        <td>1</td>\n",
       "        <td>Quiz</td>\n",
       "        <td>100</td>\n",
       "    </tr>\n",
       "    <tr>\n",
       "        <td>5555</td>\n",
       "        <td>John</td>\n",
       "        <td>Doe</td>\n",
       "        <td>85675</td>\n",
       "        <td>1</td>\n",
       "        <td>Quiz</td>\n",
       "        <td>93</td>\n",
       "    </tr>\n",
       "    <tr>\n",
       "        <td>1234</td>\n",
       "        <td>Richard</td>\n",
       "        <td>Hendricks</td>\n",
       "        <td>85675</td>\n",
       "        <td>2</td>\n",
       "        <td>Quiz</td>\n",
       "        <td>81</td>\n",
       "    </tr>\n",
       "    <tr>\n",
       "        <td>5678</td>\n",
       "        <td>Jared</td>\n",
       "        <td>Dunn</td>\n",
       "        <td>85675</td>\n",
       "        <td>2</td>\n",
       "        <td>Quiz</td>\n",
       "        <td>84</td>\n",
       "    </tr>\n",
       "    <tr>\n",
       "        <td>3456</td>\n",
       "        <td>Erlich</td>\n",
       "        <td>Bachman</td>\n",
       "        <td>85675</td>\n",
       "        <td>2</td>\n",
       "        <td>Quiz</td>\n",
       "        <td>95</td>\n",
       "    </tr>\n",
       "    <tr>\n",
       "        <td>4590</td>\n",
       "        <td>Jimmy</td>\n",
       "        <td>Quoyang</td>\n",
       "        <td>85675</td>\n",
       "        <td>2</td>\n",
       "        <td>Quiz</td>\n",
       "        <td>62</td>\n",
       "    </tr>\n",
       "    <tr>\n",
       "        <td>5337</td>\n",
       "        <td>Dinesh</td>\n",
       "        <td>Gilfoyle</td>\n",
       "        <td>85675</td>\n",
       "        <td>2</td>\n",
       "        <td>Quiz</td>\n",
       "        <td>90</td>\n",
       "    </tr>\n",
       "    <tr>\n",
       "        <td>5555</td>\n",
       "        <td>John</td>\n",
       "        <td>Doe</td>\n",
       "        <td>85675</td>\n",
       "        <td>2</td>\n",
       "        <td>Quiz</td>\n",
       "        <td>93</td>\n",
       "    </tr>\n",
       "    <tr>\n",
       "        <td>1234</td>\n",
       "        <td>Richard</td>\n",
       "        <td>Hendricks</td>\n",
       "        <td>85675</td>\n",
       "        <td>8</td>\n",
       "        <td>Final</td>\n",
       "        <td>84</td>\n",
       "    </tr>\n",
       "</table>"
      ],
      "text/plain": [
       "[(1234, u'Richard', u'Hendricks', 85675, 1, u'Quiz', 85),\n",
       " (5678, u'Jared', u'Dunn', 85675, 1, u'Quiz', 80),\n",
       " (3456, u'Erlich', u'Bachman', 85675, 1, u'Quiz', 95),\n",
       " (4590, u'Jimmy', u'Quoyang', 85675, 1, u'Quiz', 65),\n",
       " (5337, u'Dinesh', u'Gilfoyle', 85675, 1, u'Quiz', 100),\n",
       " (5555, u'John', u'Doe', 85675, 1, u'Quiz', 93),\n",
       " (1234, u'Richard', u'Hendricks', 85675, 2, u'Quiz', 81),\n",
       " (5678, u'Jared', u'Dunn', 85675, 2, u'Quiz', 84),\n",
       " (3456, u'Erlich', u'Bachman', 85675, 2, u'Quiz', 95),\n",
       " (4590, u'Jimmy', u'Quoyang', 85675, 2, u'Quiz', 62),\n",
       " (5337, u'Dinesh', u'Gilfoyle', 85675, 2, u'Quiz', 90),\n",
       " (5555, u'John', u'Doe', 85675, 2, u'Quiz', 93),\n",
       " (1234, u'Richard', u'Hendricks', 85675, 8, u'Final', 84)]"
      ]
     },
     "execution_count": 27,
     "metadata": {},
     "output_type": "execute_result"
    }
   ],
   "source": [
    "%%sql \n",
    "/*6. List all of the students in a course and\n",
    "all of their scores on every assignment;\n",
    "\n",
    "Doing this for Calculus 2 class\n",
    "*/\n",
    "\n",
    "SELECT pt.StudentID as StudentID, st.FirstName as FirstName, \n",
    "st.LastName as LastName, pt.CourseID as CourseID,\n",
    "pt.AssignmentID as AssignmentID, pt.CategoryName as CategoryName,\n",
    "pt.Points as Points \n",
    "FROM (SELECT STUDENT.StudentID, AssignmentID, FirstName, LastName, CourseID, Points\n",
    "FROM STUDENT JOIN ENROLLMENT JOIN SCORE\n",
    "WHERE CourseID = 85675\n",
    "AND STUDENT.StudentID = ENROLLMENT.StudentID\n",
    "AND STUDENT.StudentID = SCORE.StudentID) st \n",
    "JOIN \n",
    "(SELECT StudentID, CourseID, CategoryName, ASSIGNMENT.AssignmentID, Points\n",
    "FROM DISTRIBUTION JOIN ASSIGNMENT JOIN SCORE\n",
    "WHERE DISTRIBUTION.CourseID = 85675 \n",
    "AND DISTRIBUTION.DistributionID = ASSIGNMENT.DistributionID\n",
    "AND ASSIGNMENT.AssignmentID = SCORE.AssignmentID) pt\n",
    "WHERE st.AssignmentID = pt.AssignmentID\n",
    "AND st.Points = pt.Points;\n"
   ]
  },
  {
   "cell_type": "code",
   "execution_count": 28,
   "metadata": {
    "collapsed": false
   },
   "outputs": [
    {
     "name": "stdout",
     "output_type": "stream",
     "text": [
      "Done.\n"
     ]
    },
    {
     "data": {
      "text/plain": [
       "[]"
      ]
     },
     "execution_count": 28,
     "metadata": {},
     "output_type": "execute_result"
    }
   ],
   "source": [
    "%%sql\n",
    "/*7. Add an assignment to a course\n",
    "\n",
    "Adding a Homework Assignment for Calculus-2 class\n",
    "HW ID for Calculs-2 class is 2, and \n",
    "there are already 2 HWs for this class in the database;*/\n",
    "\n",
    "INSERT INTO ASSIGNMENT VALUES (41, 2, 3, 100);"
   ]
  },
  {
   "cell_type": "code",
   "execution_count": 29,
   "metadata": {
    "collapsed": false
   },
   "outputs": [
    {
     "name": "stdout",
     "output_type": "stream",
     "text": [
      "Done.\n"
     ]
    },
    {
     "data": {
      "text/html": [
       "<table>\n",
       "    <tr>\n",
       "        <th>AssignmentID</th>\n",
       "        <th>DistributionID</th>\n",
       "        <th>Instance</th>\n",
       "        <th>PointsPossible</th>\n",
       "    </tr>\n",
       "    <tr>\n",
       "        <td>1</td>\n",
       "        <td>1</td>\n",
       "        <td>1</td>\n",
       "        <td>100</td>\n",
       "    </tr>\n",
       "    <tr>\n",
       "        <td>2</td>\n",
       "        <td>1</td>\n",
       "        <td>2</td>\n",
       "        <td>100</td>\n",
       "    </tr>\n",
       "    <tr>\n",
       "        <td>3</td>\n",
       "        <td>2</td>\n",
       "        <td>1</td>\n",
       "        <td>100</td>\n",
       "    </tr>\n",
       "    <tr>\n",
       "        <td>4</td>\n",
       "        <td>2</td>\n",
       "        <td>2</td>\n",
       "        <td>100</td>\n",
       "    </tr>\n",
       "    <tr>\n",
       "        <td>41</td>\n",
       "        <td>2</td>\n",
       "        <td>3</td>\n",
       "        <td>100</td>\n",
       "    </tr>\n",
       "    <tr>\n",
       "        <td>5</td>\n",
       "        <td>3</td>\n",
       "        <td>1</td>\n",
       "        <td>100</td>\n",
       "    </tr>\n",
       "    <tr>\n",
       "        <td>6</td>\n",
       "        <td>3</td>\n",
       "        <td>2</td>\n",
       "        <td>100</td>\n",
       "    </tr>\n",
       "    <tr>\n",
       "        <td>7</td>\n",
       "        <td>4</td>\n",
       "        <td>1</td>\n",
       "        <td>100</td>\n",
       "    </tr>\n",
       "    <tr>\n",
       "        <td>8</td>\n",
       "        <td>4</td>\n",
       "        <td>2</td>\n",
       "        <td>100</td>\n",
       "    </tr>\n",
       "    <tr>\n",
       "        <td>9</td>\n",
       "        <td>5</td>\n",
       "        <td>1</td>\n",
       "        <td>100</td>\n",
       "    </tr>\n",
       "    <tr>\n",
       "        <td>10</td>\n",
       "        <td>5</td>\n",
       "        <td>2</td>\n",
       "        <td>100</td>\n",
       "    </tr>\n",
       "    <tr>\n",
       "        <td>11</td>\n",
       "        <td>6</td>\n",
       "        <td>1</td>\n",
       "        <td>100</td>\n",
       "    </tr>\n",
       "    <tr>\n",
       "        <td>12</td>\n",
       "        <td>6</td>\n",
       "        <td>2</td>\n",
       "        <td>100</td>\n",
       "    </tr>\n",
       "    <tr>\n",
       "        <td>13</td>\n",
       "        <td>7</td>\n",
       "        <td>1</td>\n",
       "        <td>100</td>\n",
       "    </tr>\n",
       "    <tr>\n",
       "        <td>14</td>\n",
       "        <td>7</td>\n",
       "        <td>2</td>\n",
       "        <td>100</td>\n",
       "    </tr>\n",
       "    <tr>\n",
       "        <td>15</td>\n",
       "        <td>8</td>\n",
       "        <td>1</td>\n",
       "        <td>100</td>\n",
       "    </tr>\n",
       "    <tr>\n",
       "        <td>16</td>\n",
       "        <td>8</td>\n",
       "        <td>2</td>\n",
       "        <td>100</td>\n",
       "    </tr>\n",
       "    <tr>\n",
       "        <td>17</td>\n",
       "        <td>9</td>\n",
       "        <td>1</td>\n",
       "        <td>100</td>\n",
       "    </tr>\n",
       "    <tr>\n",
       "        <td>18</td>\n",
       "        <td>9</td>\n",
       "        <td>2</td>\n",
       "        <td>100</td>\n",
       "    </tr>\n",
       "    <tr>\n",
       "        <td>19</td>\n",
       "        <td>10</td>\n",
       "        <td>1</td>\n",
       "        <td>100</td>\n",
       "    </tr>\n",
       "    <tr>\n",
       "        <td>20</td>\n",
       "        <td>10</td>\n",
       "        <td>2</td>\n",
       "        <td>100</td>\n",
       "    </tr>\n",
       "    <tr>\n",
       "        <td>21</td>\n",
       "        <td>11</td>\n",
       "        <td>1</td>\n",
       "        <td>100</td>\n",
       "    </tr>\n",
       "    <tr>\n",
       "        <td>22</td>\n",
       "        <td>11</td>\n",
       "        <td>2</td>\n",
       "        <td>100</td>\n",
       "    </tr>\n",
       "    <tr>\n",
       "        <td>23</td>\n",
       "        <td>12</td>\n",
       "        <td>1</td>\n",
       "        <td>100</td>\n",
       "    </tr>\n",
       "    <tr>\n",
       "        <td>24</td>\n",
       "        <td>12</td>\n",
       "        <td>2</td>\n",
       "        <td>100</td>\n",
       "    </tr>\n",
       "    <tr>\n",
       "        <td>25</td>\n",
       "        <td>13</td>\n",
       "        <td>1</td>\n",
       "        <td>100</td>\n",
       "    </tr>\n",
       "    <tr>\n",
       "        <td>26</td>\n",
       "        <td>13</td>\n",
       "        <td>2</td>\n",
       "        <td>100</td>\n",
       "    </tr>\n",
       "    <tr>\n",
       "        <td>27</td>\n",
       "        <td>14</td>\n",
       "        <td>1</td>\n",
       "        <td>100</td>\n",
       "    </tr>\n",
       "    <tr>\n",
       "        <td>28</td>\n",
       "        <td>14</td>\n",
       "        <td>2</td>\n",
       "        <td>100</td>\n",
       "    </tr>\n",
       "    <tr>\n",
       "        <td>29</td>\n",
       "        <td>15</td>\n",
       "        <td>1</td>\n",
       "        <td>100</td>\n",
       "    </tr>\n",
       "    <tr>\n",
       "        <td>30</td>\n",
       "        <td>15</td>\n",
       "        <td>2</td>\n",
       "        <td>100</td>\n",
       "    </tr>\n",
       "    <tr>\n",
       "        <td>31</td>\n",
       "        <td>16</td>\n",
       "        <td>1</td>\n",
       "        <td>100</td>\n",
       "    </tr>\n",
       "    <tr>\n",
       "        <td>32</td>\n",
       "        <td>16</td>\n",
       "        <td>2</td>\n",
       "        <td>100</td>\n",
       "    </tr>\n",
       "    <tr>\n",
       "        <td>33</td>\n",
       "        <td>17</td>\n",
       "        <td>1</td>\n",
       "        <td>100</td>\n",
       "    </tr>\n",
       "    <tr>\n",
       "        <td>34</td>\n",
       "        <td>17</td>\n",
       "        <td>2</td>\n",
       "        <td>100</td>\n",
       "    </tr>\n",
       "    <tr>\n",
       "        <td>35</td>\n",
       "        <td>18</td>\n",
       "        <td>1</td>\n",
       "        <td>100</td>\n",
       "    </tr>\n",
       "    <tr>\n",
       "        <td>36</td>\n",
       "        <td>18</td>\n",
       "        <td>2</td>\n",
       "        <td>100</td>\n",
       "    </tr>\n",
       "    <tr>\n",
       "        <td>37</td>\n",
       "        <td>19</td>\n",
       "        <td>1</td>\n",
       "        <td>100</td>\n",
       "    </tr>\n",
       "    <tr>\n",
       "        <td>38</td>\n",
       "        <td>19</td>\n",
       "        <td>2</td>\n",
       "        <td>100</td>\n",
       "    </tr>\n",
       "    <tr>\n",
       "        <td>39</td>\n",
       "        <td>20</td>\n",
       "        <td>1</td>\n",
       "        <td>100</td>\n",
       "    </tr>\n",
       "    <tr>\n",
       "        <td>40</td>\n",
       "        <td>20</td>\n",
       "        <td>2</td>\n",
       "        <td>100</td>\n",
       "    </tr>\n",
       "</table>"
      ],
      "text/plain": [
       "[(1, 1, 1, 100),\n",
       " (2, 1, 2, 100),\n",
       " (3, 2, 1, 100),\n",
       " (4, 2, 2, 100),\n",
       " (41, 2, 3, 100),\n",
       " (5, 3, 1, 100),\n",
       " (6, 3, 2, 100),\n",
       " (7, 4, 1, 100),\n",
       " (8, 4, 2, 100),\n",
       " (9, 5, 1, 100),\n",
       " (10, 5, 2, 100),\n",
       " (11, 6, 1, 100),\n",
       " (12, 6, 2, 100),\n",
       " (13, 7, 1, 100),\n",
       " (14, 7, 2, 100),\n",
       " (15, 8, 1, 100),\n",
       " (16, 8, 2, 100),\n",
       " (17, 9, 1, 100),\n",
       " (18, 9, 2, 100),\n",
       " (19, 10, 1, 100),\n",
       " (20, 10, 2, 100),\n",
       " (21, 11, 1, 100),\n",
       " (22, 11, 2, 100),\n",
       " (23, 12, 1, 100),\n",
       " (24, 12, 2, 100),\n",
       " (25, 13, 1, 100),\n",
       " (26, 13, 2, 100),\n",
       " (27, 14, 1, 100),\n",
       " (28, 14, 2, 100),\n",
       " (29, 15, 1, 100),\n",
       " (30, 15, 2, 100),\n",
       " (31, 16, 1, 100),\n",
       " (32, 16, 2, 100),\n",
       " (33, 17, 1, 100),\n",
       " (34, 17, 2, 100),\n",
       " (35, 18, 1, 100),\n",
       " (36, 18, 2, 100),\n",
       " (37, 19, 1, 100),\n",
       " (38, 19, 2, 100),\n",
       " (39, 20, 1, 100),\n",
       " (40, 20, 2, 100)]"
      ]
     },
     "execution_count": 29,
     "metadata": {},
     "output_type": "execute_result"
    }
   ],
   "source": [
    "%%sql\n",
    "SELECT * FROM ASSIGNMENT ORDER BY DistributionID;"
   ]
  },
  {
   "cell_type": "code",
   "execution_count": 30,
   "metadata": {
    "collapsed": false
   },
   "outputs": [
    {
     "name": "stdout",
     "output_type": "stream",
     "text": [
      "Done.\n",
      "1 rows affected.\n",
      "1 rows affected.\n",
      "1 rows affected.\n"
     ]
    },
    {
     "data": {
      "text/plain": [
       "[]"
      ]
     },
     "execution_count": 30,
     "metadata": {},
     "output_type": "execute_result"
    }
   ],
   "source": [
    "%%sql \n",
    "/*8. Change the percentages of the categories for a course;\n",
    "\n",
    "Changing the percentages for all the categories of Calculus-2 class*/\n",
    "\n",
    "UPDATE DISTRIBUTION\n",
    "SET PERCENTAGE = 80\n",
    "WHERE CourseID = 85675\n",
    "AND CategoryName = 'Quiz'\n",
    "AND DistributionID = 1; \n",
    "\n",
    "UPDATE DISTRIBUTION\n",
    "SET PERCENTAGE = 5\n",
    "WHERE CourseID = 85675\n",
    "AND CategoryName = 'HW'\n",
    "AND DistributionID = 2;\n",
    "\n",
    "UPDATE DISTRIBUTION\n",
    "SET PERCENTAGE = 5\n",
    "WHERE CourseID = 85675\n",
    "AND CategoryName = 'MidTerm'\n",
    "AND DistributionID = 3;\n",
    "\n",
    "UPDATE DISTRIBUTION\n",
    "SET PERCENTAGE = 10\n",
    "WHERE CourseID = 85675\n",
    "AND CategoryName = 'Final'\n",
    "AND DistributionID = 4;"
   ]
  },
  {
   "cell_type": "code",
   "execution_count": 31,
   "metadata": {
    "collapsed": false
   },
   "outputs": [
    {
     "name": "stdout",
     "output_type": "stream",
     "text": [
      "Done.\n"
     ]
    },
    {
     "data": {
      "text/html": [
       "<table>\n",
       "    <tr>\n",
       "        <th>DistributionID</th>\n",
       "        <th>CourseID</th>\n",
       "        <th>CategoryName</th>\n",
       "        <th>PERCENTAGE</th>\n",
       "    </tr>\n",
       "    <tr>\n",
       "        <td>1</td>\n",
       "        <td>85675</td>\n",
       "        <td>Quiz</td>\n",
       "        <td>80</td>\n",
       "    </tr>\n",
       "    <tr>\n",
       "        <td>2</td>\n",
       "        <td>85675</td>\n",
       "        <td>HW</td>\n",
       "        <td>5</td>\n",
       "    </tr>\n",
       "    <tr>\n",
       "        <td>3</td>\n",
       "        <td>85675</td>\n",
       "        <td>MidTerm</td>\n",
       "        <td>5</td>\n",
       "    </tr>\n",
       "    <tr>\n",
       "        <td>4</td>\n",
       "        <td>85675</td>\n",
       "        <td>Final</td>\n",
       "        <td>10</td>\n",
       "    </tr>\n",
       "    <tr>\n",
       "        <td>5</td>\n",
       "        <td>89994</td>\n",
       "        <td>Participation</td>\n",
       "        <td>40</td>\n",
       "    </tr>\n",
       "    <tr>\n",
       "        <td>6</td>\n",
       "        <td>89994</td>\n",
       "        <td>HW</td>\n",
       "        <td>10</td>\n",
       "    </tr>\n",
       "    <tr>\n",
       "        <td>7</td>\n",
       "        <td>89994</td>\n",
       "        <td>MidTerm</td>\n",
       "        <td>25</td>\n",
       "    </tr>\n",
       "    <tr>\n",
       "        <td>8</td>\n",
       "        <td>89994</td>\n",
       "        <td>Final</td>\n",
       "        <td>25</td>\n",
       "    </tr>\n",
       "    <tr>\n",
       "        <td>9</td>\n",
       "        <td>56738</td>\n",
       "        <td>Quiz</td>\n",
       "        <td>40</td>\n",
       "    </tr>\n",
       "    <tr>\n",
       "        <td>10</td>\n",
       "        <td>56738</td>\n",
       "        <td>HW</td>\n",
       "        <td>15</td>\n",
       "    </tr>\n",
       "    <tr>\n",
       "        <td>11</td>\n",
       "        <td>56738</td>\n",
       "        <td>MidTerm</td>\n",
       "        <td>20</td>\n",
       "    </tr>\n",
       "    <tr>\n",
       "        <td>12</td>\n",
       "        <td>56738</td>\n",
       "        <td>Final</td>\n",
       "        <td>25</td>\n",
       "    </tr>\n",
       "    <tr>\n",
       "        <td>13</td>\n",
       "        <td>90573</td>\n",
       "        <td>Quiz</td>\n",
       "        <td>20</td>\n",
       "    </tr>\n",
       "    <tr>\n",
       "        <td>14</td>\n",
       "        <td>90573</td>\n",
       "        <td>HW</td>\n",
       "        <td>25</td>\n",
       "    </tr>\n",
       "    <tr>\n",
       "        <td>15</td>\n",
       "        <td>90573</td>\n",
       "        <td>Project</td>\n",
       "        <td>30</td>\n",
       "    </tr>\n",
       "    <tr>\n",
       "        <td>16</td>\n",
       "        <td>90573</td>\n",
       "        <td>Final</td>\n",
       "        <td>25</td>\n",
       "    </tr>\n",
       "    <tr>\n",
       "        <td>17</td>\n",
       "        <td>48387</td>\n",
       "        <td>Quiz</td>\n",
       "        <td>30</td>\n",
       "    </tr>\n",
       "    <tr>\n",
       "        <td>18</td>\n",
       "        <td>48387</td>\n",
       "        <td>HW</td>\n",
       "        <td>25</td>\n",
       "    </tr>\n",
       "    <tr>\n",
       "        <td>19</td>\n",
       "        <td>48387</td>\n",
       "        <td>Project</td>\n",
       "        <td>20</td>\n",
       "    </tr>\n",
       "    <tr>\n",
       "        <td>20</td>\n",
       "        <td>48387</td>\n",
       "        <td>Final</td>\n",
       "        <td>25</td>\n",
       "    </tr>\n",
       "</table>"
      ],
      "text/plain": [
       "[(1, 85675, u'Quiz', 80),\n",
       " (2, 85675, u'HW', 5),\n",
       " (3, 85675, u'MidTerm', 5),\n",
       " (4, 85675, u'Final', 10),\n",
       " (5, 89994, u'Participation', 40),\n",
       " (6, 89994, u'HW', 10),\n",
       " (7, 89994, u'MidTerm', 25),\n",
       " (8, 89994, u'Final', 25),\n",
       " (9, 56738, u'Quiz', 40),\n",
       " (10, 56738, u'HW', 15),\n",
       " (11, 56738, u'MidTerm', 20),\n",
       " (12, 56738, u'Final', 25),\n",
       " (13, 90573, u'Quiz', 20),\n",
       " (14, 90573, u'HW', 25),\n",
       " (15, 90573, u'Project', 30),\n",
       " (16, 90573, u'Final', 25),\n",
       " (17, 48387, u'Quiz', 30),\n",
       " (18, 48387, u'HW', 25),\n",
       " (19, 48387, u'Project', 20),\n",
       " (20, 48387, u'Final', 25)]"
      ]
     },
     "execution_count": 31,
     "metadata": {},
     "output_type": "execute_result"
    }
   ],
   "source": [
    "%%sql\n",
    "SELECT * FROM DISTRIBUTION;"
   ]
  },
  {
   "cell_type": "code",
   "execution_count": 32,
   "metadata": {
    "collapsed": false
   },
   "outputs": [
    {
     "name": "stdout",
     "output_type": "stream",
     "text": [
      "Done.\n"
     ]
    },
    {
     "data": {
      "text/plain": [
       "[]"
      ]
     },
     "execution_count": 32,
     "metadata": {},
     "output_type": "execute_result"
    }
   ],
   "source": [
    "%%sql \n",
    "/*9. Add 2 points to the score of each student on an assignment;\n",
    "\n",
    "Adding 2 points to the score of all the students on Quiz-2 \n",
    "in Calculus 2 class*/\n",
    "\n",
    "UPDATE SCORE\n",
    "SET Points = Points + 2\n",
    "WHERE AssignmentID = 2;"
   ]
  },
  {
   "cell_type": "code",
   "execution_count": 33,
   "metadata": {
    "collapsed": false
   },
   "outputs": [
    {
     "name": "stdout",
     "output_type": "stream",
     "text": [
      "Done.\n"
     ]
    },
    {
     "data": {
      "text/html": [
       "<table>\n",
       "    <tr>\n",
       "        <th>StudentID</th>\n",
       "        <th>AssignmentID</th>\n",
       "        <th>Points</th>\n",
       "    </tr>\n",
       "    <tr>\n",
       "        <td>1234</td>\n",
       "        <td>2</td>\n",
       "        <td>83</td>\n",
       "    </tr>\n",
       "    <tr>\n",
       "        <td>5678</td>\n",
       "        <td>2</td>\n",
       "        <td>86</td>\n",
       "    </tr>\n",
       "    <tr>\n",
       "        <td>3456</td>\n",
       "        <td>2</td>\n",
       "        <td>97</td>\n",
       "    </tr>\n",
       "    <tr>\n",
       "        <td>4590</td>\n",
       "        <td>2</td>\n",
       "        <td>64</td>\n",
       "    </tr>\n",
       "    <tr>\n",
       "        <td>5337</td>\n",
       "        <td>2</td>\n",
       "        <td>92</td>\n",
       "    </tr>\n",
       "    <tr>\n",
       "        <td>5555</td>\n",
       "        <td>2</td>\n",
       "        <td>95</td>\n",
       "    </tr>\n",
       "</table>"
      ],
      "text/plain": [
       "[(1234, 2, 83),\n",
       " (5678, 2, 86),\n",
       " (3456, 2, 97),\n",
       " (4590, 2, 64),\n",
       " (5337, 2, 92),\n",
       " (5555, 2, 95)]"
      ]
     },
     "execution_count": 33,
     "metadata": {},
     "output_type": "execute_result"
    }
   ],
   "source": [
    "%%sql\n",
    "/* Checking to see the updates from task 9*/\n",
    "\n",
    "SELECT * \n",
    "FROM SCORE \n",
    "WHERE AssignmentID = 2;"
   ]
  },
  {
   "cell_type": "code",
   "execution_count": 34,
   "metadata": {
    "collapsed": false
   },
   "outputs": [
    {
     "name": "stdout",
     "output_type": "stream",
     "text": [
      "Done.\n"
     ]
    },
    {
     "data": {
      "text/html": [
       "<table>\n",
       "    <tr>\n",
       "        <th>StudentID</th>\n",
       "        <th>AssignmentID</th>\n",
       "        <th>Points</th>\n",
       "    </tr>\n",
       "    <tr>\n",
       "        <td>1234</td>\n",
       "        <td>1</td>\n",
       "        <td>85</td>\n",
       "    </tr>\n",
       "    <tr>\n",
       "        <td>5678</td>\n",
       "        <td>1</td>\n",
       "        <td>80</td>\n",
       "    </tr>\n",
       "    <tr>\n",
       "        <td>3456</td>\n",
       "        <td>1</td>\n",
       "        <td>95</td>\n",
       "    </tr>\n",
       "    <tr>\n",
       "        <td>4590</td>\n",
       "        <td>1</td>\n",
       "        <td>65</td>\n",
       "    </tr>\n",
       "    <tr>\n",
       "        <td>5337</td>\n",
       "        <td>1</td>\n",
       "        <td>100</td>\n",
       "    </tr>\n",
       "    <tr>\n",
       "        <td>5555</td>\n",
       "        <td>1</td>\n",
       "        <td>93</td>\n",
       "    </tr>\n",
       "    <tr>\n",
       "        <td>1234</td>\n",
       "        <td>2</td>\n",
       "        <td>83</td>\n",
       "    </tr>\n",
       "    <tr>\n",
       "        <td>5678</td>\n",
       "        <td>2</td>\n",
       "        <td>86</td>\n",
       "    </tr>\n",
       "    <tr>\n",
       "        <td>3456</td>\n",
       "        <td>2</td>\n",
       "        <td>97</td>\n",
       "    </tr>\n",
       "    <tr>\n",
       "        <td>4590</td>\n",
       "        <td>2</td>\n",
       "        <td>64</td>\n",
       "    </tr>\n",
       "    <tr>\n",
       "        <td>5337</td>\n",
       "        <td>2</td>\n",
       "        <td>92</td>\n",
       "    </tr>\n",
       "    <tr>\n",
       "        <td>5555</td>\n",
       "        <td>2</td>\n",
       "        <td>95</td>\n",
       "    </tr>\n",
       "    <tr>\n",
       "        <td>1234</td>\n",
       "        <td>18</td>\n",
       "        <td>87</td>\n",
       "    </tr>\n",
       "    <tr>\n",
       "        <td>5678</td>\n",
       "        <td>18</td>\n",
       "        <td>94</td>\n",
       "    </tr>\n",
       "    <tr>\n",
       "        <td>3456</td>\n",
       "        <td>18</td>\n",
       "        <td>55</td>\n",
       "    </tr>\n",
       "    <tr>\n",
       "        <td>4590</td>\n",
       "        <td>18</td>\n",
       "        <td>72</td>\n",
       "    </tr>\n",
       "    <tr>\n",
       "        <td>5337</td>\n",
       "        <td>18</td>\n",
       "        <td>0</td>\n",
       "    </tr>\n",
       "    <tr>\n",
       "        <td>5555</td>\n",
       "        <td>18</td>\n",
       "        <td>99</td>\n",
       "    </tr>\n",
       "    <tr>\n",
       "        <td>1234</td>\n",
       "        <td>16</td>\n",
       "        <td>80</td>\n",
       "    </tr>\n",
       "    <tr>\n",
       "        <td>1234</td>\n",
       "        <td>30</td>\n",
       "        <td>85</td>\n",
       "    </tr>\n",
       "    <tr>\n",
       "        <td>1234</td>\n",
       "        <td>40</td>\n",
       "        <td>95</td>\n",
       "    </tr>\n",
       "    <tr>\n",
       "        <td>5337</td>\n",
       "        <td>26</td>\n",
       "        <td>78</td>\n",
       "    </tr>\n",
       "    <tr>\n",
       "        <td>1234</td>\n",
       "        <td>8</td>\n",
       "        <td>84</td>\n",
       "    </tr>\n",
       "</table>"
      ],
      "text/plain": [
       "[(1234, 1, 85),\n",
       " (5678, 1, 80),\n",
       " (3456, 1, 95),\n",
       " (4590, 1, 65),\n",
       " (5337, 1, 100),\n",
       " (5555, 1, 93),\n",
       " (1234, 2, 83),\n",
       " (5678, 2, 86),\n",
       " (3456, 2, 97),\n",
       " (4590, 2, 64),\n",
       " (5337, 2, 92),\n",
       " (5555, 2, 95),\n",
       " (1234, 18, 87),\n",
       " (5678, 18, 94),\n",
       " (3456, 18, 55),\n",
       " (4590, 18, 72),\n",
       " (5337, 18, 0),\n",
       " (5555, 18, 99),\n",
       " (1234, 16, 80),\n",
       " (1234, 30, 85),\n",
       " (1234, 40, 95),\n",
       " (5337, 26, 78),\n",
       " (1234, 8, 84)]"
      ]
     },
     "execution_count": 34,
     "metadata": {},
     "output_type": "execute_result"
    }
   ],
   "source": [
    "%%sql\n",
    "/* Checking to see the updates from task 9 \n",
    "and make sure updates happened only on Quiz-2 or AssignmentID 2*/\n",
    "\n",
    "SELECT * \n",
    "FROM SCORE;"
   ]
  },
  {
   "cell_type": "code",
   "execution_count": 35,
   "metadata": {
    "collapsed": false
   },
   "outputs": [
    {
     "name": "stdout",
     "output_type": "stream",
     "text": [
      "Done.\n"
     ]
    },
    {
     "data": {
      "text/plain": [
       "[]"
      ]
     },
     "execution_count": 35,
     "metadata": {},
     "output_type": "execute_result"
    }
   ],
   "source": [
    "%%sql\n",
    "/*10. Add 2 points just to those students whose \n",
    "last name contains a ‘Q’.\n",
    "\n",
    "Adding 2 points to the score of the students whose \n",
    "last name contains a 'Q' on Quiz-2 in Calculus 2 class*/\n",
    "\n",
    "UPDATE SCORE\n",
    "SET Points = Points + 2\n",
    "WHERE StudentID IN (SELECT StudentID \n",
    "                    FROM STUDENT \n",
    "                    WHERE LastName LIKE '%Q%')\n",
    "AND AssignmentID = 2;"
   ]
  },
  {
   "cell_type": "code",
   "execution_count": 36,
   "metadata": {
    "collapsed": false
   },
   "outputs": [
    {
     "name": "stdout",
     "output_type": "stream",
     "text": [
      "Done.\n"
     ]
    },
    {
     "data": {
      "text/html": [
       "<table>\n",
       "    <tr>\n",
       "        <th>StudentID</th>\n",
       "        <th>AssignmentID</th>\n",
       "        <th>Points</th>\n",
       "    </tr>\n",
       "    <tr>\n",
       "        <td>1234</td>\n",
       "        <td>2</td>\n",
       "        <td>83</td>\n",
       "    </tr>\n",
       "    <tr>\n",
       "        <td>5678</td>\n",
       "        <td>2</td>\n",
       "        <td>86</td>\n",
       "    </tr>\n",
       "    <tr>\n",
       "        <td>3456</td>\n",
       "        <td>2</td>\n",
       "        <td>97</td>\n",
       "    </tr>\n",
       "    <tr>\n",
       "        <td>4590</td>\n",
       "        <td>2</td>\n",
       "        <td>66</td>\n",
       "    </tr>\n",
       "    <tr>\n",
       "        <td>5337</td>\n",
       "        <td>2</td>\n",
       "        <td>92</td>\n",
       "    </tr>\n",
       "    <tr>\n",
       "        <td>5555</td>\n",
       "        <td>2</td>\n",
       "        <td>95</td>\n",
       "    </tr>\n",
       "</table>"
      ],
      "text/plain": [
       "[(1234, 2, 83),\n",
       " (5678, 2, 86),\n",
       " (3456, 2, 97),\n",
       " (4590, 2, 66),\n",
       " (5337, 2, 92),\n",
       " (5555, 2, 95)]"
      ]
     },
     "execution_count": 36,
     "metadata": {},
     "output_type": "execute_result"
    }
   ],
   "source": [
    "%%sql\n",
    "/* Checking to see the updates from task 10*/\n",
    "\n",
    "SELECT * \n",
    "FROM SCORE \n",
    "WHERE AssignmentID = 2;"
   ]
  },
  {
   "cell_type": "code",
   "execution_count": 37,
   "metadata": {
    "collapsed": false
   },
   "outputs": [
    {
     "name": "stdout",
     "output_type": "stream",
     "text": [
      "Done.\n"
     ]
    },
    {
     "data": {
      "text/html": [
       "<table>\n",
       "    <tr>\n",
       "        <th>StudentID</th>\n",
       "        <th>AssignmentID</th>\n",
       "        <th>Points</th>\n",
       "    </tr>\n",
       "    <tr>\n",
       "        <td>1234</td>\n",
       "        <td>1</td>\n",
       "        <td>85</td>\n",
       "    </tr>\n",
       "    <tr>\n",
       "        <td>5678</td>\n",
       "        <td>1</td>\n",
       "        <td>80</td>\n",
       "    </tr>\n",
       "    <tr>\n",
       "        <td>3456</td>\n",
       "        <td>1</td>\n",
       "        <td>95</td>\n",
       "    </tr>\n",
       "    <tr>\n",
       "        <td>4590</td>\n",
       "        <td>1</td>\n",
       "        <td>65</td>\n",
       "    </tr>\n",
       "    <tr>\n",
       "        <td>5337</td>\n",
       "        <td>1</td>\n",
       "        <td>100</td>\n",
       "    </tr>\n",
       "    <tr>\n",
       "        <td>5555</td>\n",
       "        <td>1</td>\n",
       "        <td>93</td>\n",
       "    </tr>\n",
       "    <tr>\n",
       "        <td>1234</td>\n",
       "        <td>2</td>\n",
       "        <td>83</td>\n",
       "    </tr>\n",
       "    <tr>\n",
       "        <td>5678</td>\n",
       "        <td>2</td>\n",
       "        <td>86</td>\n",
       "    </tr>\n",
       "    <tr>\n",
       "        <td>3456</td>\n",
       "        <td>2</td>\n",
       "        <td>97</td>\n",
       "    </tr>\n",
       "    <tr>\n",
       "        <td>4590</td>\n",
       "        <td>2</td>\n",
       "        <td>66</td>\n",
       "    </tr>\n",
       "    <tr>\n",
       "        <td>5337</td>\n",
       "        <td>2</td>\n",
       "        <td>92</td>\n",
       "    </tr>\n",
       "    <tr>\n",
       "        <td>5555</td>\n",
       "        <td>2</td>\n",
       "        <td>95</td>\n",
       "    </tr>\n",
       "    <tr>\n",
       "        <td>1234</td>\n",
       "        <td>18</td>\n",
       "        <td>87</td>\n",
       "    </tr>\n",
       "    <tr>\n",
       "        <td>5678</td>\n",
       "        <td>18</td>\n",
       "        <td>94</td>\n",
       "    </tr>\n",
       "    <tr>\n",
       "        <td>3456</td>\n",
       "        <td>18</td>\n",
       "        <td>55</td>\n",
       "    </tr>\n",
       "    <tr>\n",
       "        <td>4590</td>\n",
       "        <td>18</td>\n",
       "        <td>72</td>\n",
       "    </tr>\n",
       "    <tr>\n",
       "        <td>5337</td>\n",
       "        <td>18</td>\n",
       "        <td>0</td>\n",
       "    </tr>\n",
       "    <tr>\n",
       "        <td>5555</td>\n",
       "        <td>18</td>\n",
       "        <td>99</td>\n",
       "    </tr>\n",
       "    <tr>\n",
       "        <td>1234</td>\n",
       "        <td>16</td>\n",
       "        <td>80</td>\n",
       "    </tr>\n",
       "    <tr>\n",
       "        <td>1234</td>\n",
       "        <td>30</td>\n",
       "        <td>85</td>\n",
       "    </tr>\n",
       "    <tr>\n",
       "        <td>1234</td>\n",
       "        <td>40</td>\n",
       "        <td>95</td>\n",
       "    </tr>\n",
       "    <tr>\n",
       "        <td>5337</td>\n",
       "        <td>26</td>\n",
       "        <td>78</td>\n",
       "    </tr>\n",
       "    <tr>\n",
       "        <td>1234</td>\n",
       "        <td>8</td>\n",
       "        <td>84</td>\n",
       "    </tr>\n",
       "</table>"
      ],
      "text/plain": [
       "[(1234, 1, 85),\n",
       " (5678, 1, 80),\n",
       " (3456, 1, 95),\n",
       " (4590, 1, 65),\n",
       " (5337, 1, 100),\n",
       " (5555, 1, 93),\n",
       " (1234, 2, 83),\n",
       " (5678, 2, 86),\n",
       " (3456, 2, 97),\n",
       " (4590, 2, 66),\n",
       " (5337, 2, 92),\n",
       " (5555, 2, 95),\n",
       " (1234, 18, 87),\n",
       " (5678, 18, 94),\n",
       " (3456, 18, 55),\n",
       " (4590, 18, 72),\n",
       " (5337, 18, 0),\n",
       " (5555, 18, 99),\n",
       " (1234, 16, 80),\n",
       " (1234, 30, 85),\n",
       " (1234, 40, 95),\n",
       " (5337, 26, 78),\n",
       " (1234, 8, 84)]"
      ]
     },
     "execution_count": 37,
     "metadata": {},
     "output_type": "execute_result"
    }
   ],
   "source": [
    "%%sql\n",
    "/* Checking to see the updates from task 10 \n",
    "and make sure updates happened only on Quiz-2 or AssignmentID 2\n",
    "ans students whose last name contains 'Q'*/\n",
    "\n",
    "SELECT * \n",
    "FROM SCORE;"
   ]
  },
  {
   "cell_type": "code",
   "execution_count": 32,
   "metadata": {
    "collapsed": false
   },
   "outputs": [
    {
     "name": "stdout",
     "output_type": "stream",
     "text": [
      "Done.\n",
      "Done.\n"
     ]
    },
    {
     "data": {
      "text/plain": [
       "[]"
      ]
     },
     "execution_count": 32,
     "metadata": {},
     "output_type": "execute_result"
    }
   ],
   "source": [
    "%%sql\n",
    "/*11. Compute the grade for a student;\n",
    "\n",
    "Computing the grade for Richard Hendricks\n",
    "StudentID 1234 in Calculus 2 class \n",
    "CourseID 85765*/\n",
    "\n",
    "drop table if exists currgrades;\n",
    "\n",
    "CREATE TABLE currgrades AS\n",
    "SELECT pt.StudentID as StudentID, st.FirstName as FName, \n",
    "st.LastName as LName, pt.CourseID as CourseID,\n",
    "pt.AssignmentID as asn_id, pt.DistributionID as distrID,\n",
    "CategoryName as category, PERCENTAGE as Weight,\n",
    "PointsPossible as maxP,\n",
    "pt.Points as points , \n",
    "pt.Points / PointsPossible * PERCENTAGE AS grade\n",
    "FROM (SELECT STUDENT.StudentID, AssignmentID, FirstName, LastName, \n",
    "    CourseID, Points\n",
    "    FROM STUDENT JOIN ENROLLMENT JOIN SCORE\n",
    "    WHERE CourseID = 85675\n",
    "    AND STUDENT.StudentID = ENROLLMENT.StudentID\n",
    "    AND STUDENT.StudentID = SCORE.StudentID) st \n",
    "JOIN \n",
    "    (SELECT StudentID, CourseID, CategoryName, DISTRIBUTION.DistributionID, \n",
    "    PERCENTAGE, ASSIGNMENT.AssignmentID, ASSIGNMENT.PointsPossible, Points\n",
    "    FROM DISTRIBUTION JOIN ASSIGNMENT JOIN SCORE\n",
    "    WHERE DISTRIBUTION.CourseID = 85675 \n",
    "    AND DISTRIBUTION.DistributionID = ASSIGNMENT.DistributionID\n",
    "    AND ASSIGNMENT.AssignmentID = SCORE.AssignmentID) pt\n",
    "WHERE st.AssignmentID = pt.AssignmentID\n",
    "AND st.Points = pt.Points\n",
    "AND pt.StudentID = 1234\n",
    "ORDER BY DistributionID;\n"
   ]
  },
  {
   "cell_type": "code",
   "execution_count": 33,
   "metadata": {
    "collapsed": false
   },
   "outputs": [
    {
     "name": "stdout",
     "output_type": "stream",
     "text": [
      "3 rows affected.\n"
     ]
    },
    {
     "data": {
      "text/plain": [
       "[]"
      ]
     },
     "execution_count": 33,
     "metadata": {},
     "output_type": "execute_result"
    }
   ],
   "source": [
    "%%sql\n",
    "UPDATE currgrades\n",
    "SET grade = points * Weight / maxP;\n"
   ]
  },
  {
   "cell_type": "code",
   "execution_count": 34,
   "metadata": {
    "collapsed": false
   },
   "outputs": [
    {
     "name": "stdout",
     "output_type": "stream",
     "text": [
      "Done.\n"
     ]
    },
    {
     "data": {
      "text/html": [
       "<table>\n",
       "    <tr>\n",
       "        <th>StudentID</th>\n",
       "        <th>FName</th>\n",
       "        <th>LName</th>\n",
       "        <th>CourseID</th>\n",
       "        <th>asn_id</th>\n",
       "        <th>distrID</th>\n",
       "        <th>category</th>\n",
       "        <th>Weight</th>\n",
       "        <th>maxP</th>\n",
       "        <th>points</th>\n",
       "        <th>grade</th>\n",
       "    </tr>\n",
       "    <tr>\n",
       "        <td>1234</td>\n",
       "        <td>Richard</td>\n",
       "        <td>Hendricks</td>\n",
       "        <td>85675</td>\n",
       "        <td>1</td>\n",
       "        <td>1</td>\n",
       "        <td>Quiz</td>\n",
       "        <td>80</td>\n",
       "        <td>100</td>\n",
       "        <td>85</td>\n",
       "        <td>68</td>\n",
       "    </tr>\n",
       "    <tr>\n",
       "        <td>1234</td>\n",
       "        <td>Richard</td>\n",
       "        <td>Hendricks</td>\n",
       "        <td>85675</td>\n",
       "        <td>2</td>\n",
       "        <td>1</td>\n",
       "        <td>Quiz</td>\n",
       "        <td>80</td>\n",
       "        <td>100</td>\n",
       "        <td>83</td>\n",
       "        <td>66</td>\n",
       "    </tr>\n",
       "    <tr>\n",
       "        <td>1234</td>\n",
       "        <td>Richard</td>\n",
       "        <td>Hendricks</td>\n",
       "        <td>85675</td>\n",
       "        <td>8</td>\n",
       "        <td>4</td>\n",
       "        <td>Final</td>\n",
       "        <td>10</td>\n",
       "        <td>100</td>\n",
       "        <td>84</td>\n",
       "        <td>8</td>\n",
       "    </tr>\n",
       "</table>"
      ],
      "text/plain": [
       "[(1234, u'Richard', u'Hendricks', 85675, 1, 1, u'Quiz', 80, 100, 85, 68),\n",
       " (1234, u'Richard', u'Hendricks', 85675, 2, 1, u'Quiz', 80, 100, 83, 66),\n",
       " (1234, u'Richard', u'Hendricks', 85675, 8, 4, u'Final', 10, 100, 84, 8)]"
      ]
     },
     "execution_count": 34,
     "metadata": {},
     "output_type": "execute_result"
    }
   ],
   "source": [
    "%%sql\n",
    "select * from currgrades;"
   ]
  },
  {
   "cell_type": "code",
   "execution_count": 38,
   "metadata": {
    "collapsed": false
   },
   "outputs": [
    {
     "name": "stdout",
     "output_type": "stream",
     "text": [
      "Done.\n",
      "Done.\n"
     ]
    },
    {
     "data": {
      "text/plain": [
       "[]"
      ]
     },
     "execution_count": 38,
     "metadata": {},
     "output_type": "execute_result"
    }
   ],
   "source": [
    "%%sql \n",
    "drop table if exists finalgrades;\n",
    "\n",
    "CREATE table finalgrades AS\n",
    "SELECT *, sg.instancecount as instances, \n",
    "grade/instancecount as finalgrade\n",
    "FROM currgrades cg\n",
    "INNER JOIN (SELECT distrID, count(distrID) as instancecount\n",
    "           FROM currgrades\n",
    "           GROUP BY distrID) sg ON cg.distrID = sg.distrID;"
   ]
  },
  {
   "cell_type": "code",
   "execution_count": 39,
   "metadata": {
    "collapsed": false
   },
   "outputs": [
    {
     "name": "stdout",
     "output_type": "stream",
     "text": [
      "Done.\n"
     ]
    },
    {
     "data": {
      "text/html": [
       "<table>\n",
       "    <tr>\n",
       "        <th>StudentID</th>\n",
       "        <th>FName</th>\n",
       "        <th>LName</th>\n",
       "        <th>CourseID</th>\n",
       "        <th>asn_id</th>\n",
       "        <th>distrID</th>\n",
       "        <th>category</th>\n",
       "        <th>Weight</th>\n",
       "        <th>maxP</th>\n",
       "        <th>points</th>\n",
       "        <th>grade</th>\n",
       "        <th>distrID:1</th>\n",
       "        <th>instancecount</th>\n",
       "        <th>instances</th>\n",
       "        <th>finalgrade</th>\n",
       "    </tr>\n",
       "    <tr>\n",
       "        <td>1234</td>\n",
       "        <td>Richard</td>\n",
       "        <td>Hendricks</td>\n",
       "        <td>85675</td>\n",
       "        <td>1</td>\n",
       "        <td>1</td>\n",
       "        <td>Quiz</td>\n",
       "        <td>80</td>\n",
       "        <td>100</td>\n",
       "        <td>85</td>\n",
       "        <td>68</td>\n",
       "        <td>1</td>\n",
       "        <td>2</td>\n",
       "        <td>2</td>\n",
       "        <td>34</td>\n",
       "    </tr>\n",
       "    <tr>\n",
       "        <td>1234</td>\n",
       "        <td>Richard</td>\n",
       "        <td>Hendricks</td>\n",
       "        <td>85675</td>\n",
       "        <td>2</td>\n",
       "        <td>1</td>\n",
       "        <td>Quiz</td>\n",
       "        <td>80</td>\n",
       "        <td>100</td>\n",
       "        <td>83</td>\n",
       "        <td>66</td>\n",
       "        <td>1</td>\n",
       "        <td>2</td>\n",
       "        <td>2</td>\n",
       "        <td>33</td>\n",
       "    </tr>\n",
       "    <tr>\n",
       "        <td>1234</td>\n",
       "        <td>Richard</td>\n",
       "        <td>Hendricks</td>\n",
       "        <td>85675</td>\n",
       "        <td>8</td>\n",
       "        <td>4</td>\n",
       "        <td>Final</td>\n",
       "        <td>10</td>\n",
       "        <td>100</td>\n",
       "        <td>84</td>\n",
       "        <td>8</td>\n",
       "        <td>4</td>\n",
       "        <td>1</td>\n",
       "        <td>1</td>\n",
       "        <td>8</td>\n",
       "    </tr>\n",
       "</table>"
      ],
      "text/plain": [
       "[(1234, u'Richard', u'Hendricks', 85675, 1, 1, u'Quiz', 80, 100, 85, 68, 1, 2, 2, 34),\n",
       " (1234, u'Richard', u'Hendricks', 85675, 2, 1, u'Quiz', 80, 100, 83, 66, 1, 2, 2, 33),\n",
       " (1234, u'Richard', u'Hendricks', 85675, 8, 4, u'Final', 10, 100, 84, 8, 4, 1, 1, 8)]"
      ]
     },
     "execution_count": 39,
     "metadata": {},
     "output_type": "execute_result"
    }
   ],
   "source": [
    "%%sql\n",
    "select * from finalgrades;\n"
   ]
  },
  {
   "cell_type": "code",
   "execution_count": 46,
   "metadata": {
    "collapsed": false
   },
   "outputs": [
    {
     "name": "stdout",
     "output_type": "stream",
     "text": [
      "Done.\n"
     ]
    },
    {
     "data": {
      "text/html": [
       "<table>\n",
       "    <tr>\n",
       "        <th>FINALGRADE</th>\n",
       "    </tr>\n",
       "    <tr>\n",
       "        <td>75</td>\n",
       "    </tr>\n",
       "</table>"
      ],
      "text/plain": [
       "[(75,)]"
      ]
     },
     "execution_count": 46,
     "metadata": {},
     "output_type": "execute_result"
    }
   ],
   "source": [
    "%%sql\n",
    "SELECT SUM(finalgrade) as FINALGRADE from finalgrades;"
   ]
  },
  {
   "cell_type": "code",
   "execution_count": 40,
   "metadata": {
    "collapsed": false
   },
   "outputs": [
    {
     "name": "stdout",
     "output_type": "stream",
     "text": [
      "Done.\n",
      "Done.\n",
      "3 rows affected.\n",
      "1 rows affected.\n",
      "2 rows affected.\n"
     ]
    },
    {
     "data": {
      "text/plain": [
       "[]"
      ]
     },
     "execution_count": 40,
     "metadata": {},
     "output_type": "execute_result"
    }
   ],
   "source": [
    "%%sql\n",
    "\n",
    "/*12. Compute the grade for a student, where the \n",
    "lowest score for a given category is dropped.\n",
    "\n",
    "Computing the grade for Richard Hendricks\n",
    "StudentID 1234 in Calculus 2 class \n",
    "CourseID 85765\n",
    "Dropping the lowest Quiz is dropped*/\n",
    "\n",
    "drop table if exists currgrades;\n",
    "\n",
    " \n",
    "CREATE TABLE currgrades AS\n",
    "SELECT pt.StudentID as StudentID, st.FirstName as FName, \n",
    "st.LastName as LName, pt.CourseID as CourseID,\n",
    "pt.AssignmentID as asn_id, pt.DistributionID as distrID,\n",
    "CategoryName as category, PERCENTAGE as Weight,\n",
    "PointsPossible as maxP,\n",
    "pt.Points as points , \n",
    "pt.Points / PointsPossible * PERCENTAGE AS grade\n",
    "FROM (SELECT STUDENT.StudentID, AssignmentID, FirstName, LastName, \n",
    "    CourseID, Points\n",
    "    FROM STUDENT JOIN ENROLLMENT JOIN SCORE\n",
    "    WHERE CourseID = 85675\n",
    "    AND STUDENT.StudentID = ENROLLMENT.StudentID\n",
    "    AND STUDENT.StudentID = SCORE.StudentID) st \n",
    "JOIN \n",
    "    (SELECT StudentID, CourseID, CategoryName, DISTRIBUTION.DistributionID, \n",
    "    PERCENTAGE, ASSIGNMENT.AssignmentID, ASSIGNMENT.PointsPossible, Points\n",
    "    FROM DISTRIBUTION JOIN ASSIGNMENT JOIN SCORE\n",
    "    WHERE DISTRIBUTION.CourseID = 85675 \n",
    "    AND DISTRIBUTION.DistributionID = ASSIGNMENT.DistributionID\n",
    "    AND ASSIGNMENT.AssignmentID = SCORE.AssignmentID) pt\n",
    "WHERE st.AssignmentID = pt.AssignmentID\n",
    "AND st.Points = pt.Points\n",
    "AND pt.StudentID = 1234\n",
    "ORDER BY DistributionID;\n",
    "\n",
    "UPDATE currgrades\n",
    "SET grade = points * 100 / maxP;\n",
    "\n",
    "DELETE from currgrades\n",
    "WHERE category = 'Quiz'\n",
    "and grade IN (SELECT MIN(grade) as grade from currgrades);\n",
    "\n",
    "UPDATE currgrades\n",
    "SET grade = points * Weight / maxP;\n"
   ]
  },
  {
   "cell_type": "code",
   "execution_count": 41,
   "metadata": {
    "collapsed": false
   },
   "outputs": [
    {
     "name": "stdout",
     "output_type": "stream",
     "text": [
      "Done.\n"
     ]
    },
    {
     "data": {
      "text/html": [
       "<table>\n",
       "    <tr>\n",
       "        <th>StudentID</th>\n",
       "        <th>FName</th>\n",
       "        <th>LName</th>\n",
       "        <th>CourseID</th>\n",
       "        <th>asn_id</th>\n",
       "        <th>distrID</th>\n",
       "        <th>category</th>\n",
       "        <th>Weight</th>\n",
       "        <th>maxP</th>\n",
       "        <th>points</th>\n",
       "        <th>grade</th>\n",
       "    </tr>\n",
       "    <tr>\n",
       "        <td>1234</td>\n",
       "        <td>Richard</td>\n",
       "        <td>Hendricks</td>\n",
       "        <td>85675</td>\n",
       "        <td>1</td>\n",
       "        <td>1</td>\n",
       "        <td>Quiz</td>\n",
       "        <td>80</td>\n",
       "        <td>100</td>\n",
       "        <td>85</td>\n",
       "        <td>68</td>\n",
       "    </tr>\n",
       "    <tr>\n",
       "        <td>1234</td>\n",
       "        <td>Richard</td>\n",
       "        <td>Hendricks</td>\n",
       "        <td>85675</td>\n",
       "        <td>8</td>\n",
       "        <td>4</td>\n",
       "        <td>Final</td>\n",
       "        <td>10</td>\n",
       "        <td>100</td>\n",
       "        <td>84</td>\n",
       "        <td>8</td>\n",
       "    </tr>\n",
       "</table>"
      ],
      "text/plain": [
       "[(1234, u'Richard', u'Hendricks', 85675, 1, 1, u'Quiz', 80, 100, 85, 68),\n",
       " (1234, u'Richard', u'Hendricks', 85675, 8, 4, u'Final', 10, 100, 84, 8)]"
      ]
     },
     "execution_count": 41,
     "metadata": {},
     "output_type": "execute_result"
    }
   ],
   "source": [
    "%%sql\n",
    "select * from currgrades;"
   ]
  },
  {
   "cell_type": "code",
   "execution_count": 42,
   "metadata": {
    "collapsed": false
   },
   "outputs": [
    {
     "name": "stdout",
     "output_type": "stream",
     "text": [
      "Done.\n",
      "Done.\n"
     ]
    },
    {
     "data": {
      "text/plain": [
       "[]"
      ]
     },
     "execution_count": 42,
     "metadata": {},
     "output_type": "execute_result"
    }
   ],
   "source": [
    "%%sql \n",
    "drop table if exists finalgrades;\n",
    "\n",
    "CREATE table finalgrades AS\n",
    "SELECT *, sg.instancecount as instances, \n",
    "grade/instancecount as finalgrade\n",
    "FROM currgrades cg\n",
    "INNER JOIN (SELECT distrID, count(distrID) as instancecount\n",
    "           FROM currgrades\n",
    "           GROUP BY distrID) sg ON cg.distrID = sg.distrID;"
   ]
  },
  {
   "cell_type": "code",
   "execution_count": 43,
   "metadata": {
    "collapsed": false
   },
   "outputs": [
    {
     "name": "stdout",
     "output_type": "stream",
     "text": [
      "Done.\n"
     ]
    },
    {
     "data": {
      "text/html": [
       "<table>\n",
       "    <tr>\n",
       "        <th>StudentID</th>\n",
       "        <th>FName</th>\n",
       "        <th>LName</th>\n",
       "        <th>CourseID</th>\n",
       "        <th>asn_id</th>\n",
       "        <th>distrID</th>\n",
       "        <th>category</th>\n",
       "        <th>Weight</th>\n",
       "        <th>maxP</th>\n",
       "        <th>points</th>\n",
       "        <th>grade</th>\n",
       "        <th>distrID:1</th>\n",
       "        <th>instancecount</th>\n",
       "        <th>instances</th>\n",
       "        <th>finalgrade</th>\n",
       "    </tr>\n",
       "    <tr>\n",
       "        <td>1234</td>\n",
       "        <td>Richard</td>\n",
       "        <td>Hendricks</td>\n",
       "        <td>85675</td>\n",
       "        <td>1</td>\n",
       "        <td>1</td>\n",
       "        <td>Quiz</td>\n",
       "        <td>80</td>\n",
       "        <td>100</td>\n",
       "        <td>85</td>\n",
       "        <td>68</td>\n",
       "        <td>1</td>\n",
       "        <td>1</td>\n",
       "        <td>1</td>\n",
       "        <td>68</td>\n",
       "    </tr>\n",
       "    <tr>\n",
       "        <td>1234</td>\n",
       "        <td>Richard</td>\n",
       "        <td>Hendricks</td>\n",
       "        <td>85675</td>\n",
       "        <td>8</td>\n",
       "        <td>4</td>\n",
       "        <td>Final</td>\n",
       "        <td>10</td>\n",
       "        <td>100</td>\n",
       "        <td>84</td>\n",
       "        <td>8</td>\n",
       "        <td>4</td>\n",
       "        <td>1</td>\n",
       "        <td>1</td>\n",
       "        <td>8</td>\n",
       "    </tr>\n",
       "</table>"
      ],
      "text/plain": [
       "[(1234, u'Richard', u'Hendricks', 85675, 1, 1, u'Quiz', 80, 100, 85, 68, 1, 1, 1, 68),\n",
       " (1234, u'Richard', u'Hendricks', 85675, 8, 4, u'Final', 10, 100, 84, 8, 4, 1, 1, 8)]"
      ]
     },
     "execution_count": 43,
     "metadata": {},
     "output_type": "execute_result"
    }
   ],
   "source": [
    "%%sql\n",
    "select * from finalgrades;"
   ]
  },
  {
   "cell_type": "code",
   "execution_count": 44,
   "metadata": {
    "collapsed": false
   },
   "outputs": [
    {
     "name": "stdout",
     "output_type": "stream",
     "text": [
      "Done.\n"
     ]
    },
    {
     "data": {
      "text/html": [
       "<table>\n",
       "    <tr>\n",
       "        <th>FINALGRADE</th>\n",
       "    </tr>\n",
       "    <tr>\n",
       "        <td>76</td>\n",
       "    </tr>\n",
       "</table>"
      ],
      "text/plain": [
       "[(76,)]"
      ]
     },
     "execution_count": 44,
     "metadata": {},
     "output_type": "execute_result"
    }
   ],
   "source": [
    "%%sql\n",
    "\n",
    "SELECT SUM(finalgrade) as FINALGRADE from finalgrades;"
   ]
  }
 ],
 "metadata": {
  "kernelspec": {
   "display_name": "Python 2",
   "language": "python",
   "name": "python2"
  },
  "language_info": {
   "codemirror_mode": {
    "name": "ipython",
    "version": 2
   },
   "file_extension": ".py",
   "mimetype": "text/x-python",
   "name": "python",
   "nbconvert_exporter": "python",
   "pygments_lexer": "ipython2",
   "version": "2.7.13"
  }
 },
 "nbformat": 4,
 "nbformat_minor": 2
}
