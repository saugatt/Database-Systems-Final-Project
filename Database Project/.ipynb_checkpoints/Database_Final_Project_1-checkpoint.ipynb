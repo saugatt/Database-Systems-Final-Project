{
 "cells": [
  {
   "cell_type": "code",
   "execution_count": 2,
   "metadata": {
    "collapsed": false
   },
   "outputs": [],
   "source": [
    "%load_ext sql"
   ]
  },
  {
   "cell_type": "code",
   "execution_count": 3,
   "metadata": {
    "collapsed": false
   },
   "outputs": [
    {
     "data": {
      "text/plain": [
       "u'Connected: None@database_1.db'"
      ]
     },
     "execution_count": 3,
     "metadata": {},
     "output_type": "execute_result"
    }
   ],
   "source": [
    "%sql sqlite:///database_1.db"
   ]
  },
  {
   "cell_type": "code",
   "execution_count": 3,
   "metadata": {
    "collapsed": false
   },
   "outputs": [
    {
     "name": "stdout",
     "output_type": "stream",
     "text": [
      "Done.\n"
     ]
    },
    {
     "data": {
      "text/plain": [
       "[]"
      ]
     },
     "execution_count": 3,
     "metadata": {},
     "output_type": "execute_result"
    }
   ],
   "source": [
    "%%sql\n",
    "CREATE TABLE STUDENT (\n",
    "    FirstName VARCHAR(50) NOT NULL, \n",
    "    LastName VARCHAR(50) NOT NULL,\n",
    "    Major VARCHAR(30),\n",
    "    StudentID INT NOT NULL UNIQUE, \n",
    "    PRIMARY KEY (StudentID)\n",
    ");"
   ]
  },
  {
   "cell_type": "code",
   "execution_count": 8,
   "metadata": {
    "collapsed": false
   },
   "outputs": [
    {
     "name": "stdout",
     "output_type": "stream",
     "text": [
      "Done.\n"
     ]
    },
    {
     "data": {
      "text/plain": [
       "[]"
      ]
     },
     "execution_count": 8,
     "metadata": {},
     "output_type": "execute_result"
    }
   ],
   "source": [
    "%%sql\n",
    "CREATE TABLE COURSE (\n",
    "    Department VARCHAR(30) NOT NULL, \n",
    "    CourseNumber INT NOT NULL, \n",
    "    CourseName VARCHAR(50) NOT NULL, \n",
    "    Term VARCHAR(15) NOT NULL,\n",
    "    Year INT NOT NULL,\n",
    "    CourseID INT NOT NULL UNIQUE,\n",
    "    PRIMARY KEY (CourseID)\n",
    ");"
   ]
  },
  {
   "cell_type": "code",
   "execution_count": 7,
   "metadata": {
    "collapsed": false
   },
   "outputs": [
    {
     "name": "stdout",
     "output_type": "stream",
     "text": [
      "Done.\n"
     ]
    },
    {
     "data": {
      "text/plain": [
       "[]"
      ]
     },
     "execution_count": 7,
     "metadata": {},
     "output_type": "execute_result"
    }
   ],
   "source": [
    "%%sql\n",
    "CREATE TABLE ENROLLMENT (\n",
    "    StudentID INT NOT NULL,\n",
    "    CourseID INT NOT NULL,\n",
    "    PRIMARY KEY(StudentID, CourseID)\n",
    ");"
   ]
  },
  {
   "cell_type": "code",
   "execution_count": 8,
   "metadata": {
    "collapsed": false
   },
   "outputs": [
    {
     "name": "stdout",
     "output_type": "stream",
     "text": [
      "Done.\n"
     ]
    },
    {
     "data": {
      "text/plain": [
       "[]"
      ]
     },
     "execution_count": 8,
     "metadata": {},
     "output_type": "execute_result"
    }
   ],
   "source": [
    "%%sql\n",
    "CREATE TABLE DISTRIBUTION (\n",
    "    DistributionID INT NOT NULL UNIQUE,\n",
    "    CourseID INT NOT NULL,\n",
    "    CategoryName VARCHAR(30) NOT NULL,\n",
    "    PERCENTAGE INT NOT NULL,\n",
    "    PRIMARY KEY(DistributionID)\n",
    ");"
   ]
  },
  {
   "cell_type": "code",
   "execution_count": 10,
   "metadata": {
    "collapsed": false
   },
   "outputs": [
    {
     "name": "stdout",
     "output_type": "stream",
     "text": [
      "Done.\n"
     ]
    },
    {
     "data": {
      "text/plain": [
       "[]"
      ]
     },
     "execution_count": 10,
     "metadata": {},
     "output_type": "execute_result"
    }
   ],
   "source": [
    "%%sql\n",
    "CREATE TABLE ASSIGNMENT (\n",
    "    AssignmentID INT NOT NULL UNIQUE,\n",
    "    DistributionID INT NOT NULL,\n",
    "    Instance INT NOT NULL, \n",
    "    PointsPossible INT DEFAULT 0 NOT NULL,\n",
    "    PRIMARY KEY(AssignmentID)\n",
    ");"
   ]
  },
  {
   "cell_type": "code",
   "execution_count": 11,
   "metadata": {
    "collapsed": false
   },
   "outputs": [
    {
     "name": "stdout",
     "output_type": "stream",
     "text": [
      "Done.\n"
     ]
    },
    {
     "data": {
      "text/plain": [
       "[]"
      ]
     },
     "execution_count": 11,
     "metadata": {},
     "output_type": "execute_result"
    }
   ],
   "source": [
    "%%sql\n",
    "CREATE TABLE SCORE (\n",
    "    StudentID INT NOT NULL,\n",
    "    AssignmentID INT NOT NULL,\n",
    "    Points INT DEFAULT 0 NOT NULL,\n",
    "    PRIMARY KEY(StudentID, AssignmentID)\n",
    ");"
   ]
  },
  {
   "cell_type": "code",
   "execution_count": 12,
   "metadata": {
    "collapsed": false
   },
   "outputs": [
    {
     "name": "stdout",
     "output_type": "stream",
     "text": [
      "1 rows affected.\n",
      "1 rows affected.\n",
      "1 rows affected.\n",
      "1 rows affected.\n",
      "1 rows affected.\n",
      "1 rows affected.\n"
     ]
    },
    {
     "data": {
      "text/plain": [
       "[]"
      ]
     },
     "execution_count": 12,
     "metadata": {},
     "output_type": "execute_result"
    }
   ],
   "source": [
    "%%sql\n",
    "INSERT INTO STUDENT VALUES('Richard', 'Hendricks', 'Computer Science', 1234);\n",
    "INSERT INTO STUDENT VALUES('Jared', 'Dunn', 'Management Science', 5678);\n",
    "INSERT INTO STUDENT VALUES('Erlich', 'Bachman', 'Aviato', 3456);\n",
    "INSERT INTO STUDENT VALUES('Jimmy', 'Quoyang', 'Marine Biology', 4590);\n",
    "INSERT INTO STUDENT VALUES('Dinesh', 'Gilfoyle', 'Computer Engineering', 5337);\n",
    "INSERT INTO STUDENT VALUES('John', 'Doe', 'English', 5555);"
   ]
  },
  {
   "cell_type": "code",
   "execution_count": 61,
   "metadata": {
    "collapsed": false
   },
   "outputs": [
    {
     "name": "stdout",
     "output_type": "stream",
     "text": [
      "Done.\n"
     ]
    },
    {
     "data": {
      "text/html": [
       "<table>\n",
       "    <tr>\n",
       "        <th>FirstName</th>\n",
       "        <th>LastName</th>\n",
       "        <th>Major</th>\n",
       "        <th>StudentID</th>\n",
       "    </tr>\n",
       "    <tr>\n",
       "        <td>Richard</td>\n",
       "        <td>Hendricks</td>\n",
       "        <td>Computer Science</td>\n",
       "        <td>1234</td>\n",
       "    </tr>\n",
       "    <tr>\n",
       "        <td>Jared</td>\n",
       "        <td>Dunn</td>\n",
       "        <td>Management Science</td>\n",
       "        <td>5678</td>\n",
       "    </tr>\n",
       "    <tr>\n",
       "        <td>Erlich</td>\n",
       "        <td>Bachman</td>\n",
       "        <td>Aviato</td>\n",
       "        <td>3456</td>\n",
       "    </tr>\n",
       "    <tr>\n",
       "        <td>Jimmy</td>\n",
       "        <td>Quoyang</td>\n",
       "        <td>Marine Biology</td>\n",
       "        <td>4590</td>\n",
       "    </tr>\n",
       "    <tr>\n",
       "        <td>Dinesh</td>\n",
       "        <td>Gilfoyle</td>\n",
       "        <td>Computer Engineering</td>\n",
       "        <td>5337</td>\n",
       "    </tr>\n",
       "    <tr>\n",
       "        <td>John</td>\n",
       "        <td>Doe</td>\n",
       "        <td>English</td>\n",
       "        <td>5555</td>\n",
       "    </tr>\n",
       "</table>"
      ],
      "text/plain": [
       "[(u'Richard', u'Hendricks', u'Computer Science', 1234),\n",
       " (u'Jared', u'Dunn', u'Management Science', 5678),\n",
       " (u'Erlich', u'Bachman', u'Aviato', 3456),\n",
       " (u'Jimmy', u'Quoyang', u'Marine Biology', 4590),\n",
       " (u'Dinesh', u'Gilfoyle', u'Computer Engineering', 5337),\n",
       " (u'John', u'Doe', u'English', 5555)]"
      ]
     },
     "execution_count": 61,
     "metadata": {},
     "output_type": "execute_result"
    }
   ],
   "source": [
    "%%sql\n",
    "SELECT * FROM STUDENT;"
   ]
  },
  {
   "cell_type": "code",
   "execution_count": 3,
   "metadata": {
    "collapsed": false
   },
   "outputs": [
    {
     "name": "stdout",
     "output_type": "stream",
     "text": [
      "1 rows affected.\n",
      "1 rows affected.\n",
      "1 rows affected.\n",
      "1 rows affected.\n",
      "1 rows affected.\n"
     ]
    },
    {
     "data": {
      "text/plain": [
       "[]"
      ]
     },
     "execution_count": 3,
     "metadata": {},
     "output_type": "execute_result"
    }
   ],
   "source": [
    "%%sql \n",
    "INSERT INTO COURSE VALUES('Math', 157, 'Calculus-2', 'Fall', 2017, 85675);\n",
    "INSERT INTO COURSE VALUES('Computer Science', 350, 'Programming Languages', 'Spring', 2017, 89994);\n",
    "INSERT INTO COURSE VALUES('English', 109, 'Technical Writing', 'Fall', 2016, 56738);\n",
    "INSERT INTO COURSE VALUES('Computer Science', 533, 'Senior Project', 'Spring', 2017, 90573);\n",
    "INSERT INTO COURSE VALUES('Physics', 100, 'Mechanics', 'Fall', 2016, 48387);"
   ]
  },
  {
   "cell_type": "code",
   "execution_count": 64,
   "metadata": {
    "collapsed": false
   },
   "outputs": [
    {
     "name": "stdout",
     "output_type": "stream",
     "text": [
      "Done.\n"
     ]
    },
    {
     "data": {
      "text/html": [
       "<table>\n",
       "    <tr>\n",
       "        <th>Department</th>\n",
       "        <th>CourseNumber</th>\n",
       "        <th>CourseName</th>\n",
       "        <th>Term</th>\n",
       "        <th>Year</th>\n",
       "        <th>CourseID</th>\n",
       "    </tr>\n",
       "    <tr>\n",
       "        <td>Math</td>\n",
       "        <td>157</td>\n",
       "        <td>Calculus-2</td>\n",
       "        <td>Fall</td>\n",
       "        <td>2017</td>\n",
       "        <td>85675</td>\n",
       "    </tr>\n",
       "    <tr>\n",
       "        <td>Computer Science</td>\n",
       "        <td>350</td>\n",
       "        <td>Programming Languages</td>\n",
       "        <td>Spring</td>\n",
       "        <td>2017</td>\n",
       "        <td>89994</td>\n",
       "    </tr>\n",
       "    <tr>\n",
       "        <td>English</td>\n",
       "        <td>109</td>\n",
       "        <td>Technical Writing</td>\n",
       "        <td>Fall</td>\n",
       "        <td>2016</td>\n",
       "        <td>56738</td>\n",
       "    </tr>\n",
       "    <tr>\n",
       "        <td>Computer Science</td>\n",
       "        <td>533</td>\n",
       "        <td>Senior Project</td>\n",
       "        <td>Spring</td>\n",
       "        <td>2017</td>\n",
       "        <td>90573</td>\n",
       "    </tr>\n",
       "    <tr>\n",
       "        <td>Physics</td>\n",
       "        <td>100</td>\n",
       "        <td>Mechanics</td>\n",
       "        <td>Fall</td>\n",
       "        <td>2016</td>\n",
       "        <td>48387</td>\n",
       "    </tr>\n",
       "</table>"
      ],
      "text/plain": [
       "[(u'Math', 157, u'Calculus-2', u'Fall', 2017, 85675),\n",
       " (u'Computer Science', 350, u'Programming Languages', u'Spring', 2017, 89994),\n",
       " (u'English', 109, u'Technical Writing', u'Fall', 2016, 56738),\n",
       " (u'Computer Science', 533, u'Senior Project', u'Spring', 2017, 90573),\n",
       " (u'Physics', 100, u'Mechanics', u'Fall', 2016, 48387)]"
      ]
     },
     "execution_count": 64,
     "metadata": {},
     "output_type": "execute_result"
    }
   ],
   "source": [
    "%%sql\n",
    "SELECT * FROM COURSE;"
   ]
  },
  {
   "cell_type": "code",
   "execution_count": 6,
   "metadata": {
    "collapsed": false
   },
   "outputs": [
    {
     "name": "stdout",
     "output_type": "stream",
     "text": [
      "1 rows affected.\n",
      "1 rows affected.\n",
      "1 rows affected.\n",
      "1 rows affected.\n",
      "1 rows affected.\n",
      "1 rows affected.\n",
      "1 rows affected.\n",
      "1 rows affected.\n",
      "1 rows affected.\n",
      "1 rows affected.\n",
      "1 rows affected.\n",
      "1 rows affected.\n",
      "1 rows affected.\n",
      "1 rows affected.\n",
      "1 rows affected.\n",
      "1 rows affected.\n"
     ]
    },
    {
     "data": {
      "text/plain": [
       "[]"
      ]
     },
     "execution_count": 6,
     "metadata": {},
     "output_type": "execute_result"
    }
   ],
   "source": [
    "%%sql \n",
    "INSERT INTO ENROLLMENT VALUES(1234, 85675);\n",
    "INSERT INTO ENROLLMENT VALUES(5678, 85675);\n",
    "INSERT INTO ENROLLMENT VALUES(3456, 85675);\n",
    "INSERT INTO ENROLLMENT VALUES(4590, 85675);\n",
    "INSERT INTO ENROLLMENT VALUES(5337, 85675);\n",
    "INSERT INTO ENROLLMENT VALUES(5555, 85675);\n",
    "\n",
    "INSERT INTO ENROLLMENT VALUES(1234, 56738);\n",
    "INSERT INTO ENROLLMENT VALUES(5678, 56738);\n",
    "INSERT INTO ENROLLMENT VALUES(3456, 56738);\n",
    "INSERT INTO ENROLLMENT VALUES(4590, 56738);\n",
    "INSERT INTO ENROLLMENT VALUES(5337, 56738);\n",
    "INSERT INTO ENROLLMENT VALUES(5555, 56738);\n",
    "\n",
    "INSERT INTO ENROLLMENT VALUES(1234, 89994);\n",
    "INSERT INTO ENROLLMENT VALUES(1234, 90573);\n",
    "INSERT INTO ENROLLMENT VALUES(1234, 48387);\n",
    "INSERT INTO ENROLLMENT VALUES(5337, 90573);"
   ]
  },
  {
   "cell_type": "code",
   "execution_count": 62,
   "metadata": {
    "collapsed": false
   },
   "outputs": [
    {
     "name": "stdout",
     "output_type": "stream",
     "text": [
      "Done.\n"
     ]
    },
    {
     "data": {
      "text/html": [
       "<table>\n",
       "    <tr>\n",
       "        <th>StudentID</th>\n",
       "        <th>CourseID</th>\n",
       "    </tr>\n",
       "    <tr>\n",
       "        <td>1234</td>\n",
       "        <td>85675</td>\n",
       "    </tr>\n",
       "    <tr>\n",
       "        <td>5678</td>\n",
       "        <td>85675</td>\n",
       "    </tr>\n",
       "    <tr>\n",
       "        <td>3456</td>\n",
       "        <td>85675</td>\n",
       "    </tr>\n",
       "    <tr>\n",
       "        <td>4590</td>\n",
       "        <td>85675</td>\n",
       "    </tr>\n",
       "    <tr>\n",
       "        <td>5337</td>\n",
       "        <td>85675</td>\n",
       "    </tr>\n",
       "    <tr>\n",
       "        <td>5555</td>\n",
       "        <td>85675</td>\n",
       "    </tr>\n",
       "    <tr>\n",
       "        <td>1234</td>\n",
       "        <td>56738</td>\n",
       "    </tr>\n",
       "    <tr>\n",
       "        <td>5678</td>\n",
       "        <td>56738</td>\n",
       "    </tr>\n",
       "    <tr>\n",
       "        <td>3456</td>\n",
       "        <td>56738</td>\n",
       "    </tr>\n",
       "    <tr>\n",
       "        <td>4590</td>\n",
       "        <td>56738</td>\n",
       "    </tr>\n",
       "    <tr>\n",
       "        <td>5337</td>\n",
       "        <td>56738</td>\n",
       "    </tr>\n",
       "    <tr>\n",
       "        <td>5555</td>\n",
       "        <td>56738</td>\n",
       "    </tr>\n",
       "    <tr>\n",
       "        <td>1234</td>\n",
       "        <td>89994</td>\n",
       "    </tr>\n",
       "    <tr>\n",
       "        <td>1234</td>\n",
       "        <td>90573</td>\n",
       "    </tr>\n",
       "    <tr>\n",
       "        <td>1234</td>\n",
       "        <td>48387</td>\n",
       "    </tr>\n",
       "    <tr>\n",
       "        <td>5337</td>\n",
       "        <td>90573</td>\n",
       "    </tr>\n",
       "</table>"
      ],
      "text/plain": [
       "[(1234, 85675),\n",
       " (5678, 85675),\n",
       " (3456, 85675),\n",
       " (4590, 85675),\n",
       " (5337, 85675),\n",
       " (5555, 85675),\n",
       " (1234, 56738),\n",
       " (5678, 56738),\n",
       " (3456, 56738),\n",
       " (4590, 56738),\n",
       " (5337, 56738),\n",
       " (5555, 56738),\n",
       " (1234, 89994),\n",
       " (1234, 90573),\n",
       " (1234, 48387),\n",
       " (5337, 90573)]"
      ]
     },
     "execution_count": 62,
     "metadata": {},
     "output_type": "execute_result"
    }
   ],
   "source": [
    "%%sql\n",
    "SELECT * FROM ENROLLMENT;"
   ]
  },
  {
   "cell_type": "code",
   "execution_count": 8,
   "metadata": {
    "collapsed": false
   },
   "outputs": [
    {
     "name": "stdout",
     "output_type": "stream",
     "text": [
      "1 rows affected.\n",
      "1 rows affected.\n",
      "1 rows affected.\n",
      "1 rows affected.\n",
      "1 rows affected.\n",
      "1 rows affected.\n",
      "1 rows affected.\n",
      "1 rows affected.\n",
      "1 rows affected.\n",
      "1 rows affected.\n",
      "1 rows affected.\n",
      "1 rows affected.\n",
      "1 rows affected.\n",
      "1 rows affected.\n",
      "1 rows affected.\n",
      "1 rows affected.\n",
      "1 rows affected.\n",
      "1 rows affected.\n",
      "1 rows affected.\n",
      "1 rows affected.\n"
     ]
    },
    {
     "data": {
      "text/plain": [
       "[]"
      ]
     },
     "execution_count": 8,
     "metadata": {},
     "output_type": "execute_result"
    }
   ],
   "source": [
    "%%sql \n",
    "INSERT INTO DISTRIBUTION VALUES(1, 85675, 'Quiz', 50);\n",
    "INSERT INTO DISTRIBUTION VALUES(2, 85675, 'HW', 10);\n",
    "INSERT INTO DISTRIBUTION VALUES(3, 85675, 'MidTerm', 20);\n",
    "INSERT INTO DISTRIBUTION VALUES(4, 85675, 'Final', 20);\n",
    "\n",
    "INSERT INTO DISTRIBUTION VALUES(5, 89994, 'Participation', 40);\n",
    "INSERT INTO DISTRIBUTION VALUES(6, 89994, 'HW', 10);\n",
    "INSERT INTO DISTRIBUTION VALUES(7, 89994, 'MidTerm', 25);\n",
    "INSERT INTO DISTRIBUTION VALUES(8, 89994, 'Final', 25);\n",
    "\n",
    "INSERT INTO DISTRIBUTION VALUES(9, 56738, 'Quiz', 40);\n",
    "INSERT INTO DISTRIBUTION VALUES(10, 56738, 'HW', 15);\n",
    "INSERT INTO DISTRIBUTION VALUES(11, 56738, 'MidTerm', 20);\n",
    "INSERT INTO DISTRIBUTION VALUES(12, 56738, 'Final', 25);\n",
    "\n",
    "INSERT INTO DISTRIBUTION VALUES(13, 90573, 'Quiz', 20);\n",
    "INSERT INTO DISTRIBUTION VALUES(14, 90573, 'HW', 25);\n",
    "INSERT INTO DISTRIBUTION VALUES(15, 90573, 'Project', 30);\n",
    "INSERT INTO DISTRIBUTION VALUES(16, 90573, 'Final', 25);\n",
    "\n",
    "INSERT INTO DISTRIBUTION VALUES(17, 48387, 'Quiz', 30);\n",
    "INSERT INTO DISTRIBUTION VALUES(18, 48387, 'HW', 25);\n",
    "INSERT INTO DISTRIBUTION VALUES(19, 48387, 'Project', 20);\n",
    "INSERT INTO DISTRIBUTION VALUES(20, 48387, 'Final', 25);"
   ]
  },
  {
   "cell_type": "code",
   "execution_count": 59,
   "metadata": {
    "collapsed": false
   },
   "outputs": [
    {
     "name": "stdout",
     "output_type": "stream",
     "text": [
      "Done.\n"
     ]
    },
    {
     "data": {
      "text/html": [
       "<table>\n",
       "    <tr>\n",
       "        <th>DistributionID</th>\n",
       "        <th>CourseID</th>\n",
       "        <th>CategoryName</th>\n",
       "        <th>PERCENTAGE</th>\n",
       "    </tr>\n",
       "    <tr>\n",
       "        <td>1</td>\n",
       "        <td>85675</td>\n",
       "        <td>Quiz</td>\n",
       "        <td>50</td>\n",
       "    </tr>\n",
       "    <tr>\n",
       "        <td>2</td>\n",
       "        <td>85675</td>\n",
       "        <td>HW</td>\n",
       "        <td>10</td>\n",
       "    </tr>\n",
       "    <tr>\n",
       "        <td>3</td>\n",
       "        <td>85675</td>\n",
       "        <td>MidTerm</td>\n",
       "        <td>20</td>\n",
       "    </tr>\n",
       "    <tr>\n",
       "        <td>4</td>\n",
       "        <td>85675</td>\n",
       "        <td>Final</td>\n",
       "        <td>20</td>\n",
       "    </tr>\n",
       "    <tr>\n",
       "        <td>5</td>\n",
       "        <td>89994</td>\n",
       "        <td>Participation</td>\n",
       "        <td>40</td>\n",
       "    </tr>\n",
       "    <tr>\n",
       "        <td>6</td>\n",
       "        <td>89994</td>\n",
       "        <td>HW</td>\n",
       "        <td>10</td>\n",
       "    </tr>\n",
       "    <tr>\n",
       "        <td>7</td>\n",
       "        <td>89994</td>\n",
       "        <td>MidTerm</td>\n",
       "        <td>25</td>\n",
       "    </tr>\n",
       "    <tr>\n",
       "        <td>8</td>\n",
       "        <td>89994</td>\n",
       "        <td>Final</td>\n",
       "        <td>25</td>\n",
       "    </tr>\n",
       "    <tr>\n",
       "        <td>9</td>\n",
       "        <td>56738</td>\n",
       "        <td>Quiz</td>\n",
       "        <td>40</td>\n",
       "    </tr>\n",
       "    <tr>\n",
       "        <td>10</td>\n",
       "        <td>56738</td>\n",
       "        <td>HW</td>\n",
       "        <td>15</td>\n",
       "    </tr>\n",
       "    <tr>\n",
       "        <td>11</td>\n",
       "        <td>56738</td>\n",
       "        <td>MidTerm</td>\n",
       "        <td>20</td>\n",
       "    </tr>\n",
       "    <tr>\n",
       "        <td>12</td>\n",
       "        <td>56738</td>\n",
       "        <td>Final</td>\n",
       "        <td>25</td>\n",
       "    </tr>\n",
       "    <tr>\n",
       "        <td>13</td>\n",
       "        <td>90573</td>\n",
       "        <td>Quiz</td>\n",
       "        <td>20</td>\n",
       "    </tr>\n",
       "    <tr>\n",
       "        <td>14</td>\n",
       "        <td>90573</td>\n",
       "        <td>HW</td>\n",
       "        <td>25</td>\n",
       "    </tr>\n",
       "    <tr>\n",
       "        <td>15</td>\n",
       "        <td>90573</td>\n",
       "        <td>Project</td>\n",
       "        <td>30</td>\n",
       "    </tr>\n",
       "    <tr>\n",
       "        <td>16</td>\n",
       "        <td>90573</td>\n",
       "        <td>Final</td>\n",
       "        <td>25</td>\n",
       "    </tr>\n",
       "    <tr>\n",
       "        <td>17</td>\n",
       "        <td>48387</td>\n",
       "        <td>Quiz</td>\n",
       "        <td>30</td>\n",
       "    </tr>\n",
       "    <tr>\n",
       "        <td>18</td>\n",
       "        <td>48387</td>\n",
       "        <td>HW</td>\n",
       "        <td>25</td>\n",
       "    </tr>\n",
       "    <tr>\n",
       "        <td>19</td>\n",
       "        <td>48387</td>\n",
       "        <td>Project</td>\n",
       "        <td>20</td>\n",
       "    </tr>\n",
       "    <tr>\n",
       "        <td>20</td>\n",
       "        <td>48387</td>\n",
       "        <td>Final</td>\n",
       "        <td>25</td>\n",
       "    </tr>\n",
       "</table>"
      ],
      "text/plain": [
       "[(1, 85675, u'Quiz', 50),\n",
       " (2, 85675, u'HW', 10),\n",
       " (3, 85675, u'MidTerm', 20),\n",
       " (4, 85675, u'Final', 20),\n",
       " (5, 89994, u'Participation', 40),\n",
       " (6, 89994, u'HW', 10),\n",
       " (7, 89994, u'MidTerm', 25),\n",
       " (8, 89994, u'Final', 25),\n",
       " (9, 56738, u'Quiz', 40),\n",
       " (10, 56738, u'HW', 15),\n",
       " (11, 56738, u'MidTerm', 20),\n",
       " (12, 56738, u'Final', 25),\n",
       " (13, 90573, u'Quiz', 20),\n",
       " (14, 90573, u'HW', 25),\n",
       " (15, 90573, u'Project', 30),\n",
       " (16, 90573, u'Final', 25),\n",
       " (17, 48387, u'Quiz', 30),\n",
       " (18, 48387, u'HW', 25),\n",
       " (19, 48387, u'Project', 20),\n",
       " (20, 48387, u'Final', 25)]"
      ]
     },
     "execution_count": 59,
     "metadata": {},
     "output_type": "execute_result"
    }
   ],
   "source": [
    "%%sql\n",
    "SELECT * FROM DISTRIBUTION;"
   ]
  },
  {
   "cell_type": "code",
   "execution_count": 17,
   "metadata": {
    "collapsed": false
   },
   "outputs": [
    {
     "name": "stdout",
     "output_type": "stream",
     "text": [
      "1 rows affected.\n",
      "1 rows affected.\n",
      "1 rows affected.\n",
      "1 rows affected.\n",
      "1 rows affected.\n",
      "1 rows affected.\n",
      "1 rows affected.\n",
      "1 rows affected.\n",
      "1 rows affected.\n",
      "1 rows affected.\n",
      "1 rows affected.\n",
      "1 rows affected.\n",
      "1 rows affected.\n",
      "1 rows affected.\n",
      "1 rows affected.\n",
      "1 rows affected.\n",
      "1 rows affected.\n",
      "1 rows affected.\n",
      "1 rows affected.\n",
      "1 rows affected.\n",
      "1 rows affected.\n",
      "1 rows affected.\n",
      "1 rows affected.\n",
      "1 rows affected.\n",
      "1 rows affected.\n",
      "1 rows affected.\n",
      "1 rows affected.\n",
      "1 rows affected.\n",
      "1 rows affected.\n",
      "1 rows affected.\n",
      "1 rows affected.\n",
      "1 rows affected.\n",
      "1 rows affected.\n",
      "1 rows affected.\n",
      "1 rows affected.\n",
      "1 rows affected.\n",
      "1 rows affected.\n",
      "1 rows affected.\n",
      "1 rows affected.\n",
      "1 rows affected.\n"
     ]
    },
    {
     "data": {
      "text/plain": [
       "[]"
      ]
     },
     "execution_count": 17,
     "metadata": {},
     "output_type": "execute_result"
    }
   ],
   "source": [
    "%%sql\n",
    "INSERT INTO ASSIGNMENT VALUES(1, 1, 1, 100);\n",
    "INSERT INTO ASSIGNMENT VALUES(2, 1, 2, 100);\n",
    "\n",
    "INSERT INTO ASSIGNMENT VALUES(3, 2, 1, 100);\n",
    "INSERT INTO ASSIGNMENT VALUES(4, 2, 2, 100);\n",
    "\n",
    "INSERT INTO ASSIGNMENT VALUES(5, 3, 1, 100);\n",
    "INSERT INTO ASSIGNMENT VALUES(6, 3, 2, 100);\n",
    "\n",
    "INSERT INTO ASSIGNMENT VALUES(7, 4, 1, 100);\n",
    "INSERT INTO ASSIGNMENT VALUES(8, 4, 2, 100);\n",
    "\n",
    "INSERT INTO ASSIGNMENT VALUES(9, 5, 1, 100);\n",
    "INSERT INTO ASSIGNMENT VALUES(10, 5, 2, 100);\n",
    "\n",
    "INSERT INTO ASSIGNMENT VALUES(11, 6, 1, 100);\n",
    "INSERT INTO ASSIGNMENT VALUES(12, 6, 2, 100);\n",
    "\n",
    "INSERT INTO ASSIGNMENT VALUES(13, 7, 1, 100);\n",
    "INSERT INTO ASSIGNMENT VALUES(14, 7, 2, 100);\n",
    "\n",
    "INSERT INTO ASSIGNMENT VALUES(15, 8, 1, 100);\n",
    "INSERT INTO ASSIGNMENT VALUES(16, 8, 2, 100);\n",
    "\n",
    "INSERT INTO ASSIGNMENT VALUES(17, 9, 1, 100);\n",
    "INSERT INTO ASSIGNMENT VALUES(18, 9, 2, 100);\n",
    "\n",
    "INSERT INTO ASSIGNMENT VALUES(19, 10, 1, 100);\n",
    "INSERT INTO ASSIGNMENT VALUES(20, 10, 2, 100);\n",
    "\n",
    "INSERT INTO ASSIGNMENT VALUES(21, 11, 1, 100);\n",
    "INSERT INTO ASSIGNMENT VALUES(22, 11, 2, 100);\n",
    "\n",
    "INSERT INTO ASSIGNMENT VALUES(23, 12, 1, 100);\n",
    "INSERT INTO ASSIGNMENT VALUES(24, 12, 2, 100);\n",
    "\n",
    "INSERT INTO ASSIGNMENT VALUES(25, 13, 1, 100);\n",
    "INSERT INTO ASSIGNMENT VALUES(26, 13, 2, 100);\n",
    "\n",
    "INSERT INTO ASSIGNMENT VALUES(27, 14, 1, 100);\n",
    "INSERT INTO ASSIGNMENT VALUES(28, 14, 2, 100);\n",
    "\n",
    "INSERT INTO ASSIGNMENT VALUES(29, 15, 1, 100);\n",
    "INSERT INTO ASSIGNMENT VALUES(30, 15, 2, 100);\n",
    "\n",
    "INSERT INTO ASSIGNMENT VALUES(31, 16, 1, 100);\n",
    "INSERT INTO ASSIGNMENT VALUES(32, 16, 2, 100);\n",
    "\n",
    "INSERT INTO ASSIGNMENT VALUES(33, 17, 1, 100);\n",
    "INSERT INTO ASSIGNMENT VALUES(34, 17, 2, 100);\n",
    "\n",
    "INSERT INTO ASSIGNMENT VALUES(35, 18, 1, 100);\n",
    "INSERT INTO ASSIGNMENT VALUES(36, 18, 2, 100);\n",
    "\n",
    "INSERT INTO ASSIGNMENT VALUES(37, 19, 1, 100);\n",
    "INSERT INTO ASSIGNMENT VALUES(38, 19, 2, 100);\n",
    "\n",
    "INSERT INTO ASSIGNMENT VALUES(39, 20, 1, 100);\n",
    "INSERT INTO ASSIGNMENT VALUES(40, 20, 2, 100);"
   ]
  },
  {
   "cell_type": "code",
   "execution_count": 58,
   "metadata": {
    "collapsed": false
   },
   "outputs": [
    {
     "name": "stdout",
     "output_type": "stream",
     "text": [
      "Done.\n"
     ]
    },
    {
     "data": {
      "text/html": [
       "<table>\n",
       "    <tr>\n",
       "        <th>AssignmentID</th>\n",
       "        <th>DistributionID</th>\n",
       "        <th>Instance</th>\n",
       "        <th>PointsPossible</th>\n",
       "    </tr>\n",
       "    <tr>\n",
       "        <td>1</td>\n",
       "        <td>1</td>\n",
       "        <td>1</td>\n",
       "        <td>100</td>\n",
       "    </tr>\n",
       "    <tr>\n",
       "        <td>2</td>\n",
       "        <td>1</td>\n",
       "        <td>2</td>\n",
       "        <td>100</td>\n",
       "    </tr>\n",
       "    <tr>\n",
       "        <td>3</td>\n",
       "        <td>2</td>\n",
       "        <td>1</td>\n",
       "        <td>100</td>\n",
       "    </tr>\n",
       "    <tr>\n",
       "        <td>4</td>\n",
       "        <td>2</td>\n",
       "        <td>2</td>\n",
       "        <td>100</td>\n",
       "    </tr>\n",
       "    <tr>\n",
       "        <td>5</td>\n",
       "        <td>3</td>\n",
       "        <td>1</td>\n",
       "        <td>100</td>\n",
       "    </tr>\n",
       "    <tr>\n",
       "        <td>6</td>\n",
       "        <td>3</td>\n",
       "        <td>2</td>\n",
       "        <td>100</td>\n",
       "    </tr>\n",
       "    <tr>\n",
       "        <td>7</td>\n",
       "        <td>4</td>\n",
       "        <td>1</td>\n",
       "        <td>100</td>\n",
       "    </tr>\n",
       "    <tr>\n",
       "        <td>8</td>\n",
       "        <td>4</td>\n",
       "        <td>2</td>\n",
       "        <td>100</td>\n",
       "    </tr>\n",
       "    <tr>\n",
       "        <td>9</td>\n",
       "        <td>5</td>\n",
       "        <td>1</td>\n",
       "        <td>100</td>\n",
       "    </tr>\n",
       "    <tr>\n",
       "        <td>10</td>\n",
       "        <td>5</td>\n",
       "        <td>2</td>\n",
       "        <td>100</td>\n",
       "    </tr>\n",
       "    <tr>\n",
       "        <td>11</td>\n",
       "        <td>6</td>\n",
       "        <td>1</td>\n",
       "        <td>100</td>\n",
       "    </tr>\n",
       "    <tr>\n",
       "        <td>12</td>\n",
       "        <td>6</td>\n",
       "        <td>2</td>\n",
       "        <td>100</td>\n",
       "    </tr>\n",
       "    <tr>\n",
       "        <td>13</td>\n",
       "        <td>7</td>\n",
       "        <td>1</td>\n",
       "        <td>100</td>\n",
       "    </tr>\n",
       "    <tr>\n",
       "        <td>14</td>\n",
       "        <td>7</td>\n",
       "        <td>2</td>\n",
       "        <td>100</td>\n",
       "    </tr>\n",
       "    <tr>\n",
       "        <td>15</td>\n",
       "        <td>8</td>\n",
       "        <td>1</td>\n",
       "        <td>100</td>\n",
       "    </tr>\n",
       "    <tr>\n",
       "        <td>16</td>\n",
       "        <td>8</td>\n",
       "        <td>2</td>\n",
       "        <td>100</td>\n",
       "    </tr>\n",
       "    <tr>\n",
       "        <td>17</td>\n",
       "        <td>9</td>\n",
       "        <td>1</td>\n",
       "        <td>100</td>\n",
       "    </tr>\n",
       "    <tr>\n",
       "        <td>18</td>\n",
       "        <td>9</td>\n",
       "        <td>2</td>\n",
       "        <td>100</td>\n",
       "    </tr>\n",
       "    <tr>\n",
       "        <td>19</td>\n",
       "        <td>10</td>\n",
       "        <td>1</td>\n",
       "        <td>100</td>\n",
       "    </tr>\n",
       "    <tr>\n",
       "        <td>20</td>\n",
       "        <td>10</td>\n",
       "        <td>2</td>\n",
       "        <td>100</td>\n",
       "    </tr>\n",
       "    <tr>\n",
       "        <td>21</td>\n",
       "        <td>11</td>\n",
       "        <td>1</td>\n",
       "        <td>100</td>\n",
       "    </tr>\n",
       "    <tr>\n",
       "        <td>22</td>\n",
       "        <td>11</td>\n",
       "        <td>2</td>\n",
       "        <td>100</td>\n",
       "    </tr>\n",
       "    <tr>\n",
       "        <td>23</td>\n",
       "        <td>12</td>\n",
       "        <td>1</td>\n",
       "        <td>100</td>\n",
       "    </tr>\n",
       "    <tr>\n",
       "        <td>24</td>\n",
       "        <td>12</td>\n",
       "        <td>2</td>\n",
       "        <td>100</td>\n",
       "    </tr>\n",
       "    <tr>\n",
       "        <td>25</td>\n",
       "        <td>13</td>\n",
       "        <td>1</td>\n",
       "        <td>100</td>\n",
       "    </tr>\n",
       "    <tr>\n",
       "        <td>26</td>\n",
       "        <td>13</td>\n",
       "        <td>2</td>\n",
       "        <td>100</td>\n",
       "    </tr>\n",
       "    <tr>\n",
       "        <td>27</td>\n",
       "        <td>14</td>\n",
       "        <td>1</td>\n",
       "        <td>100</td>\n",
       "    </tr>\n",
       "    <tr>\n",
       "        <td>28</td>\n",
       "        <td>14</td>\n",
       "        <td>2</td>\n",
       "        <td>100</td>\n",
       "    </tr>\n",
       "    <tr>\n",
       "        <td>29</td>\n",
       "        <td>15</td>\n",
       "        <td>1</td>\n",
       "        <td>100</td>\n",
       "    </tr>\n",
       "    <tr>\n",
       "        <td>30</td>\n",
       "        <td>15</td>\n",
       "        <td>2</td>\n",
       "        <td>100</td>\n",
       "    </tr>\n",
       "    <tr>\n",
       "        <td>31</td>\n",
       "        <td>16</td>\n",
       "        <td>1</td>\n",
       "        <td>100</td>\n",
       "    </tr>\n",
       "    <tr>\n",
       "        <td>32</td>\n",
       "        <td>16</td>\n",
       "        <td>2</td>\n",
       "        <td>100</td>\n",
       "    </tr>\n",
       "    <tr>\n",
       "        <td>33</td>\n",
       "        <td>17</td>\n",
       "        <td>1</td>\n",
       "        <td>100</td>\n",
       "    </tr>\n",
       "    <tr>\n",
       "        <td>34</td>\n",
       "        <td>17</td>\n",
       "        <td>2</td>\n",
       "        <td>100</td>\n",
       "    </tr>\n",
       "    <tr>\n",
       "        <td>35</td>\n",
       "        <td>18</td>\n",
       "        <td>1</td>\n",
       "        <td>100</td>\n",
       "    </tr>\n",
       "    <tr>\n",
       "        <td>36</td>\n",
       "        <td>18</td>\n",
       "        <td>2</td>\n",
       "        <td>100</td>\n",
       "    </tr>\n",
       "    <tr>\n",
       "        <td>37</td>\n",
       "        <td>19</td>\n",
       "        <td>1</td>\n",
       "        <td>100</td>\n",
       "    </tr>\n",
       "    <tr>\n",
       "        <td>38</td>\n",
       "        <td>19</td>\n",
       "        <td>2</td>\n",
       "        <td>100</td>\n",
       "    </tr>\n",
       "    <tr>\n",
       "        <td>39</td>\n",
       "        <td>20</td>\n",
       "        <td>1</td>\n",
       "        <td>100</td>\n",
       "    </tr>\n",
       "    <tr>\n",
       "        <td>40</td>\n",
       "        <td>20</td>\n",
       "        <td>2</td>\n",
       "        <td>100</td>\n",
       "    </tr>\n",
       "</table>"
      ],
      "text/plain": [
       "[(1, 1, 1, 100),\n",
       " (2, 1, 2, 100),\n",
       " (3, 2, 1, 100),\n",
       " (4, 2, 2, 100),\n",
       " (5, 3, 1, 100),\n",
       " (6, 3, 2, 100),\n",
       " (7, 4, 1, 100),\n",
       " (8, 4, 2, 100),\n",
       " (9, 5, 1, 100),\n",
       " (10, 5, 2, 100),\n",
       " (11, 6, 1, 100),\n",
       " (12, 6, 2, 100),\n",
       " (13, 7, 1, 100),\n",
       " (14, 7, 2, 100),\n",
       " (15, 8, 1, 100),\n",
       " (16, 8, 2, 100),\n",
       " (17, 9, 1, 100),\n",
       " (18, 9, 2, 100),\n",
       " (19, 10, 1, 100),\n",
       " (20, 10, 2, 100),\n",
       " (21, 11, 1, 100),\n",
       " (22, 11, 2, 100),\n",
       " (23, 12, 1, 100),\n",
       " (24, 12, 2, 100),\n",
       " (25, 13, 1, 100),\n",
       " (26, 13, 2, 100),\n",
       " (27, 14, 1, 100),\n",
       " (28, 14, 2, 100),\n",
       " (29, 15, 1, 100),\n",
       " (30, 15, 2, 100),\n",
       " (31, 16, 1, 100),\n",
       " (32, 16, 2, 100),\n",
       " (33, 17, 1, 100),\n",
       " (34, 17, 2, 100),\n",
       " (35, 18, 1, 100),\n",
       " (36, 18, 2, 100),\n",
       " (37, 19, 1, 100),\n",
       " (38, 19, 2, 100),\n",
       " (39, 20, 1, 100),\n",
       " (40, 20, 2, 100)]"
      ]
     },
     "execution_count": 58,
     "metadata": {},
     "output_type": "execute_result"
    }
   ],
   "source": [
    "%%sql\n",
    "SELECT * FROM ASSIGNMENT;"
   ]
  },
  {
   "cell_type": "code",
   "execution_count": 19,
   "metadata": {
    "collapsed": false
   },
   "outputs": [
    {
     "name": "stdout",
     "output_type": "stream",
     "text": [
      "1 rows affected.\n",
      "1 rows affected.\n",
      "1 rows affected.\n",
      "1 rows affected.\n",
      "1 rows affected.\n",
      "1 rows affected.\n",
      "1 rows affected.\n",
      "1 rows affected.\n",
      "1 rows affected.\n",
      "1 rows affected.\n",
      "1 rows affected.\n",
      "1 rows affected.\n",
      "1 rows affected.\n",
      "1 rows affected.\n",
      "1 rows affected.\n",
      "1 rows affected.\n",
      "1 rows affected.\n",
      "1 rows affected.\n",
      "1 rows affected.\n",
      "1 rows affected.\n",
      "1 rows affected.\n",
      "1 rows affected.\n"
     ]
    },
    {
     "data": {
      "text/plain": [
       "[]"
      ]
     },
     "execution_count": 19,
     "metadata": {},
     "output_type": "execute_result"
    }
   ],
   "source": [
    "%%sql\n",
    "INSERT INTO SCORE VALUES(1234, 1, 85);\n",
    "INSERT INTO SCORE VALUES(5678, 1, 80);\n",
    "INSERT INTO SCORE VALUES(3456, 1, 95);\n",
    "INSERT INTO SCORE VALUES(4590, 1, 65);\n",
    "INSERT INTO SCORE VALUES(5337, 1, 100);\n",
    "INSERT INTO SCORE VALUES(5555, 1, 93);\n",
    "\n",
    "INSERT INTO SCORE VALUES(1234, 2, 81);\n",
    "INSERT INTO SCORE VALUES(5678, 2, 84);\n",
    "INSERT INTO SCORE VALUES(3456, 2, 95);\n",
    "INSERT INTO SCORE VALUES(4590, 2, 62);\n",
    "INSERT INTO SCORE VALUES(5337, 2, 90);\n",
    "INSERT INTO SCORE VALUES(5555, 2, 93);\n",
    "\n",
    "\n",
    "INSERT INTO SCORE VALUES(1234, 18, 87);\n",
    "INSERT INTO SCORE VALUES(5678, 18, 94);\n",
    "INSERT INTO SCORE VALUES(3456, 18, 55);\n",
    "INSERT INTO SCORE VALUES(4590, 18, 72);\n",
    "INSERT INTO SCORE VALUES(5337, 18, 0);\n",
    "INSERT INTO SCORE VALUES(5555, 18, 99);\n",
    "\n",
    "INSERT INTO SCORE VALUES(1234, 16, 80);\n",
    "INSERT INTO SCORE VALUES(1234, 30, 85);\n",
    "INSERT INTO SCORE VALUES(1234, 40, 95);\n",
    "\n",
    "INSERT INTO SCORE VALUES(5337, 26, 78);"
   ]
  },
  {
   "cell_type": "code",
   "execution_count": 57,
   "metadata": {
    "collapsed": false
   },
   "outputs": [
    {
     "name": "stdout",
     "output_type": "stream",
     "text": [
      "Done.\n"
     ]
    },
    {
     "data": {
      "text/html": [
       "<table>\n",
       "    <tr>\n",
       "        <th>StudentID</th>\n",
       "        <th>AssignmentID</th>\n",
       "        <th>Points</th>\n",
       "    </tr>\n",
       "    <tr>\n",
       "        <td>1234</td>\n",
       "        <td>1</td>\n",
       "        <td>85</td>\n",
       "    </tr>\n",
       "    <tr>\n",
       "        <td>5678</td>\n",
       "        <td>1</td>\n",
       "        <td>80</td>\n",
       "    </tr>\n",
       "    <tr>\n",
       "        <td>3456</td>\n",
       "        <td>1</td>\n",
       "        <td>95</td>\n",
       "    </tr>\n",
       "    <tr>\n",
       "        <td>4590</td>\n",
       "        <td>1</td>\n",
       "        <td>65</td>\n",
       "    </tr>\n",
       "    <tr>\n",
       "        <td>5337</td>\n",
       "        <td>1</td>\n",
       "        <td>100</td>\n",
       "    </tr>\n",
       "    <tr>\n",
       "        <td>5555</td>\n",
       "        <td>1</td>\n",
       "        <td>93</td>\n",
       "    </tr>\n",
       "    <tr>\n",
       "        <td>1234</td>\n",
       "        <td>2</td>\n",
       "        <td>81</td>\n",
       "    </tr>\n",
       "    <tr>\n",
       "        <td>5678</td>\n",
       "        <td>2</td>\n",
       "        <td>84</td>\n",
       "    </tr>\n",
       "    <tr>\n",
       "        <td>3456</td>\n",
       "        <td>2</td>\n",
       "        <td>95</td>\n",
       "    </tr>\n",
       "    <tr>\n",
       "        <td>4590</td>\n",
       "        <td>2</td>\n",
       "        <td>62</td>\n",
       "    </tr>\n",
       "    <tr>\n",
       "        <td>5337</td>\n",
       "        <td>2</td>\n",
       "        <td>90</td>\n",
       "    </tr>\n",
       "    <tr>\n",
       "        <td>5555</td>\n",
       "        <td>2</td>\n",
       "        <td>93</td>\n",
       "    </tr>\n",
       "    <tr>\n",
       "        <td>1234</td>\n",
       "        <td>18</td>\n",
       "        <td>87</td>\n",
       "    </tr>\n",
       "    <tr>\n",
       "        <td>5678</td>\n",
       "        <td>18</td>\n",
       "        <td>94</td>\n",
       "    </tr>\n",
       "    <tr>\n",
       "        <td>3456</td>\n",
       "        <td>18</td>\n",
       "        <td>55</td>\n",
       "    </tr>\n",
       "    <tr>\n",
       "        <td>4590</td>\n",
       "        <td>18</td>\n",
       "        <td>72</td>\n",
       "    </tr>\n",
       "    <tr>\n",
       "        <td>5337</td>\n",
       "        <td>18</td>\n",
       "        <td>0</td>\n",
       "    </tr>\n",
       "    <tr>\n",
       "        <td>5555</td>\n",
       "        <td>18</td>\n",
       "        <td>99</td>\n",
       "    </tr>\n",
       "    <tr>\n",
       "        <td>1234</td>\n",
       "        <td>16</td>\n",
       "        <td>80</td>\n",
       "    </tr>\n",
       "    <tr>\n",
       "        <td>1234</td>\n",
       "        <td>30</td>\n",
       "        <td>85</td>\n",
       "    </tr>\n",
       "    <tr>\n",
       "        <td>1234</td>\n",
       "        <td>40</td>\n",
       "        <td>95</td>\n",
       "    </tr>\n",
       "    <tr>\n",
       "        <td>5337</td>\n",
       "        <td>26</td>\n",
       "        <td>78</td>\n",
       "    </tr>\n",
       "</table>"
      ],
      "text/plain": [
       "[(1234, 1, 85),\n",
       " (5678, 1, 80),\n",
       " (3456, 1, 95),\n",
       " (4590, 1, 65),\n",
       " (5337, 1, 100),\n",
       " (5555, 1, 93),\n",
       " (1234, 2, 81),\n",
       " (5678, 2, 84),\n",
       " (3456, 2, 95),\n",
       " (4590, 2, 62),\n",
       " (5337, 2, 90),\n",
       " (5555, 2, 93),\n",
       " (1234, 18, 87),\n",
       " (5678, 18, 94),\n",
       " (3456, 18, 55),\n",
       " (4590, 18, 72),\n",
       " (5337, 18, 0),\n",
       " (5555, 18, 99),\n",
       " (1234, 16, 80),\n",
       " (1234, 30, 85),\n",
       " (1234, 40, 95),\n",
       " (5337, 26, 78)]"
      ]
     },
     "execution_count": 57,
     "metadata": {},
     "output_type": "execute_result"
    }
   ],
   "source": [
    "%%sql\n",
    "SELECT * FROM SCORE;"
   ]
  },
  {
   "cell_type": "code",
   "execution_count": 56,
   "metadata": {
    "collapsed": false
   },
   "outputs": [
    {
     "name": "stdout",
     "output_type": "stream",
     "text": [
      "Done.\n"
     ]
    },
    {
     "data": {
      "text/html": [
       "<table>\n",
       "    <tr>\n",
       "        <th>AVG(Points)</th>\n",
       "    </tr>\n",
       "    <tr>\n",
       "        <td>86.3333333333</td>\n",
       "    </tr>\n",
       "</table>"
      ],
      "text/plain": [
       "[(86.33333333333333,)]"
      ]
     },
     "execution_count": 56,
     "metadata": {},
     "output_type": "execute_result"
    }
   ],
   "source": [
    "%%sql\n",
    "/*Calculating average score for assignment 1.*/\n",
    "SELECT AVG(Points) FROM SCORE WHERE AssignmentID = 1;"
   ]
  },
  {
   "cell_type": "code",
   "execution_count": 55,
   "metadata": {
    "collapsed": false
   },
   "outputs": [
    {
     "name": "stdout",
     "output_type": "stream",
     "text": [
      "Done.\n"
     ]
    },
    {
     "data": {
      "text/html": [
       "<table>\n",
       "    <tr>\n",
       "        <th>MAX(Points)</th>\n",
       "    </tr>\n",
       "    <tr>\n",
       "        <td>100</td>\n",
       "    </tr>\n",
       "</table>"
      ],
      "text/plain": [
       "[(100,)]"
      ]
     },
     "execution_count": 55,
     "metadata": {},
     "output_type": "execute_result"
    }
   ],
   "source": [
    "%%sql\n",
    "/*Calculating highest score for assignment 1. */\n",
    "SELECT MAX(Points) FROM SCORE WHERE AssignmentID = 1;"
   ]
  },
  {
   "cell_type": "code",
   "execution_count": 54,
   "metadata": {
    "collapsed": false
   },
   "outputs": [
    {
     "name": "stdout",
     "output_type": "stream",
     "text": [
      "Done.\n"
     ]
    },
    {
     "data": {
      "text/html": [
       "<table>\n",
       "    <tr>\n",
       "        <th>MIN(Points)</th>\n",
       "    </tr>\n",
       "    <tr>\n",
       "        <td>65</td>\n",
       "    </tr>\n",
       "</table>"
      ],
      "text/plain": [
       "[(65,)]"
      ]
     },
     "execution_count": 54,
     "metadata": {},
     "output_type": "execute_result"
    }
   ],
   "source": [
    "%%sql\n",
    "/*Calculating lowest score for assignment 1. */\n",
    "SELECT MIN(Points) FROM SCORE WHERE AssignmentID = 1;"
   ]
  },
  {
   "cell_type": "code",
   "execution_count": 79,
   "metadata": {
    "collapsed": false
   },
   "outputs": [
    {
     "name": "stdout",
     "output_type": "stream",
     "text": [
      "Done.\n"
     ]
    },
    {
     "data": {
      "text/html": [
       "<table>\n",
       "    <tr>\n",
       "        <th>StudentID</th>\n",
       "        <th>FirstName</th>\n",
       "        <th>LastName</th>\n",
       "        <th>Major</th>\n",
       "        <th>CourseID</th>\n",
       "    </tr>\n",
       "    <tr>\n",
       "        <td>1234</td>\n",
       "        <td>Richard</td>\n",
       "        <td>Hendricks</td>\n",
       "        <td>Computer Science</td>\n",
       "        <td>85675</td>\n",
       "    </tr>\n",
       "    <tr>\n",
       "        <td>5678</td>\n",
       "        <td>Jared</td>\n",
       "        <td>Dunn</td>\n",
       "        <td>Management Science</td>\n",
       "        <td>85675</td>\n",
       "    </tr>\n",
       "    <tr>\n",
       "        <td>3456</td>\n",
       "        <td>Erlich</td>\n",
       "        <td>Bachman</td>\n",
       "        <td>Aviato</td>\n",
       "        <td>85675</td>\n",
       "    </tr>\n",
       "    <tr>\n",
       "        <td>4590</td>\n",
       "        <td>Jimmy</td>\n",
       "        <td>Quoyang</td>\n",
       "        <td>Marine Biology</td>\n",
       "        <td>85675</td>\n",
       "    </tr>\n",
       "    <tr>\n",
       "        <td>5337</td>\n",
       "        <td>Dinesh</td>\n",
       "        <td>Gilfoyle</td>\n",
       "        <td>Computer Engineering</td>\n",
       "        <td>85675</td>\n",
       "    </tr>\n",
       "    <tr>\n",
       "        <td>5555</td>\n",
       "        <td>John</td>\n",
       "        <td>Doe</td>\n",
       "        <td>English</td>\n",
       "        <td>85675</td>\n",
       "    </tr>\n",
       "</table>"
      ],
      "text/plain": [
       "[(1234, u'Richard', u'Hendricks', u'Computer Science', 85675),\n",
       " (5678, u'Jared', u'Dunn', u'Management Science', 85675),\n",
       " (3456, u'Erlich', u'Bachman', u'Aviato', 85675),\n",
       " (4590, u'Jimmy', u'Quoyang', u'Marine Biology', 85675),\n",
       " (5337, u'Dinesh', u'Gilfoyle', u'Computer Engineering', 85675),\n",
       " (5555, u'John', u'Doe', u'English', 85675)]"
      ]
     },
     "execution_count": 79,
     "metadata": {},
     "output_type": "execute_result"
    }
   ],
   "source": [
    "%%sql\n",
    "/* 5. List all of the students in a given course; \n",
    "Listing all students in Calculus 2 class */\n",
    "\n",
    "SELECT STUDENT.StudentID, FirstName, LastName, Major, CourseID\n",
    "FROM STUDENT JOIN ENROLLMENT\n",
    "WHERE CourseID = 85675\n",
    "AND STUDENT.StudentID = ENROLLMENT.StudentID;"
   ]
  },
  {
   "cell_type": "code",
   "execution_count": 32,
   "metadata": {
    "collapsed": false
   },
   "outputs": [
    {
     "name": "stdout",
     "output_type": "stream",
     "text": [
      "Done.\n"
     ]
    },
    {
     "data": {
      "text/html": [
       "<table>\n",
       "    <tr>\n",
       "        <th>pt.StudentID</th>\n",
       "        <th>st.FirstName</th>\n",
       "        <th>st.LastName</th>\n",
       "        <th>pt.CourseID</th>\n",
       "        <th>pt.AssignmentID</th>\n",
       "        <th>pt.CategoryName</th>\n",
       "        <th>pt.Points</th>\n",
       "    </tr>\n",
       "    <tr>\n",
       "        <td>1234</td>\n",
       "        <td>Richard</td>\n",
       "        <td>Hendricks</td>\n",
       "        <td>85675</td>\n",
       "        <td>1</td>\n",
       "        <td>Quiz</td>\n",
       "        <td>85</td>\n",
       "    </tr>\n",
       "    <tr>\n",
       "        <td>5678</td>\n",
       "        <td>Jared</td>\n",
       "        <td>Dunn</td>\n",
       "        <td>85675</td>\n",
       "        <td>1</td>\n",
       "        <td>Quiz</td>\n",
       "        <td>80</td>\n",
       "    </tr>\n",
       "    <tr>\n",
       "        <td>3456</td>\n",
       "        <td>Erlich</td>\n",
       "        <td>Bachman</td>\n",
       "        <td>85675</td>\n",
       "        <td>1</td>\n",
       "        <td>Quiz</td>\n",
       "        <td>95</td>\n",
       "    </tr>\n",
       "    <tr>\n",
       "        <td>4590</td>\n",
       "        <td>Jimmy</td>\n",
       "        <td>Quoyang</td>\n",
       "        <td>85675</td>\n",
       "        <td>1</td>\n",
       "        <td>Quiz</td>\n",
       "        <td>65</td>\n",
       "    </tr>\n",
       "    <tr>\n",
       "        <td>5337</td>\n",
       "        <td>Dinesh</td>\n",
       "        <td>Gilfoyle</td>\n",
       "        <td>85675</td>\n",
       "        <td>1</td>\n",
       "        <td>Quiz</td>\n",
       "        <td>100</td>\n",
       "    </tr>\n",
       "    <tr>\n",
       "        <td>5555</td>\n",
       "        <td>John</td>\n",
       "        <td>Doe</td>\n",
       "        <td>85675</td>\n",
       "        <td>1</td>\n",
       "        <td>Quiz</td>\n",
       "        <td>93</td>\n",
       "    </tr>\n",
       "    <tr>\n",
       "        <td>1234</td>\n",
       "        <td>Richard</td>\n",
       "        <td>Hendricks</td>\n",
       "        <td>85675</td>\n",
       "        <td>2</td>\n",
       "        <td>Quiz</td>\n",
       "        <td>81</td>\n",
       "    </tr>\n",
       "    <tr>\n",
       "        <td>5678</td>\n",
       "        <td>Jared</td>\n",
       "        <td>Dunn</td>\n",
       "        <td>85675</td>\n",
       "        <td>2</td>\n",
       "        <td>Quiz</td>\n",
       "        <td>84</td>\n",
       "    </tr>\n",
       "    <tr>\n",
       "        <td>3456</td>\n",
       "        <td>Erlich</td>\n",
       "        <td>Bachman</td>\n",
       "        <td>85675</td>\n",
       "        <td>2</td>\n",
       "        <td>Quiz</td>\n",
       "        <td>95</td>\n",
       "    </tr>\n",
       "    <tr>\n",
       "        <td>4590</td>\n",
       "        <td>Jimmy</td>\n",
       "        <td>Quoyang</td>\n",
       "        <td>85675</td>\n",
       "        <td>2</td>\n",
       "        <td>Quiz</td>\n",
       "        <td>62</td>\n",
       "    </tr>\n",
       "    <tr>\n",
       "        <td>5337</td>\n",
       "        <td>Dinesh</td>\n",
       "        <td>Gilfoyle</td>\n",
       "        <td>85675</td>\n",
       "        <td>2</td>\n",
       "        <td>Quiz</td>\n",
       "        <td>90</td>\n",
       "    </tr>\n",
       "    <tr>\n",
       "        <td>5555</td>\n",
       "        <td>John</td>\n",
       "        <td>Doe</td>\n",
       "        <td>85675</td>\n",
       "        <td>2</td>\n",
       "        <td>Quiz</td>\n",
       "        <td>93</td>\n",
       "    </tr>\n",
       "</table>"
      ],
      "text/plain": [
       "[(1234, u'Richard', u'Hendricks', 85675, 1, u'Quiz', 85),\n",
       " (5678, u'Jared', u'Dunn', 85675, 1, u'Quiz', 80),\n",
       " (3456, u'Erlich', u'Bachman', 85675, 1, u'Quiz', 95),\n",
       " (4590, u'Jimmy', u'Quoyang', 85675, 1, u'Quiz', 65),\n",
       " (5337, u'Dinesh', u'Gilfoyle', 85675, 1, u'Quiz', 100),\n",
       " (5555, u'John', u'Doe', 85675, 1, u'Quiz', 93),\n",
       " (1234, u'Richard', u'Hendricks', 85675, 2, u'Quiz', 81),\n",
       " (5678, u'Jared', u'Dunn', 85675, 2, u'Quiz', 84),\n",
       " (3456, u'Erlich', u'Bachman', 85675, 2, u'Quiz', 95),\n",
       " (4590, u'Jimmy', u'Quoyang', 85675, 2, u'Quiz', 62),\n",
       " (5337, u'Dinesh', u'Gilfoyle', 85675, 2, u'Quiz', 90),\n",
       " (5555, u'John', u'Doe', 85675, 2, u'Quiz', 93)]"
      ]
     },
     "execution_count": 32,
     "metadata": {},
     "output_type": "execute_result"
    }
   ],
   "source": [
    "%%sql \n",
    "/*List all of the students in a course and\n",
    "all of their scores on every assignment;\n",
    "Doing this for Calculus 2 class\n",
    "*/\n",
    "\n",
    "SELECT pt.StudentID, st.FirstName, st.LastName, pt.CourseID,pt.AssignmentID, pt.CategoryName, pt.Points \n",
    "FROM (SELECT STUDENT.StudentID, AssignmentID, FirstName, LastName, CourseID, Points\n",
    "FROM STUDENT JOIN ENROLLMENT JOIN SCORE\n",
    "WHERE CourseID = 85675\n",
    "AND STUDENT.StudentID = ENROLLMENT.StudentID\n",
    "AND STUDENT.StudentID = SCORE.StudentID) st \n",
    "JOIN \n",
    "(SELECT StudentID, CourseID, CategoryName, ASSIGNMENT.AssignmentID, Points\n",
    "FROM DISTRIBUTION JOIN ASSIGNMENT JOIN SCORE\n",
    "WHERE DISTRIBUTION.CourseID = 85675 \n",
    "AND DISTRIBUTION.DistributionID = ASSIGNMENT.DistributionID\n",
    "AND ASSIGNMENT.AssignmentID = SCORE.AssignmentID) pt\n",
    "WHERE st.AssignmentID = pt.AssignmentID\n",
    "AND st.Points = pt.Points;\n"
   ]
  },
  {
   "cell_type": "code",
   "execution_count": null,
   "metadata": {
    "collapsed": true
   },
   "outputs": [],
   "source": []
  }
 ],
 "metadata": {
  "kernelspec": {
   "display_name": "Python 2",
   "language": "python",
   "name": "python2"
  },
  "language_info": {
   "codemirror_mode": {
    "name": "ipython",
    "version": 2
   },
   "file_extension": ".py",
   "mimetype": "text/x-python",
   "name": "python",
   "nbconvert_exporter": "python",
   "pygments_lexer": "ipython2",
   "version": "2.7.13"
  }
 },
 "nbformat": 4,
 "nbformat_minor": 2
}
